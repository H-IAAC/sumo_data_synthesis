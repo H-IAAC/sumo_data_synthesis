{
 "cells": [
  {
   "cell_type": "code",
   "execution_count": 7,
   "id": "ed8b446e",
   "metadata": {},
   "outputs": [],
   "source": [
    "import os\n",
    "import sys\n",
    "import json\n",
    "import subprocess\n",
    "import shutil\n",
    "import random\n",
    "import re\n",
    "import math\n",
    "import carla\n",
    "import csv\n",
    "\n",
    "if 'SUMO_HOME' in os.environ:\n",
    "    sys.path.append(os.path.join(os.environ['SUMO_HOME'], 'tools'))\n",
    "import sumolib\n",
    "import importlib\n",
    "from pprint import pprint\n",
    "import pandas as pd\n",
    "import xml.etree.ElementTree as ET\n",
    "import numpy as np\n",
    "\n",
    "# Add the \"scripts\" directory to sys.path\n",
    "current_dir = os.path.dirname(os.path.abspath(\"__file__\"))\n",
    "scripts_dir = os.path.abspath(os.path.join(current_dir, 'scripts'))\n",
    "sys.path.append(scripts_dir)\n",
    "import vehParameters\n",
    "import osmAPI as osm\n",
    "import LLAMAconnect\n",
    "\n",
    "FOLDER_NAME = \"town01\""
   ]
  },
  {
   "cell_type": "code",
   "execution_count": 12,
   "id": "62e2e8ee",
   "metadata": {},
   "outputs": [],
   "source": [
    "NET_PATH = f'{FOLDER_NAME}/osm.net.xml'\n",
    "ADDITONALS_PATH = f'{FOLDER_NAME}/park.add.xml'\n",
    "SUMOCFG_PATH = f'{FOLDER_NAME}/osm.sumocfg'\n",
    "PA_REROUTER_PATH = f'{FOLDER_NAME}/pa_rerouter.xml'\n",
    "\n",
    "net = sumolib.net.readNet(NET_PATH)\n",
    "parkingAreas = list(sumolib.output.parse(ADDITONALS_PATH, \"parkingArea\"))"
   ]
  },
  {
   "cell_type": "code",
   "execution_count": 13,
   "id": "b12c7f84",
   "metadata": {},
   "outputs": [
    {
     "data": {
      "text/plain": [
       "[0.06, 328.61]"
      ]
     },
     "execution_count": 13,
     "metadata": {},
     "output_type": "execute_result"
    }
   ],
   "source": [
    "net.getLocationOffset()"
   ]
  },
  {
   "cell_type": "code",
   "execution_count": null,
   "id": "38d9236b",
   "metadata": {},
   "outputs": [],
   "source": [
    "def getClosestEdges(lat, lon, radius, maxEdges=10, convert_toXY=True):\n",
    "\n",
    "    # Gets the 10 closest edges to the given lat, lon\n",
    "    if convert_toXY:\n",
    "        x, y = net.convertLonLat2XY(lon, lat)\n",
    "    else:\n",
    "        x, y = lon, lat\n",
    "    edges = net.getNeighboringEdges(x, y, radius)\n",
    "    closestEdges = []\n",
    "    if (len(edges) > 0):\n",
    "        distanceAndEdges = sorted([(dist, edge) for edge, dist in edges], key=lambda x:x[0])\n",
    "\n",
    "        ## Checking if the edge found can be used by passenger car\n",
    "        for dist, edge in distanceAndEdges:\n",
    "            if edge.allows('passenger'):\n",
    "                closestEdges.append(edge)\n",
    "\n",
    "    if len(edges) == 0:\n",
    "        print(f'No edges found for {lat}, {lon}. Perhaps location is not inside the network or there are no viable roads inside the radius.')\n",
    "        return None\n",
    "    \n",
    "    return closestEdges"
   ]
  },
  {
   "cell_type": "code",
   "execution_count": 5,
   "id": "75c755dc",
   "metadata": {},
   "outputs": [],
   "source": [
    "def get_closest_spawn_point(transform, spawn_points):\n",
    "    closest_point = min(spawn_points, key=lambda sp: sp.location.distance(transform.location))\n",
    "    return closest_point"
   ]
  },
  {
   "cell_type": "code",
   "execution_count": 9,
   "id": "6fa58fcc",
   "metadata": {},
   "outputs": [],
   "source": [
    "def get_spawn_points_from_csv(csv_file):\n",
    "    spawn_points = []\n",
    "    with open(csv_file, 'r') as f:\n",
    "        reader = csv.DictReader(f)\n",
    "        for row in reader:\n",
    "            loc = carla.Location(float(row['x']), float(row['y']), float(row['z']))\n",
    "            rot = carla.Rotation(float(row['pitch']), float(row['yaw']), float(row['roll']))\n",
    "            spawn_points.append(carla.Transform(loc, rot))\n",
    "    \n",
    "    return spawn_points"
   ]
  },
  {
   "cell_type": "code",
   "execution_count": 15,
   "id": "71374cad",
   "metadata": {},
   "outputs": [
    {
     "name": "stdout",
     "output_type": "stream",
     "text": [
      "[<carla.libcarla.Transform object at 0x74052ff0ba10>]\n"
     ]
    }
   ],
   "source": [
    "sps = get_spawn_points_from_csv('interests_spawn_points_Town01.csv')\n",
    "print(sps)"
   ]
  },
  {
   "cell_type": "code",
   "execution_count": null,
   "id": "34e7dc93",
   "metadata": {},
   "outputs": [],
   "source": []
  }
 ],
 "metadata": {
  "kernelspec": {
   "display_name": "sumo-env",
   "language": "python",
   "name": "python3"
  },
  "language_info": {
   "codemirror_mode": {
    "name": "ipython",
    "version": 3
   },
   "file_extension": ".py",
   "mimetype": "text/x-python",
   "name": "python",
   "nbconvert_exporter": "python",
   "pygments_lexer": "ipython3",
   "version": "3.10.16"
  }
 },
 "nbformat": 4,
 "nbformat_minor": 5
}
