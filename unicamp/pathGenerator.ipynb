{
 "cells": [
  {
   "cell_type": "code",
   "execution_count": 3,
   "metadata": {},
   "outputs": [],
   "source": [
    "import os\n",
    "import sys\n",
    "import json\n",
    "import subprocess\n",
    "import shutil\n",
    "import random\n",
    "\n",
    "if 'SUMO_HOME' in os.environ:\n",
    "    sys.path.append(os.path.join(os.environ['SUMO_HOME'], 'tools'))\n",
    "import sumolib\n",
    "import importlib\n",
    "from pprint import pprint\n",
    "\n",
    "# Add the \"scripts\" directory to sys.path\n",
    "current_dir = os.path.dirname(os.path.abspath(\"__file__\"))\n",
    "parent_dir = os.path.abspath(os.path.join(current_dir, '..'))\n",
    "scripts_dir = os.path.join(parent_dir, 'scripts')\n",
    "sys.path.append(scripts_dir)\n",
    "import vehParameters\n",
    "import GoogleMapsGeocoding as gmaps\n",
    "import LLAMAconnect"
   ]
  },
  {
   "cell_type": "code",
   "execution_count": 4,
   "metadata": {},
   "outputs": [],
   "source": [
    "net_path = 'osm.net.xml'\n",
    "add_path = 'osm_stops.add.xml'\n",
    "net = sumolib.net.readNet(net_path)\n",
    "parkingAreas = list(sumolib.output.parse(add_path, \"parkingArea\"))"
   ]
  },
  {
   "cell_type": "code",
   "execution_count": 5,
   "metadata": {},
   "outputs": [],
   "source": [
    "radius = 150"
   ]
  },
  {
   "cell_type": "code",
   "execution_count": 6,
   "metadata": {},
   "outputs": [],
   "source": [
    "def flush_print():\n",
    "    sys.stdout.write(\"\\r\")  # Move the cursor to the beginning of the line\n",
    "    sys.stdout.write(\" \" * 50)  # Overwrite with spaces to clear the line\n",
    "    sys.stdout.write(\"\\r\")  # Move back to the beginning again"
   ]
  },
  {
   "cell_type": "code",
   "execution_count": 7,
   "metadata": {},
   "outputs": [],
   "source": [
    "def has_parking_spot(lanes, parkingAreas):\n",
    "    # Example of parkingArea:\n",
    "    # <parkingArea id=\"pa-1046248579#0\" lane=\"-1046248579#0_0\" roadsideCapacity=\"94\" length=\"5.00\"/>\n",
    "    # Returns parkingArea id if there is a parking spot in the lane\n",
    "    lane_ids = [lane.getID() for lane in lanes]\n",
    "    for park in parkingAreas:\n",
    "        if park.lane in lane_ids:\n",
    "            return park.id\n",
    "    return False"
   ]
  },
  {
   "cell_type": "code",
   "execution_count": 8,
   "metadata": {},
   "outputs": [],
   "source": [
    "def getClosestEdges(lat, lon, radius, maxEdges=10):\n",
    "    # Gets the 10 closest edges to the given lat, lon\n",
    "    x, y = net.convertLonLat2XY(lon, lat)\n",
    "    edges = net.getNeighboringEdges(x, y, radius)\n",
    "    closestEdges = []\n",
    "    if (len(edges) > 0):\n",
    "        distanceAndEdges = sorted([(dist, edge) for edge, dist in edges], key=lambda x:x[0])\n",
    "\n",
    "        ## Checking if the edge found can be used by passenger car\n",
    "        for dist, edge in distanceAndEdges:\n",
    "            if edge.allows('passenger'):\n",
    "                closestEdges.append(edge)\n",
    "\n",
    "    if len(edges) == 0:\n",
    "        print(f'No edges found for {lat}, {lon}. Perhaps location is not inside the network, maybe decrease the raius?')\n",
    "        return None\n",
    "    \n",
    "    return closestEdges"
   ]
  },
  {
   "cell_type": "code",
   "execution_count": 9,
   "metadata": {},
   "outputs": [],
   "source": [
    "def getParkingSpot(lat, lon, radius, parkingAreas):\n",
    "    # Get the parking spot closest to the given lat, lon\n",
    "    # Used to set stops for the vehicles\n",
    "\n",
    "    edges = getClosestEdges(lat, lon, radius)\n",
    "    # Look for parking spots\n",
    "    for i in range(len(edges)):\n",
    "        parking_spot = has_parking_spot(edges[i].getLanes(), parkingAreas)\n",
    "        if parking_spot:\n",
    "            return parking_spot\n",
    "    print(f\"No parking spot found close to {lat}, {lon}. Perhaps decrease the radius?\")\n",
    "    return None"
   ]
  },
  {
   "cell_type": "code",
   "execution_count": 10,
   "metadata": {},
   "outputs": [],
   "source": [
    "def getPath(location_time_list, parkingAreas, steps_per_stop = 10):\n",
    "    # All that is needed to create the trip are the stops (parking areas) and the start and end edges.\n",
    "    # The duarouter is responsible for finding the path between the edges going through the stops.\n",
    "    # Here, we get the edges and stops that are going to be sent to LLAMA to create the trip.\n",
    "\n",
    "    # 'coordinates' is a list of tuples with the latitude and longitude of the points of interest, for example IC, FEEC, IC means that\n",
    "    # the vehicle will start from IC, stop at a parking lot close to FEEC, and then back to IC.\n",
    "    # The first and last coordinates should be edges and the others should be parking spots.\n",
    "    # `steps_per_stop` is the number of simulation steps that the vehicle will stay at each stop.\n",
    "\n",
    "    # Departure for 7 is 0, 8 is 100, 9 is 200 and so on\n",
    "    stop_durations = []\n",
    "    departures = list(location_time_list.keys())\n",
    "    stop_durations.append(-1) # Indicates this is an edge and not a parking spot\n",
    "\n",
    "    path = []\n",
    "    locations = list(location_time_list.values())\n",
    "    home = getClosestEdges(*locations[0], radius)[0].getID()\n",
    "    path.append(home)\n",
    "    \n",
    "    for i in range(1, len(locations)-1):\n",
    "        stop_durations.append(steps_per_stop * (departures[i] - departures[i - 1]))\n",
    "        ps = getParkingSpot(*locations[i], radius, parkingAreas)\n",
    "        if ps is not None:\n",
    "            path.append(ps)\n",
    "        else:\n",
    "            print(f\"Could not find parking spot for {locations[i]}\")\n",
    "            raise Exception(f\"Could not find parking spot for {locations[i]}\")\n",
    "\n",
    "    path.append(home)\n",
    "    stop_durations.append(-1)\n",
    "    \n",
    "    return path, stop_durations"
   ]
  },
  {
   "cell_type": "code",
   "execution_count": 11,
   "metadata": {},
   "outputs": [],
   "source": [
    "def pathToXML(path, vehicleID, veh_type, departure_time, stop_durations):\n",
    "    # Converts the path to the XML format that LLAMA understands\n",
    "    xml = f'<trip id=\"{vehicleID}\" type=\"{veh_type}\" depart=\"{departure_time}\" from=\"{path[0]}\" to=\"{path[-1]}\">\\n'\n",
    "    for i in range(1, len(path)-1):\n",
    "        xml += f'\\t<stop parkingArea=\"{path[i]}\" duration=\"{stop_durations[i]}\"/>\\n'\n",
    "    xml += '</trip>'\n",
    "    return xml"
   ]
  },
  {
   "cell_type": "markdown",
   "metadata": {},
   "source": [
    "Getting the routine for the students described"
   ]
  },
  {
   "cell_type": "code",
   "execution_count": 12,
   "metadata": {},
   "outputs": [
    {
     "name": "stderr",
     "output_type": "stream",
     "text": [
      "  0%|          | 0/5 [00:00<?, ?it/s]"
     ]
    },
    {
     "name": "stdout",
     "output_type": "stream",
     "text": [
      "Error: Invalid location generated 'Institute of Geography and Human Sciences'\n",
      "Invalid response. Generating a new one.\n",
      "Error: Invalid location generated 'leisure'\n",
      "Invalid response. Generating a new one.\n"
     ]
    },
    {
     "name": "stderr",
     "output_type": "stream",
     "text": [
      " 20%|██        | 1/5 [00:02<00:08,  2.02s/it]"
     ]
    },
    {
     "name": "stdout",
     "output_type": "stream",
     "text": [
      "Error: Invalid location generated 'rest'\n",
      "Invalid response. Generating a new one.\n"
     ]
    },
    {
     "name": "stderr",
     "output_type": "stream",
     "text": [
      " 60%|██████    | 3/5 [00:03<00:02,  1.12s/it]"
     ]
    },
    {
     "name": "stdout",
     "output_type": "stream",
     "text": [
      "Error: The response is missing some hours\n",
      "Invalid response. Generating a new one.\n",
      "Error: Invalid location generated 'Institute of Geography'\n",
      "Invalid response. Generating a new one.\n",
      "Error: Invalid location generated 'Institute of Geography and Human Sciences'\n",
      "Invalid response. Generating a new one.\n"
     ]
    },
    {
     "name": "stderr",
     "output_type": "stream",
     "text": [
      "100%|██████████| 5/5 [00:06<00:00,  1.28s/it]"
     ]
    },
    {
     "name": "stdout",
     "output_type": "stream",
     "text": [
      "{'10': {'activity': 'study',\n",
      "        'location': 'Institute of Philosophy and Human Sciences'},\n",
      " '11': {'activity': 'study',\n",
      "        'location': 'Institute of Philosophy and Human Sciences'},\n",
      " '12': {'activity': 'lunch', 'location': 'restaurant'},\n",
      " '13': {'activity': 'study',\n",
      "        'location': 'Institute of Philosophy and Human Sciences'},\n",
      " '14': {'activity': 'shopping', 'location': 'store'},\n",
      " '15': {'activity': 'shopping', 'location': 'store'},\n",
      " '16': {'activity': 'shopping', 'location': 'store'},\n",
      " '17': {'activity': 'practice sports', 'location': 'gym'},\n",
      " '18': {'activity': 'dinner', 'location': 'restaurant'},\n",
      " '19': {'activity': 'rest', 'location': 'home'},\n",
      " '20': {'activity': 'rest', 'location': 'home'},\n",
      " '21': {'activity': 'rest', 'location': 'home'},\n",
      " '22': {'activity': 'rest', 'location': 'home'},\n",
      " '23': {'activity': 'sleep', 'location': 'home'},\n",
      " '7': {'activity': 'wake up', 'location': 'home'},\n",
      " '8': {'activity': 'study',\n",
      "       'location': 'Institute of Philosophy and Human Sciences'},\n",
      " '9': {'activity': 'study',\n",
      "       'location': 'Institute of Philosophy and Human Sciences'}}\n"
     ]
    },
    {
     "name": "stderr",
     "output_type": "stream",
     "text": [
      "\n"
     ]
    }
   ],
   "source": [
    "# It is important not to use short names of institutes, like IB for institute of biology, because the LLM will not be able to assign the students to the correct institute.\n",
    "places ={\n",
    "    'leisure': [\"bar\", \"movie_theater\", \"shopping_mall\"],\n",
    "    'eating': [\"restaurant\", \"bakery\", \"cafe\"],\n",
    "    'shopping': [\"store\", \"drugstore\", \"supermarket\"],\n",
    "    'sports': [\"gym\"],\n",
    "    'institute': [\"Institute of Biology\", \"Institute of Computing\", \"Institute of Geociences\", \"Institute of Philosophy and Human Sciences\", \"Institute of Chemistry\"],\n",
    "    'university': [\"University of Campinas\"],\n",
    "}\n",
    "\n",
    "student_info = \"The student is geography student. Today, the student is going to have lunch at a restaurant and the student is going to the supermarket.\"\n",
    "importlib.reload(LLAMAconnect)\n",
    "responses = LLAMAconnect.generate_response_trips(student_info, places, number_of_trips=5) # number of trips defaults to 5\n",
    "pprint(json.loads(responses[0]))"
   ]
  },
  {
   "cell_type": "markdown",
   "metadata": {},
   "source": [
    "Generating different houses for students based on a random number generator in the where students might live"
   ]
  },
  {
   "cell_type": "code",
   "execution_count": 13,
   "metadata": {},
   "outputs": [],
   "source": [
    "def getHome():\n",
    "    # top right -22.815539, -47.076272\n",
    "    # top left: -22.818517, -47.079520\n",
    "    # bottom left: -22.826410, -47.072591\n",
    "    # bottom right: -22.823439, -47.068828\n",
    "    X_MIN = 22815539\n",
    "    X_MAX = 22826410\n",
    "    Y_MIN = 47068828\n",
    "    Y_MAX = 47079520\n",
    "    while True:\n",
    "        random_x = random.randint(X_MIN, X_MAX)\n",
    "        random_y = random.randint(Y_MIN, Y_MAX)\n",
    "        lat = - random_x / 10**6\n",
    "        lon = - random_y / 10**6\n",
    "        if (lat, lon) in coords.values():\n",
    "            continue\n",
    "        break\n",
    "    return lat, lon"
   ]
  },
  {
   "cell_type": "code",
   "execution_count": 14,
   "metadata": {},
   "outputs": [],
   "source": [
    "def getCoords(trip, sulfixo, institutes, start_radius, step_radius, limit_radius, n_options = 3):\n",
    "    # Returns a dictionary with the latitude and longitude of the locations of interest\n",
    "    # The suffix is the name of the state, city and neighborhood that will be added to the end of each location to improve the search\n",
    "    # 'start_radius' is the initial radius of the search, 'step_radius' is the amount that will be added to the radius if the location is not found and 'limit_radius' is the maximum radius that will be used. After that, the student will choose not to leave the place he is at.\n",
    "    # 'n_options' is the number of options of places we ideally want to find to choose from. This only applies while the limit_radius is not exceeded\n",
    "    coords = {}\n",
    "    place = {}\n",
    "    importlib.reload(gmaps)\n",
    "    for i in range(len(trip)):\n",
    "        local = trip[f'{i + 7}']['location']\n",
    "        local_comp = local + \", \" + sulfixo\n",
    "\n",
    "        if local in coords.keys():\n",
    "            continue\n",
    "        \n",
    "        if local == 'home':\n",
    "            coords['home'] = (-22.821026, -47.072902)\n",
    "            continue\n",
    "        elif local in institutes:\n",
    "                result = gmaps.geocode_address(local_comp)\n",
    "                lat, lon = result[0]['latitude'], result[0]['longitude']\n",
    "        else:\n",
    "            found = True\n",
    "            print(f\"Looking for {local}...\", end='', flush=True)\n",
    "\n",
    "            # Stoting the previous location to use as a reference for the next search\n",
    "            previous = coords[trip[f'{i + 6}']['location']]\n",
    "            result = gmaps.find_nearby_building(previous[0], previous[1], local, radius=start_radius)\n",
    "            expanded = radius\n",
    "\n",
    "            # If the location is not found or there are less optios than expected, expand the search radius\n",
    "            while result is False or len(result) < n_options:\n",
    "                expanded += step_radius\n",
    "                if expanded > limit_radius:\n",
    "                    found = False\n",
    "                    break\n",
    "                \n",
    "                result = gmaps.find_nearby_building(previous[0], previous[1], local, radius=expanded)\n",
    "\n",
    "            if found == False:\n",
    "                result = [{'latitude': previous[0], 'longitude': previous[1]}]\n",
    "                place[f'{local}'] = trip[f'{i + 6}']['location']\n",
    "                flush_print()\n",
    "                print(f\"Could not find {local} in a radius of {limit_radius} meters. The student will not leave the place he is currently at.\")\n",
    "            else:\n",
    "                place[f'{local}'] = result[0]['name']\n",
    "                random.shuffle(result) # Randomize the results to avoid always getting the absolute closest building\n",
    "                lat, lon = result[0]['latitude'], result[0]['longitude']\n",
    "                flush_print()\n",
    "                print(f\"Found {len(result)} options for {local}: {[x['name'] for x in result]}\")\n",
    "                print(f\"\\033[1m{local} picked: {result[0]['name']} at {lat}, {lon}.\\033[0m\")\n",
    "\n",
    "        \n",
    "        coords[f'{local}'] = (lat, lon)\n",
    "        \n",
    "    return coords, place"
   ]
  },
  {
   "cell_type": "code",
   "execution_count": 15,
   "metadata": {},
   "outputs": [],
   "source": [
    "def coordsToTrip(trip, coords):\n",
    "    location_time = {}\n",
    "    home = coords['home'] # Gets a random home location for each student\n",
    "    last = home\n",
    "    location_time[7] = last\n",
    "    \n",
    "    for j in range(1, len(trip)):\n",
    "        local_coords = coords[trip[f'{j + 7}']['location']]\n",
    "        if local_coords != last:\n",
    "            location_time[j + 7] = local_coords\n",
    "            last = local_coords\n",
    "\n",
    "    return location_time"
   ]
  },
  {
   "cell_type": "markdown",
   "metadata": {},
   "source": [
    "Getting the latitude and longitude for each of the locations"
   ]
  },
  {
   "cell_type": "code",
   "execution_count": 16,
   "metadata": {},
   "outputs": [
    {
     "name": "stdout",
     "output_type": "stream",
     "text": [
      "Getting coords for trip 1:\n",
      "Found 4 options for restaurant: ['Restaurante da Casa do Professor Visitante', 'University Restaurant - Unicamp', 'Feirinha da Unicamp', 'Cantina do Bello']\n",
      "\u001b[1mrestaurant picked: Restaurante da Casa do Professor Visitante at -22.8122661, -47.0663524.\u001b[0m\n",
      "Found 7 options for store: ['Connect Print', 'Titãs Fitness', 'Banca de Frutas do Lauro', 'Editora da Unicamp - Livraria BC', 'OXXO', 'SEC Unicamp - Secretaria Executiva de Comunicação', 'Casa Amarela Decor']\n",
      "\u001b[1mstore picked: Connect Print at -22.8200464, -47.072073.\u001b[0m\n",
      "Found 3 options for gym: ['Academia Cinética Fitness', 'KUMARA yoga e terapia', '[FT30 Online] | Método de Treinamento Funcional']\n",
      "\u001b[1mgym picked: Academia Cinética Fitness at -22.8242997, -47.07093260000001.\u001b[0m\n",
      "\n",
      "Getting coords for trip 2:\n",
      "Could not find cafe in a radius of 1000 meters. The student will not leave the place he is currently at.\n",
      "Found 4 options for restaurant: ['Restaurante da Casa do Professor Visitante', 'University Restaurant - Unicamp', 'Feirinha da Unicamp', 'Cantina do Bello']\n",
      "\u001b[1mrestaurant picked: Restaurante da Casa do Professor Visitante at -22.8122661, -47.0663524.\u001b[0m\n",
      "Found 7 options for store: ['SEC Unicamp - Secretaria Executiva de Comunicação', 'Editora da Unicamp - Livraria BC', 'OPEN AUTO PEÇAS', 'BioAcids Tech', 'ProDeck Skateboard Supply', 'Compra Rapida', 'JetDash']\n",
      "\u001b[1mstore picked: SEC Unicamp - Secretaria Executiva de Comunicação at -22.8160184, -47.063895.\u001b[0m\n",
      "Could not find gym in a radius of 1000 meters. The student will not leave the place he is currently at.\n",
      "\n",
      "Getting coords for trip 3:\n",
      "Found 4 options for restaurant: ['Cantina do Bello', 'Restaurante da Casa do Professor Visitante', 'University Restaurant - Unicamp', 'Feirinha da Unicamp']\n",
      "\u001b[1mrestaurant picked: Cantina do Bello at -22.8186891, -47.0695881.\u001b[0m\n",
      "Could not find supermarket in a radius of 1000 meters. The student will not leave the place he is currently at.\n",
      "Found 5 options for gym: ['Yoga Shantivanam', 'Estúdio do Corpo', 'Academia Sérgio Cavalcante', 'Retz Muay Thai - Barão Geraldo', 'Studio Pilates Geovana Fantinato']\n",
      "\u001b[1mgym picked: Yoga Shantivanam at -22.810389, -47.0696112.\u001b[0m\n",
      "\n",
      "Getting coords for trip 4:\n",
      "Could not find cafe in a radius of 1000 meters. The student will not leave the place he is currently at.\n",
      "Found 14 options for restaurant: ['Feirinha da Unicamp', 'Chalé Sonho Meu', 'Redi lanchonete', 'Pé de fruta - Romã', 'CPS Culinária Urbana', 'Restaurante da Saturnino', 'LUI Taqueria', 'Aulus Bar & Restaurant', 'Pizza Deck', 'Lolla Empanadas - Barão Geraldo', 'Mahab esfiharia', 'University Restaurant - Unicamp', 'Restaurante da Casa do Professor Visitante', 'Cantina do Bello']\n",
      "\u001b[1mrestaurant picked: Feirinha da Unicamp at -22.8172479, -47.06998939999999.\u001b[0m\n",
      "Found 5 options for store: ['Connect Print', 'Banca de Frutas do Lauro', 'OXXO', 'Vegano dos Pedais Bike Shop e Oficina', 'Editora da Unicamp - Livraria BC']\n",
      "\u001b[1mstore picked: Connect Print at -22.8200464, -47.072073.\u001b[0m\n",
      "Found 5 options for gym: ['Academia Cinética Fitness', 'RODA OM - CAMINHOS HOLÍSTICOS E MULTIDIMENSIONAIS', '[FT30 Online] | Método de Treinamento Funcional', 'KUMARA yoga e terapia', 'Ateliê Soma - Pilates & Fisioterapia Integrativa']\n",
      "\u001b[1mgym picked: Academia Cinética Fitness at -22.8242997, -47.07093260000001.\u001b[0m\n",
      "\n",
      "Getting coords for trip 5:\n",
      "Found 14 options for restaurant: ['University Restaurant - Unicamp', 'Redi lanchonete', 'Aulus Bar & Restaurant', 'LUI Taqueria', 'Mahab esfiharia', 'Lolla Empanadas - Barão Geraldo', 'Chalé Sonho Meu', 'Pé de fruta - Romã', 'Restaurante da Casa do Professor Visitante', 'Feirinha da Unicamp', 'Restaurante da Saturnino', 'Pizza Deck', 'Cantina do Bello', 'CPS Culinária Urbana']\n",
      "\u001b[1mrestaurant picked: University Restaurant - Unicamp at -22.8175139, -47.0721963.\u001b[0m\n",
      "Found 8 options for store: ['Casa Amarela Decor', 'Vegano dos Pedais Bike Shop e Oficina', 'Editora da Unicamp - Livraria BC', 'OXXO', 'Banca de Frutas do Lauro', 'Titãs Fitness', 'Connect Print', 'CTM Som Foto & Vídeo']\n",
      "\u001b[1mstore picked: Casa Amarela Decor at -22.8154788, -47.0755439.\u001b[0m\n",
      "Found 3 options for cafe: ['Conveniência AmPm - Ipiranga', 'LAGGIÙ COFFEE', 'The Coffee']\n",
      "\u001b[1mcafe picked: Conveniência AmPm - Ipiranga at -22.8229061, -47.0706183.\u001b[0m\n",
      "Found 4 options for gym: ['Ateliê Soma - Pilates & Fisioterapia Integrativa', 'Academia Cinética Fitness', '[FT30 Online] | Método de Treinamento Funcional', 'KUMARA yoga e terapia']\n",
      "\u001b[1mgym picked: Ateliê Soma - Pilates & Fisioterapia Integrativa at -22.8246544, -47.0710826.\u001b[0m\n",
      "\n",
      "All trips have been successfully generated.\n"
     ]
    }
   ],
   "source": [
    "sufixo = \"Barão Geraldo, Campinas, SP, Brazil\"\n",
    "trips = {}\n",
    "location_time_list = []\n",
    "for i in range(len(responses)):\n",
    "    json_response = json.loads(responses[i])\n",
    "    trips[i] = json_response\n",
    "    print(f\"Getting coords for trip {i + 1}:\")\n",
    "    coords, names = getCoords(trips[i], sufixo, places['institute'], start_radius=500, step_radius=200, limit_radius=1000)\n",
    "    location_time_list.append(coordsToTrip(trips[i], coords))\n",
    "    print(\"\")\n",
    "print(\"All trips have been successfully generated.\")\n"
   ]
  },
  {
   "cell_type": "markdown",
   "metadata": {},
   "source": [
    "Taking the locations and turning them into a XML trips, which are written to PATHGEN.trips.xml"
   ]
  },
  {
   "cell_type": "code",
   "execution_count": 17,
   "metadata": {},
   "outputs": [],
   "source": [
    "randomtrips_path = \"/usr/share/sumo/tools/randomTrips.py\"\n",
    "def randomtrips_getArgs(net_path, additional_path, v_class, n_trips):\n",
    "    args = [\n",
    "        \"-n\", net_path,\n",
    "        \"-o\", \"randtrips.trips.xml\",\n",
    "        \"-r\", \"randtrips.rou.xml\",\n",
    "        \"--additional\", additional_path,\n",
    "        \"--vclass\", v_class,\n",
    "        \"--vehicle-class\", v_class,\n",
    "        \"-e\", str(n_trips),\n",
    "        \"--validate\"\n",
    "    ]\n",
    "    return args"
   ]
  },
  {
   "cell_type": "code",
   "execution_count": 18,
   "metadata": {},
   "outputs": [],
   "source": [
    "def getRandomTrips(net_path, add_path, vclass, n_trips):\n",
    "    # Run the randomTrips.py to create the trips\n",
    "    subprocess.run(['python3', randomtrips_path] + randomtrips_getArgs(net_path, add_path, vclass, n_trips), check=True)"
   ]
  },
  {
   "cell_type": "code",
   "execution_count": 19,
   "metadata": {},
   "outputs": [],
   "source": [
    "def parseTripXML(location_time_list, parkingAreas, departure_times, styles, veh_types_per_student, n_vtypes, steps_per_stop = 10, rand_trips=None, out_file_name='finaltrips.rou.xml'):\n",
    "    # Creates the XML for the trips\n",
    "    # 'departure_times' is a list with the departure times for each trip\n",
    "    # 'styles' is a list with the styles of the vehicles. The current supported styles are \"agg\" for aggressive and \"norm\" for normal\n",
    "    # 'veh_types_per_student' is a list with the vehicle types for each student\n",
    "    # 'n_vtypes' is the number of vTypes created for each style\n",
    "    # 'rand_trips' is a file containing the random trips\n",
    "    \n",
    "    importlib.reload(vehParameters)\n",
    "\n",
    "    xml = '<routes xmlns:xsi=\"http://www.w3.org/2001/XMLSchema-instance\" xsi:noNamespaceSchemaLocation=\"http://sumo.dlr.de/xsd/routes_file.xsd\">\\n'\n",
    "\n",
    "    xml += '\\n<!-- BEGIN - LLM Generated trips -->\\n'\n",
    "\n",
    "    xml += '\\n<!-- Vehicles -->\\n'\n",
    "    vehdists = vehParameters.generateVehicleTypes(styles, n_vtypes)\n",
    "    xml += vehParameters.parseVehiclesXML(vehdists, styles)\n",
    "\n",
    "    xml += '\\n'\n",
    "    xml += '<!-- Trips -->\\n'\n",
    "    for i in range(len(location_time_list)):\n",
    "        path, stop_durations = getPath(location_time_list[i], parkingAreas, steps_per_stop=steps_per_stop)\n",
    "        xml += pathToXML(path, f'veh{i + 1}', veh_types_per_student[i], departure_times[i], stop_durations) + '\\n'\n",
    "\n",
    "    xml += '\\n\\n <!-- END - LLM Generated trips -->\\n\\n'\n",
    "\n",
    "    xml += '<!-- BEGIN - Random Trips -->\\n\\n'\n",
    "\n",
    "    if rand_trips:\n",
    "        start_read = False\n",
    "        with open(rand_trips, 'r') as f:\n",
    "            for line in f:\n",
    "                test = line.strip()\n",
    "                if test.startswith('<vType'):\n",
    "                    start_read = True\n",
    "                if start_read:\n",
    "                    if line.startswith('</routes>'):\n",
    "                        break\n",
    "                    xml += line\n",
    "\n",
    "    xml += '\\n</routes>'\n",
    "    \n",
    "    with open(out_file_name, 'w') as f:\n",
    "        f.write(xml)\n",
    "    \n",
    "    return xml"
   ]
  },
  {
   "cell_type": "code",
   "execution_count": null,
   "metadata": {},
   "outputs": [
    {
     "name": "stdout",
     "output_type": "stream",
     "text": [
      "Success.\n",
      "Success.\n"
     ]
    },
    {
     "data": {
      "text/plain": [
       "'<routes xmlns:xsi=\"http://www.w3.org/2001/XMLSchema-instance\" xsi:noNamespaceSchemaLocation=\"http://sumo.dlr.de/xsd/routes_file.xsd\">\\n\\n<!-- BEGIN - LLM Generated trips -->\\n\\n<!-- Vehicles -->\\n<vTypeDistribution id=\"agg\">\\n\\t<vType id=\"v_agg0\" minGap=\"0.29\" accel=\"2.8\" decel=\"2.58\" startupDelay=\"0.32\" sigma=\"0.73\" tau=\"1.2\" maxSpeed=\"130.07\" speedFactor=\"1.8\" lcStrategic=\"9.69\" lcCooperative=\"0.07\" lcSpeedGain=\"10.25\" lcKeepRight=\"3.79\" lcOvertakeRight=\"0.86\" lcSpeedGainLookahead=\"4.39\" lcOvertakeDeltaSpeedFactor=\"0.65\" lcPushy=\"0.87\" lcAssertive=\"4.22\" lcImpatience=\"0.54\" lcTimeToImpatience=\"7.73\" lcLaneDiscipline=\"1.34\" lcSigma=\"0.63\" lcAccelLat=\"1.39\" probability=\"0.18400582976334234\">\\n\\t\\t<param key=\"device.rerouting.probability\" value=\"1.0\"/>\\n\\t\\t<param key=\"device.rerouting.adaptation-steps\" value=\"18\"/>\\n\\t\\t<param key=\"device.rerouting.adaptation-interval\" value=\"10\"/>\\n\\t</vType>\\n\\t<vType id=\"v_agg1\" minGap=\"0.47\" accel=\"3.44\" decel=\"3.56\" startupDelay=\"0.0\" sigma=\"0.87\" tau=\"1.36\" maxSpeed=\"108.12\" speedFactor=\"1.99\" lcStrategic=\"7.33\" lcCooperative=\"0.11\" lcSpeedGain=\"7.36\" lcKeepRight=\"3.04\" lcOvertakeRight=\"0.85\" lcSpeedGainLookahead=\"2.59\" lcOvertakeDeltaSpeedFactor=\"0.77\" lcPushy=\"0.63\" lcAssertive=\"3.93\" lcImpatience=\"0.82\" lcTimeToImpatience=\"8.09\" lcLaneDiscipline=\"2.35\" lcSigma=\"0.58\" lcAccelLat=\"1.99\" probability=\"0.23332812549095486\">\\n\\t\\t<param key=\"device.rerouting.probability\" value=\"1.0\"/>\\n\\t\\t<param key=\"device.rerouting.adaptation-steps\" value=\"18\"/>\\n\\t\\t<param key=\"device.rerouting.adaptation-interval\" value=\"10\"/>\\n\\t</vType>\\n\\t<vType id=\"v_agg2\" minGap=\"0.13\" accel=\"2.63\" decel=\"4.89\" startupDelay=\"0.41\" sigma=\"0.68\" tau=\"1.44\" maxSpeed=\"103.66\" speedFactor=\"1.78\" lcStrategic=\"6.96\" lcCooperative=\"0.12\" lcSpeedGain=\"9.45\" lcKeepRight=\"1.15\" lcOvertakeRight=\"0.92\" lcSpeedGainLookahead=\"4.08\" lcOvertakeDeltaSpeedFactor=\"0.52\" lcPushy=\"0.57\" lcAssertive=\"2.8\" lcImpatience=\"0.88\" lcTimeToImpatience=\"7.54\" lcLaneDiscipline=\"2.3\" lcSigma=\"0.8\" lcAccelLat=\"1.88\" probability=\"0.1144325856509414\">\\n\\t\\t<param key=\"device.rerouting.probability\" value=\"1.0\"/>\\n\\t\\t<param key=\"device.rerouting.adaptation-steps\" value=\"18\"/>\\n\\t\\t<param key=\"device.rerouting.adaptation-interval\" value=\"10\"/>\\n\\t</vType>\\n\\t<vType id=\"v_agg3\" minGap=\"0.28\" accel=\"4.07\" decel=\"4.35\" startupDelay=\"0.5\" sigma=\"0.78\" tau=\"1.16\" maxSpeed=\"117.93\" speedFactor=\"1.65\" lcStrategic=\"8.36\" lcCooperative=\"0.09\" lcSpeedGain=\"5.77\" lcKeepRight=\"2.26\" lcOvertakeRight=\"0.56\" lcSpeedGainLookahead=\"4.33\" lcOvertakeDeltaSpeedFactor=\"0.87\" lcPushy=\"0.85\" lcAssertive=\"4.63\" lcImpatience=\"0.62\" lcTimeToImpatience=\"9.63\" lcLaneDiscipline=\"0.75\" lcSigma=\"0.86\" lcAccelLat=\"2.14\" probability=\"0.40722103293596407\">\\n\\t\\t<param key=\"device.rerouting.probability\" value=\"1.0\"/>\\n\\t\\t<param key=\"device.rerouting.adaptation-steps\" value=\"18\"/>\\n\\t\\t<param key=\"device.rerouting.adaptation-interval\" value=\"10\"/>\\n\\t</vType>\\n\\t<vType id=\"v_agg4\" minGap=\"0.41\" accel=\"2.82\" decel=\"3.9\" startupDelay=\"0.23\" sigma=\"0.55\" tau=\"1.21\" maxSpeed=\"115.9\" speedFactor=\"1.7\" lcStrategic=\"6.49\" lcCooperative=\"0.09\" lcSpeedGain=\"8.62\" lcKeepRight=\"2.15\" lcOvertakeRight=\"0.79\" lcSpeedGainLookahead=\"3.94\" lcOvertakeDeltaSpeedFactor=\"0.83\" lcPushy=\"0.76\" lcAssertive=\"3.1\" lcImpatience=\"0.8\" lcTimeToImpatience=\"8.96\" lcLaneDiscipline=\"1.61\" lcSigma=\"0.61\" lcAccelLat=\"2.01\" probability=\"0.061012426158797456\">\\n\\t\\t<param key=\"device.rerouting.probability\" value=\"1.0\"/>\\n\\t\\t<param key=\"device.rerouting.adaptation-steps\" value=\"18\"/>\\n\\t\\t<param key=\"device.rerouting.adaptation-interval\" value=\"10\"/>\\n\\t</vType>\\n</vTypeDistribution>\\n<vTypeDistribution id=\"norm\">\\n\\t<vType id=\"v_norm0\" minGap=\"1.42\" accel=\"1.8\" decel=\"1.55\" startupDelay=\"0.75\" sigma=\"0.08\" tau=\"1.77\" maxSpeed=\"90.55\" speedFactor=\"1.05\" lcStrategic=\"2.03\" lcCooperative=\"0.62\" lcSpeedGain=\"1.63\" lcKeepRight=\"0.71\" lcOvertakeRight=\"0.16\" lcSpeedGainLookahead=\"1.6\" lcOvertakeDeltaSpeedFactor=\"-0.33\" lcPushy=\"0.1\" lcAssertive=\"1.1\" lcImpatience=\"0.1\" lcTimeToImpatience=\"12.5\" lcLaneDiscipline=\"0.34\" lcSigma=\"0.12\" lcAccelLat=\"0.83\" probability=\"0.04871942458056795\">\\n\\t\\t<param key=\"device.rerouting.probability\" value=\"1.0\"/>\\n\\t\\t<param key=\"device.rerouting.adaptation-steps\" value=\"18\"/>\\n\\t\\t<param key=\"device.rerouting.adaptation-interval\" value=\"10\"/>\\n\\t</vType>\\n\\t<vType id=\"v_norm1\" minGap=\"1.83\" accel=\"1.59\" decel=\"1.91\" startupDelay=\"0.55\" sigma=\"0.05\" tau=\"1.67\" maxSpeed=\"82.11\" speedFactor=\"1.06\" lcStrategic=\"2.55\" lcCooperative=\"0.43\" lcSpeedGain=\"1.92\" lcKeepRight=\"0.76\" lcOvertakeRight=\"0.03\" lcSpeedGainLookahead=\"1.4\" lcOvertakeDeltaSpeedFactor=\"-0.06\" lcPushy=\"0.2\" lcAssertive=\"1.32\" lcImpatience=\"0.11\" lcTimeToImpatience=\"18.06\" lcLaneDiscipline=\"0.54\" lcSigma=\"0.19\" lcAccelLat=\"0.83\" probability=\"0.1613082149411638\">\\n\\t\\t<param key=\"device.rerouting.probability\" value=\"1.0\"/>\\n\\t\\t<param key=\"device.rerouting.adaptation-steps\" value=\"18\"/>\\n\\t\\t<param key=\"device.rerouting.adaptation-interval\" value=\"10\"/>\\n\\t</vType>\\n\\t<vType id=\"v_norm2\" minGap=\"1.4\" accel=\"1.58\" decel=\"1.79\" startupDelay=\"0.86\" sigma=\"0.17\" tau=\"1.98\" maxSpeed=\"79.66\" speedFactor=\"1.02\" lcStrategic=\"2.71\" lcCooperative=\"0.71\" lcSpeedGain=\"1.64\" lcKeepRight=\"0.78\" lcOvertakeRight=\"0.06\" lcSpeedGainLookahead=\"1.62\" lcOvertakeDeltaSpeedFactor=\"-0.27\" lcPushy=\"0.1\" lcAssertive=\"1.12\" lcImpatience=\"0.12\" lcTimeToImpatience=\"15.17\" lcLaneDiscipline=\"0.4\" lcSigma=\"0.13\" lcAccelLat=\"0.87\" probability=\"0.2660876507511412\">\\n\\t\\t<param key=\"device.rerouting.probability\" value=\"1.0\"/>\\n\\t\\t<param key=\"device.rerouting.adaptation-steps\" value=\"18\"/>\\n\\t\\t<param key=\"device.rerouting.adaptation-interval\" value=\"10\"/>\\n\\t</vType>\\n\\t<vType id=\"v_norm3\" minGap=\"1.61\" accel=\"1.32\" decel=\"1.58\" startupDelay=\"0.71\" sigma=\"0.39\" tau=\"1.82\" maxSpeed=\"85.61\" speedFactor=\"1.24\" lcStrategic=\"2.33\" lcCooperative=\"0.51\" lcSpeedGain=\"1.71\" lcKeepRight=\"0.6\" lcOvertakeRight=\"0.2\" lcSpeedGainLookahead=\"1.49\" lcOvertakeDeltaSpeedFactor=\"-0.12\" lcPushy=\"0.16\" lcAssertive=\"1.18\" lcImpatience=\"0.08\" lcTimeToImpatience=\"15.29\" lcLaneDiscipline=\"0.28\" lcSigma=\"0.14\" lcAccelLat=\"1.02\" probability=\"0.20959982693196927\">\\n\\t\\t<param key=\"device.rerouting.probability\" value=\"1.0\"/>\\n\\t\\t<param key=\"device.rerouting.adaptation-steps\" value=\"18\"/>\\n\\t\\t<param key=\"device.rerouting.adaptation-interval\" value=\"10\"/>\\n\\t</vType>\\n\\t<vType id=\"v_norm4\" minGap=\"1.7\" accel=\"1.66\" decel=\"1.58\" startupDelay=\"0.82\" sigma=\"0.22\" tau=\"1.7\" maxSpeed=\"93.65\" speedFactor=\"1.44\" lcStrategic=\"1.93\" lcCooperative=\"0.46\" lcSpeedGain=\"2.04\" lcKeepRight=\"0.88\" lcOvertakeRight=\"0.15\" lcSpeedGainLookahead=\"1.01\" lcOvertakeDeltaSpeedFactor=\"0.04\" lcPushy=\"0.06\" lcAssertive=\"1.21\" lcImpatience=\"0.07\" lcTimeToImpatience=\"16.5\" lcLaneDiscipline=\"0.24\" lcSigma=\"0.08\" lcAccelLat=\"0.81\" probability=\"0.3142848827951579\">\\n\\t\\t<param key=\"device.rerouting.probability\" value=\"1.0\"/>\\n\\t\\t<param key=\"device.rerouting.adaptation-steps\" value=\"18\"/>\\n\\t\\t<param key=\"device.rerouting.adaptation-interval\" value=\"10\"/>\\n\\t</vType>\\n</vTypeDistribution>\\n\\n<!-- Trips -->\\n<trip id=\"veh1\" type=\"agg\" depart=\"0\" from=\"72644726#1\" to=\"72644726#1\">\\n\\t<stop parkingArea=\"pa447326049#4\" duration=\"10\"/>\\n\\t<stop parkingArea=\"pa72508818\" duration=\"40\"/>\\n\\t<stop parkingArea=\"pa447326049#4\" duration=\"10\"/>\\n\\t<stop parkingArea=\"pa75259405#7\" duration=\"10\"/>\\n\\t<stop parkingArea=\"pa90743683#0\" duration=\"30\"/>\\n\\t<stop parkingArea=\"pa72508818\" duration=\"10\"/>\\n</trip>\\n<trip id=\"veh2\" type=\"agg\" depart=\"0\" from=\"72644726#1\" to=\"72644726#1\">\\n\\t<stop parkingArea=\"pa447326049#4\" duration=\"10\"/>\\n\\t<stop parkingArea=\"pa72508818\" duration=\"40\"/>\\n\\t<stop parkingArea=\"pa237036477#16\" duration=\"20\"/>\\n\\t<stop parkingArea=\"pa447326049#4\" duration=\"30\"/>\\n\\t<stop parkingArea=\"pa72508818\" duration=\"10\"/>\\n</trip>\\n<trip id=\"veh3\" type=\"agg\" depart=\"0\" from=\"72644726#1\" to=\"72644726#1\">\\n\\t<stop parkingArea=\"pa447326049#4\" duration=\"10\"/>\\n\\t<stop parkingArea=\"pa-75679328#1\" duration=\"40\"/>\\n\\t<stop parkingArea=\"pa-183876531#3\" duration=\"20\"/>\\n\\t<stop parkingArea=\"pa85631074#1\" duration=\"20\"/>\\n\\t<stop parkingArea=\"pa-183876531#3\" duration=\"10\"/>\\n\\t<stop parkingArea=\"pa-75679328#1\" duration=\"10\"/>\\n</trip>\\n<trip id=\"veh4\" type=\"norm\" depart=\"0\" from=\"72644726#1\" to=\"72644726#1\">\\n\\t<stop parkingArea=\"pa-183876531#3\" duration=\"10\"/>\\n\\t<stop parkingArea=\"pa72508815#16\" duration=\"40\"/>\\n\\t<stop parkingArea=\"pa75259405#7\" duration=\"20\"/>\\n\\t<stop parkingArea=\"pa72644726#1\" duration=\"40\"/>\\n\\t<stop parkingArea=\"pa90743683#0\" duration=\"10\"/>\\n</trip>\\n<trip id=\"veh5\" type=\"norm\" depart=\"0\" from=\"72644726#1\" to=\"72644726#1\">\\n\\t<stop parkingArea=\"pa-183876531#3\" duration=\"10\"/>\\n\\t<stop parkingArea=\"pa72644726#1\" duration=\"10\"/>\\n\\t<stop parkingArea=\"pa-183876531#3\" duration=\"10\"/>\\n\\t<stop parkingArea=\"pa269853395#1\" duration=\"20\"/>\\n\\t<stop parkingArea=\"pa890738229#4\" duration=\"10\"/>\\n\\t<stop parkingArea=\"pa72644726#1\" duration=\"10\"/>\\n\\t<stop parkingArea=\"pa-183876531#3\" duration=\"10\"/>\\n\\t<stop parkingArea=\"pa72644726#1\" duration=\"20\"/>\\n\\t<stop parkingArea=\"pa75416306#1\" duration=\"10\"/>\\n\\t<stop parkingArea=\"pa75413331#1\" duration=\"10\"/>\\n</trip>\\n\\n\\n <!-- END - LLM Generated trips -->\\n\\n<!-- BEGIN - Random Trips -->\\n\\n\\n</routes>'"
      ]
     },
     "execution_count": 20,
     "metadata": {},
     "output_type": "execute_result"
    }
   ],
   "source": [
    "departure_times = []\n",
    "for i in range(len(location_time_list)):\n",
    "    departure_times.append((list(location_time_list[i].keys())[0] - 7) * 10)\n",
    "\n",
    "styles = [\"agg\", \"norm\"] # Currently only two styles, but can be expanded\n",
    "n_vtypes = 5 \n",
    "veh_style_per_student = []\n",
    "for i in range(len(location_time_list)):\n",
    "    if i < len(location_time_list) / 2:\n",
    "        veh_style_per_student.append('agg')\n",
    "    else: \n",
    "        veh_style_per_student.append('norm')   \n",
    "\n",
    "# IMPORTANT: If the desire is to generate alternative routes for the random trips, rand_trips must be set to randtrips.trips.xml, otherwise, the random_trips will be merged with the alternative routes for the LLM generated trips.\n",
    "# If rand_trips is set to None, the PATHGEN.rou.alt.xml file should be used in osm.sumocfg. Otherwise, the merged.rou.alt.xml file should be used.\n",
    "rand_trips = None\n",
    "final_trips_file_name = \"finaltrips.rou.xml\"\n",
    "\n",
    "getRandomTrips(net_path, add_path, \"passenger\", 10) # Generating random trips to randomtrips.rou.xml\n",
    "parseTripXML(location_time_list, parkingAreas, departure_times, styles, veh_style_per_student, n_vtypes, steps_per_stop=10, rand_trips=rand_trips, out_file_name=final_trips_file_name) # Parsing to PATHGEN.trips.xml"
   ]
  },
  {
   "cell_type": "markdown",
   "metadata": {},
   "source": [
    "Getting alternative routes for every route found"
   ]
  },
  {
   "cell_type": "code",
   "execution_count": 21,
   "metadata": {},
   "outputs": [],
   "source": [
    "## Arguments to get alternative routes\n",
    "duaiterate_path = \"/usr/share/sumo/tools/assign/duaIterate.py\"\n",
    "def duaiterate_getArgs(net_path, trips_path, additional_path, iterations):\n",
    "    args = [\n",
    "        \"-n\", net_path,\n",
    "        \"-t\", trips_path,\n",
    "        \"--additional\", additional_path,\n",
    "        \"duarouter--additional-files\", additional_path,\n",
    "        \"-l\", str(iterations),\n",
    "    ]\n",
    "    return args"
   ]
  },
  {
   "cell_type": "code",
   "execution_count": 22,
   "metadata": {},
   "outputs": [],
   "source": [
    "def getAltRoutes(net_path, trips_path, additional_path, iterations):\n",
    "    # Run the duarouter to find alternative routes\n",
    "    # Currently this only works for less than 10 iterations because of file naming\n",
    "    for file in os.listdir('.'):\n",
    "        if file.startswith('PATHGEN_') and file.endswith('.rou.alt.xml'):\n",
    "            os.remove(file)\n",
    "    \n",
    "    try:\n",
    "        subprocess.run(['python3', duaiterate_path] + duaiterate_getArgs(net_path, trips_path, additional_path, iterations), check=True)\n",
    "        shutil.move(f'00{iterations-1}/finaltrips_00{iterations-1}.rou.alt.xml', f'finaltrips_00{iterations-1}.rou.alt.xml')\n",
    "        for i in range(iterations):\n",
    "            if os.path.exists(f'00{i}'):\n",
    "                shutil.rmtree(f'00{i}')\n",
    "                \n",
    "        for file in os.listdir('.'):\n",
    "            if file.startswith('finaltrips_') and file.endswith('.rou.alt.xml'):\n",
    "                os.rename(file, f'finaltrips.rou.xml')\n",
    "    except subprocess.CalledProcessError as e:\n",
    "        print(f\"{e}\")"
   ]
  },
  {
   "cell_type": "code",
   "execution_count": 23,
   "metadata": {},
   "outputs": [
    {
     "name": "stdout",
     "output_type": "stream",
     "text": [
      "> Executing step 0\n",
      ">> Running router on finaltrips.rou.xml\n",
      ">>> Begin time: 2024-12-02 15:26:41.029443\n",
      ">>> End time: 2024-12-02 15:26:41.547549\n",
      ">>> Duration: 0:00:00.518106\n",
      "<<\n",
      ">> Running simulation\n",
      ">>> Begin time: 2024-12-02 15:26:41.547630\n",
      ">>> End time: 2024-12-02 15:26:42.644758\n",
      ">>> Duration: 0:00:01.097128\n",
      "<<\n",
      "< Step 0 ended (duration: 0:00:01.615449)\n",
      "------------------\n",
      "\n",
      "> Executing step 1\n",
      ">> Running router on 000/finaltrips_000.rou.alt.xml\n",
      ">>> Begin time: 2024-12-02 15:26:42.650677\n",
      ">>> End time: 2024-12-02 15:26:43.193023\n",
      ">>> Duration: 0:00:00.542346\n",
      "<<\n",
      ">> Running simulation\n",
      ">>> Begin time: 2024-12-02 15:26:43.193123\n",
      ">>> End time: 2024-12-02 15:26:44.294166\n",
      ">>> Duration: 0:00:01.101043\n",
      "<<\n",
      "< Step 1 ended (duration: 0:00:01.643673)\n",
      "------------------\n",
      "\n",
      "> Executing step 2\n",
      ">> Running router on 001/finaltrips_001.rou.alt.xml\n",
      ">>> Begin time: 2024-12-02 15:26:44.301058\n",
      ">>> End time: 2024-12-02 15:26:44.841560\n",
      ">>> Duration: 0:00:00.540502\n",
      "<<\n",
      ">> Running simulation\n",
      ">>> Begin time: 2024-12-02 15:26:44.841659\n",
      ">>> End time: 2024-12-02 15:26:45.982207\n",
      ">>> Duration: 0:00:01.140548\n",
      "<<\n",
      "< Step 2 ended (duration: 0:00:01.681316)\n",
      "------------------\n",
      "\n",
      "dua-iterate ended (duration: 0:00:04.962086)\n"
     ]
    }
   ],
   "source": [
    "getAltRoutes(net_path, 'finaltrips.rou.xml', add_path, 3)"
   ]
  },
  {
   "cell_type": "markdown",
   "metadata": {},
   "source": [
    "To use this file, just set PATHGEN.rou.alt.xml as a trips file in osm.sumocfg"
   ]
  },
  {
   "cell_type": "markdown",
   "metadata": {},
   "source": [
    "If there is no need to generate alternative router for the random trips, the following XML parser must be used to add them:"
   ]
  },
  {
   "cell_type": "code",
   "execution_count": 24,
   "metadata": {},
   "outputs": [],
   "source": [
    "def merge_routes(alternative_routes, random_routes):\n",
    "    # Merges two route files into one\n",
    "    \n",
    "    xml = '<routes xmlns:xsi=\"http://www.w3.org/2001/XMLSchema-instance\" xsi:noNamespaceSchemaLocation=\"http://sumo.dlr.de/xsd/routes_file.xsd\">\\n'\n",
    "\n",
    "    xml += '\\n<!-- BEGIN - LLM Generated trips -->\\n'\n",
    "\n",
    "    with open(alternative_routes, 'r') as f:\n",
    "        start_read = False\n",
    "        for line in f:\n",
    "            test = line.strip()\n",
    "            if test.startswith('<vType'):\n",
    "                start_read = True\n",
    "            if start_read:\n",
    "                if line.startswith('</routes>'):\n",
    "                    break\n",
    "                xml += line\n",
    "\n",
    "    xml += '\\n\\n <!-- END - LLM Generated trips -->\\n\\n'\n",
    "\n",
    "    xml += '<!-- BEGIN - Random Trips -->\\n\\n'\n",
    "\n",
    "    with open(random_routes, 'r') as f:\n",
    "        start_read = False\n",
    "        for line in f:\n",
    "            test = line.strip()\n",
    "            if test.startswith('<vType'):\n",
    "                start_read = True\n",
    "            if start_read:\n",
    "                xml += line\n",
    "\n",
    "    with open('finaltrips.rou.xml', 'w') as f:\n",
    "        f.write(xml)\n",
    "    \n",
    "    return xml    "
   ]
  },
  {
   "cell_type": "code",
   "execution_count": 25,
   "metadata": {},
   "outputs": [],
   "source": [
    "# If alternative routes for random trips were ignored, the 'merged.rou.alt.xml' file will be created and should be used in osm.sumocfg\n",
    "if rand_trips == None:\n",
    "    merge_routes('finaltrips.rou.xml', 'randtrips.rou.xml')"
   ]
  },
  {
   "cell_type": "markdown",
   "metadata": {},
   "source": []
  }
 ],
 "metadata": {
  "kernelspec": {
   "display_name": "Python 3",
   "language": "python",
   "name": "python3"
  },
  "language_info": {
   "codemirror_mode": {
    "name": "ipython",
    "version": 3
   },
   "file_extension": ".py",
   "mimetype": "text/x-python",
   "name": "python",
   "nbconvert_exporter": "python",
   "pygments_lexer": "ipython3",
   "version": "3.10.12"
  }
 },
 "nbformat": 4,
 "nbformat_minor": 2
}
