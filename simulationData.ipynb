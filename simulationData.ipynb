{
 "cells": [
  {
   "cell_type": "code",
   "execution_count": 1,
   "metadata": {},
   "outputs": [],
   "source": [
    "import os\n",
    "import sys\n",
    "import shutil\n",
    "import re\n",
    "import copy\n",
    "\n",
    "import pandas as pd\n",
    "import numpy as np\n",
    "import matplotlib.pyplot as plt\n",
    "if 'SUMO_HOME' in os.environ:\n",
    "    sys.path.append(os.path.join(os.environ['SUMO_HOME'], 'tools'))\n",
    "import traci\n",
    "import traci.constants as tc\n",
    "import sumolib\n",
    "import xml.etree.ElementTree as ET\n",
    "\n",
    "# Add the \"scripts\" directory to sys.path\n",
    "current_dir = os.path.dirname(os.path.abspath(\"__file__\"))\n",
    "scripts_dir = os.path.abspath(os.path.join(current_dir, 'scripts'))\n",
    "sys.path.append(scripts_dir)\n",
    "import animateGPS\n",
    "import importlib\n",
    "\n",
    "FOLDER_NAME = 'unicamp_routine'"
   ]
  },
  {
   "cell_type": "code",
   "execution_count": 2,
   "metadata": {},
   "outputs": [],
   "source": [
    "sumoBinary = \"/usr/bin/sumo-gui\"\n",
    "sumoCmd = [sumoBinary, \"-c\", \"osm.sumocfg\"]"
   ]
  },
  {
   "cell_type": "code",
   "execution_count": 3,
   "metadata": {},
   "outputs": [],
   "source": [
    "# Code of each variable to subscribe:\n",
    "SPEED = 64\n",
    "POSITION = 66\n",
    "ACCELERATION = 114\n",
    "ANGLE = 67\n",
    "DEPATURE = 58"
   ]
  },
  {
   "cell_type": "code",
   "execution_count": 4,
   "metadata": {},
   "outputs": [],
   "source": [
    "def add_xml_child(file_path, parent_tag, child_tag, child_value, replace=True):\n",
    "    \"\"\"\n",
    "    Adds a new child parameter inside a specified parent tag in the XML configuration file.\n",
    "    If the parent tag does not exist, it creates a new parent tag (<parameter>) with the child.\n",
    "    It also checks if the child element already exists to prevent duplicates.\n",
    "\n",
    "    Args:\n",
    "        file_path (str): Path to the XML configuration file.\n",
    "        parent_tag (str): The parent tag under which to add the child (e.g., 'input').\n",
    "        child_tag (str): The child tag to add (e.g., 'additional-files').\n",
    "        child_value (str): The value to set for the new child tag.\n",
    "        replace (bool): If True, replaces the existing child tag with the new value.\n",
    "                        If False, adds another child value.\n",
    "    Returns:\n",
    "        bool: True if the addition was successful, False otherwise.\n",
    "    \"\"\"\n",
    "    try:\n",
    "        # Parse the XML file\n",
    "        tree = ET.parse(file_path)\n",
    "        root = tree.getroot()\n",
    "\n",
    "        # Find the parent element by tag\n",
    "        parent_elem = root.find(parent_tag)\n",
    "        if parent_elem is None:\n",
    "            print(f\"Parent tag '{parent_tag}' not found. Creating new parent tag.\")\n",
    "            parent_elem = ET.Element(parent_tag)\n",
    "            root.append(parent_elem)\n",
    "            print(f\"Created new parent tag <{parent_tag}>.\")\n",
    "\n",
    "        # Check if the child element already exists inside the parent element\n",
    "        existing_child = parent_elem.find(child_tag)\n",
    "        if existing_child is not None: \n",
    "            \n",
    "            if existing_child.get('value') == child_value:\n",
    "                print(f\"Child <{child_tag}> with value '{child_value}' already exists. Skipping addition.\")\n",
    "                return False\n",
    "            else:\n",
    "                if replace:\n",
    "                    print(f\"Child <{child_tag}> already exists. Updating value to '{child_value}'.\")\n",
    "                    existing_child.set('value', child_value)\n",
    "                else:\n",
    "                    if child_value in existing_child.get('value').split(', '):\n",
    "                        print(f\"Child <{child_tag}> with value '{child_value}' already exists. Skipping addition.\")\n",
    "                        return False\n",
    "                    \n",
    "                    print(f\"Child <{child_tag}> already exists. Adding another child with value '{child_value}'.\")\n",
    "                    existing_child.set('value', f'{existing_child.get(\"value\")}, {child_value}')\n",
    "                \n",
    "                tree.write(file_path, encoding=\"UTF-8\", xml_declaration=True, method=\"xml\")\n",
    "                print(\"XML file updated successfully.\")\n",
    "                return True\n",
    "\n",
    "        # Create the new child element and set its value\n",
    "        new_child = ET.Element(child_tag)\n",
    "        new_child.set('value', child_value)\n",
    "        print(f\"Created <{child_tag}> with value '{child_value}'.\")\n",
    "\n",
    "        # Add the new child to the parent element\n",
    "        parent_elem.append(new_child)\n",
    "        print(f\"Added <{child_tag}> to <{parent_tag}>.\")\n",
    "\n",
    "        # Write the updated XML to the file\n",
    "        tree.write(file_path, encoding=\"UTF-8\", xml_declaration=True, method=\"xml\")\n",
    "        print(\"XML file updated successfully.\")\n",
    "        return True\n",
    "\n",
    "    except ET.ParseError as e:\n",
    "        print(f\"XML Parsing error: {e}\")\n",
    "        return False\n",
    "    except Exception as e:\n",
    "        print(f\"An error occurred: {e}\")\n",
    "        return False"
   ]
  },
  {
   "cell_type": "code",
   "execution_count": 5,
   "metadata": {},
   "outputs": [],
   "source": [
    "def flush_print():\n",
    "    sys.stdout.write(\"\\r\")  # Move the cursor to the beginning of the line\n",
    "    sys.stdout.write(\" \" * 50)  # Overwrite with spaces to clear the line\n",
    "    sys.stdout.write(\"\\r\")  # Move back to the beginning again"
   ]
  },
  {
   "cell_type": "code",
   "execution_count": 6,
   "metadata": {},
   "outputs": [],
   "source": [
    "def get_all_variables(vehIDs, personIDs, routine=None, delta_time=0.05, end_hours=24, useGui=False, convertGeo=True, freeze_traffic_lights=False):\n",
    "    \"\"\"\n",
    "    Function to get all variables from the simulation.\n",
    "    :param vehIDs: List of vehicle IDs to subscribe to.\n",
    "    :param personIDs: List of person IDs to subscribe to.\n",
    "    :param routine: Dictionary with the routine of the vehicles.\n",
    "    :param useGui: Boolean to use the GUI or not.\n",
    "    :param convertGeo: Boolean to convert the coordinates from sumo to lat/lon (does not work when using maps from CARLA).\n",
    "    :param freeze_traffic_lights: If true, traffic lights are green all the time.\n",
    "    :return: Dictionary with the variables.\n",
    "    \"\"\"\n",
    "\n",
    "    if useGui:\n",
    "        traci.start([\"sumo-gui\", \"-c\", f\"{FOLDER_NAME}/osm.sumocfg\"])\n",
    "    else:\n",
    "        traci.start([\"sumo\", \"-c\", f\"{FOLDER_NAME}/osm.sumocfg\"])\n",
    "    v_variables = {}\n",
    "    p_variables = {}\n",
    "\n",
    "    if end_hours != 0:\n",
    "        end_time = f'{end_hours * 60 * (60/delta_time)}' # 24 hours\n",
    "    else:\n",
    "        end_time = ''\n",
    "    \n",
    "    add_xml_child(f'{FOLDER_NAME}/osm.sumocfg', 'time', 'step-length', f'{delta_time}', replace=True)\n",
    "    add_xml_child(f'{FOLDER_NAME}/osm.sumocfg', 'time', 'end', end_time, replace=True)\n",
    "\n",
    "    # Get all traffic light IDs\n",
    "    if freeze_traffic_lights:\n",
    "        tls_ids = traci.trafficlight.getIDList()\n",
    "\n",
    "        # Set all traffic lights to constant green\n",
    "        for tls_id in tls_ids:\n",
    "            # Get logic info\n",
    "            logic = traci.trafficlight.getCompleteRedYellowGreenDefinition(tls_id)[0]\n",
    "\n",
    "            # Create a new green-only phase\n",
    "            green_state = 'G' * len(logic.phases[0].state)\n",
    "            green_phase = traci.trafficlight.Phase(duration=9999999, state=green_state)\n",
    "\n",
    "            # Replace the logic with only this green phase\n",
    "            new_logic = traci.trafficlight.Logic(\n",
    "                logic.programID, logic.type, logic.currentPhaseIndex, [green_phase]\n",
    "            )\n",
    "            traci.trafficlight.setCompleteRedYellowGreenDefinition(tls_id, new_logic)\n",
    "    \n",
    "    # To understand when a car has changed its destionation, we need to know it parked\n",
    "    if routine:\n",
    "        status = {}\n",
    "        for id in routine.keys():\n",
    "            status[id] = {}\n",
    "            status[id]['parked'] = False # True if the vehicle is parked\n",
    "            status[id]['count'] = 0 # Count of number of times a vehicle has parked\n",
    "            status[id]['stops'] = list(routine[id]['name']) # List of stops for the vehicle\n",
    "            status[id]['desc'] = f'<home-{status[id][\"stops\"][1]}>' # Description of the vehicle's status\n",
    "\n",
    "    time = 0\n",
    "    arrived = [] # List of vehicles that have arrived at their destination\n",
    "    while traci.simulation.getMinExpectedNumber() > 0:\n",
    "\n",
    "        for veh_id in (set(traci.simulation.getDepartedIDList()) & set(vehIDs)): # Subscribe to vehicles that have just departed\n",
    "            print(f\"Vehicle {veh_id} has departed\")\n",
    "            traci.vehicle.subscribe(veh_id, [tc.VAR_POSITION, tc.VAR_SPEED, tc.VAR_ACCELERATION, tc.VAR_ANGLE])\n",
    "        \n",
    "        for veh_id in (set(traci.vehicle.getIDList()) & set(vehIDs)): # Checking status of vehicles that are already in the simulation\n",
    "            if routine:\n",
    "                is_parked = traci.vehicle.isStoppedParking(veh_id)\n",
    "                if not status[veh_id]['parked'] and is_parked:  # Vehicle was not parked and now is parked\n",
    "                    status[veh_id]['parked'] = True\n",
    "                    status[veh_id]['count'] += 1\n",
    "                    current_location = status[veh_id][\"stops\"][status[veh_id][\"count\"]]\n",
    "                    next_location = status[veh_id][\"stops\"][status[veh_id][\"count\"] + 1] if status[veh_id][\"count\"] + 1 < len(status[veh_id][\"stops\"]) else None\n",
    "                    status[veh_id]['desc'] = f'<{current_location}-{current_location}>'\n",
    "                    print(f\"Vehicle {veh_id} is parked at {current_location}. Count: {status[veh_id]['count']}\")\n",
    "\n",
    "                elif status[veh_id]['parked'] and not is_parked:  # Vehicle was parked and now is not parked\n",
    "                    status[veh_id]['parked'] = False\n",
    "                    current_location = status[veh_id][\"stops\"][status[veh_id][\"count\"]]\n",
    "                    next_location = status[veh_id][\"stops\"][status[veh_id][\"count\"] + 1] if status[veh_id][\"count\"] + 1 < len(status[veh_id][\"stops\"]) else None\n",
    "                    status[veh_id]['desc'] = f'<{current_location}-{next_location}>'\n",
    "\n",
    "        for veh_id in (set(traci.simulation.getArrivedIDList()) & set(vehIDs)): # Vehicles that finished their route\n",
    "            # traci.vehicle.unsubscribe(veh_id)\n",
    "            if routine:\n",
    "                print(f\"Vehicle {veh_id} has arrived at its destination.\")\n",
    "                status[veh_id]['count'] += 1\n",
    "                current_location = status[veh_id][\"stops\"][status[veh_id][\"count\"]]\n",
    "                status[veh_id]['desc'] = f'<{current_location}-{current_location}>'\n",
    "            \n",
    "            arrived.append(veh_id)\n",
    "            if (len(arrived) == len(vehIDs)):\n",
    "                print(\"All vehicles have arrived at their destination.\")\n",
    "                traci.close()\n",
    "                return v_variables, p_variables\n",
    "\n",
    "        results = traci.vehicle.getAllSubscriptionResults().copy()\n",
    "\n",
    "        for veh_id in results.keys():\n",
    "            # Converting from x, y sumo coordinates to lat, lon\n",
    "            if convertGeo:\n",
    "                x, y = results[veh_id][tc.VAR_POSITION]\n",
    "                lon, lat = traci.simulation.convertGeo(x, y, fromGeo=False)\n",
    "                results[veh_id]['longitude'] = lon\n",
    "                results[veh_id]['latitude'] = lat\n",
    "                \n",
    "            if routine:\n",
    "                results[veh_id]['desc'] = status[veh_id]['desc']\n",
    "\n",
    "        v_variables[time] = results\n",
    "        \n",
    "        time += delta_time\n",
    "        traci.simulationStep()\n",
    "        \n",
    "    traci.close()\n",
    "    return v_variables, p_variables"
   ]
  },
  {
   "cell_type": "code",
   "execution_count": 7,
   "metadata": {},
   "outputs": [],
   "source": [
    "def get_departure_arrival(variables, ID):\n",
    "    # Devolve o tempo de depareture e arrival de um veículo ou pessoa\n",
    "    departure = 0\n",
    "    arrival = 0\n",
    "    departed = False\n",
    "    arrived = False\n",
    "    for x in range(len(variables)):\n",
    "        if ID in variables[x] and variables[x][ID] and not departed:\n",
    "            departed = True\n",
    "            departure = x\n",
    "        elif ID not in variables[x] and departed:\n",
    "            arrival = x\n",
    "            arrived = True\n",
    "            break\n",
    "    if not arrived:\n",
    "        arrival = len(variables)\n",
    "    return departure, arrival"
   ]
  },
  {
   "cell_type": "code",
   "execution_count": 8,
   "metadata": {},
   "outputs": [],
   "source": [
    "def extract_vtype_ids(route_file_path, sulfix='veh'):\n",
    "    # sulfix is the suffix of the vehicle ID to identify the vehicles from routines\n",
    "    root = ET.parse(route_file_path).getroot()\n",
    "    ids_random = {}\n",
    "    ids_routine = {}\n",
    "    for vehicle in (root.findall('vehicle') + root.findall('trip')):\n",
    "        v_type = re.sub(r'\\d+', '', vehicle.get('type').split('_', 1)[1])\n",
    "        vID = vehicle.get('id')\n",
    "\n",
    "        if vID.startswith(sulfix):\n",
    "            if v_type not in ids_routine.keys():\n",
    "                ids_routine[v_type] = []\n",
    "\n",
    "            ids_routine[v_type].append(vID)\n",
    "\n",
    "        else:\n",
    "            if v_type not in ids_random.keys():\n",
    "                ids_random[v_type] = []\n",
    "\n",
    "            ids_random[v_type].append(vID)\n",
    "\n",
    "    return ids_routine, ids_random"
   ]
  },
  {
   "cell_type": "code",
   "execution_count": 9,
   "metadata": {},
   "outputs": [],
   "source": [
    "def plot_df(ids, df, sensors, normalize_time=True, time_window=[], use_lat_lon=True, save_path=None):\n",
    "\n",
    "    fig, axes = plt.subplots(nrows=len(ids), ncols=2, figsize=(15, 5 * len(ids)))\n",
    "    axes = axes.flatten()  # Flatten the axes array for easy indexing\n",
    "\n",
    "    df[\"speed\"] = df[\"speed\"].values.astype(float)\n",
    "    df[\"acceleration\"] = df[\"acceleration\"].values.astype(float)\n",
    "    df[\"angle\"] = df[\"angle\"].values.astype(float)\n",
    "    # Shift the time so that it starts at zero\n",
    "    if normalize_time:\n",
    "        df[\"timestamp\"] = df[\"timestamp\"] - df[\"timestamp\"].min()\n",
    "    \n",
    "    # Limit the time window if specified\n",
    "    if time_window:\n",
    "        df = df[(df[\"timestamp\"] >= time_window[0]) & (df[\"timestamp\"] <= time_window[1])]\n",
    "\n",
    "    if use_lat_lon:\n",
    "        lat = df[\"latitude\"].values\n",
    "        lon = df[\"longitude\"].values\n",
    "    else:\n",
    "        lat = df[\"y_pos\"].values\n",
    "        lon = df[\"x_pos\"].values\n",
    "\n",
    "    for i, veh_id in enumerate(ids):\n",
    "        # Plot each selected sensor in its own subplot\n",
    "        plot_line = i * 2\n",
    "        for sensor in sensors:\n",
    "            if sensor == 'gps':\n",
    "                scatter = axes[plot_line + 1].scatter(lon, lat, c=df[\"timestamp\"], cmap='viridis', label=\"Position (colored by time)\", s=df[\"timestamp\"] * 0.05)\n",
    "                cbar = fig.colorbar(scatter, ax=axes[plot_line + 1])\n",
    "                cbar.set_label(\"timestamp\")\n",
    "                axes[plot_line + 1].set_ylim(lat.min() - 0.001, lat.max() + 0.001)\n",
    "                axes[plot_line + 1].set_xlim(lon.min() - 0.001, lon.max() + 0.001)\n",
    "                axes[plot_line + 1].set_xlabel(\"x position\")\n",
    "                axes[plot_line + 1].set_ylabel(\"y position\")\n",
    "                axes[plot_line + 1].set_title(f\"Vehicle position over time\")\n",
    "            else:\n",
    "                axes[plot_line].plot(df[\"timestamp\"], df[sensor], label=sensor.capitalize())\n",
    "                axes[plot_line].set_xlim(df[\"timestamp\"].min(), df[\"timestamp\"].max())\n",
    "\n",
    "        axes[plot_line].set_ylabel(\"Speed (m/s) / Acceleration (m/s²)\")\n",
    "        axes[plot_line].set_xlabel(\"Simulation time (s)\")\n",
    "        axes[plot_line].set_title(f\"Vehicle speed and acceleration over time\")\n",
    "        axes[plot_line].legend()\n",
    "\n",
    "    plt.tight_layout()\n",
    "\n",
    "    if save_path:\n",
    "        plt.savefig(save_path)\n",
    "    else:\n",
    "        plt.show()\n",
    "\n",
    "    fig.clf()"
   ]
  },
  {
   "cell_type": "code",
   "execution_count": 10,
   "metadata": {},
   "outputs": [],
   "source": [
    "def save_data(veh_variables, data_folder_name, vehIDs, delta_time, file_names_postfix = '', new_dir = False, type_ids_random = None, verify=True, type_ids_routine=None, use_desc=True, use_lat_lon=True, speed_threshold=6, acc_threshold=6, derivative_threshold=3):\n",
    "\n",
    "    if new_dir:\n",
    "        if not os.path.exists(f'{FOLDER_NAME}/{data_folder_name}'):\n",
    "            os.mkdir(f'{FOLDER_NAME}/{data_folder_name}')\n",
    "        else:\n",
    "            shutil.rmtree(f'{FOLDER_NAME}/{data_folder_name}')\n",
    "            os.mkdir(f'{FOLDER_NAME}/{data_folder_name}')\n",
    "\n",
    "    for timestep, data in veh_variables.items():\n",
    "        for vehID, vehData in data.items():\n",
    "\n",
    "            if use_lat_lon:\n",
    "                columns = 'timestamp,latitude,longitude,speed,acc,angle,acc_diff,gyro_z'\n",
    "            else:\n",
    "                columns = 'timestamp,x_pos,y_pos,speed,acc,angle,acc_diff,gyro_z'\n",
    "\n",
    "            path = f'{FOLDER_NAME}/{data_folder_name}/{vehID}{file_names_postfix}.csv'\n",
    "            nolabel_path = f'{FOLDER_NAME}/{data_folder_name}/{vehID}{file_names_postfix}_nolabel.csv'\n",
    "            if use_desc:\n",
    "                if not os.path.exists(path):\n",
    "\n",
    "                    with open(path, 'w') as f:\n",
    "                        f.write(f'{columns},desc\\n')\n",
    "            \n",
    "            if not os.path.exists(nolabel_path):\n",
    "                with open(nolabel_path, 'w') as f:\n",
    "                    f.write(f'{columns}\\n')\n",
    "                    \n",
    "            write_speed = vehData[SPEED]\n",
    "            write_angle = vehData[ANGLE]\n",
    "            write_acc = vehData[ACCELERATION]\n",
    "            write_x = vehData[POSITION][0]\n",
    "            write_y = vehData[POSITION][1]\n",
    "\n",
    "            if verify:\n",
    "                derivative_threshold\n",
    "                try: \n",
    "                    derivative_speed = (veh_variables[timestep][vehID][SPEED] - veh_variables[timestep-derivative_threshold][vehID][SPEED]) / derivative_threshold\n",
    "                    derivative_acceleration = (veh_variables[timestep][vehID][ACCELERATION] - veh_variables[timestep-derivative_threshold][vehID][ACCELERATION]) / derivative_threshold\n",
    "                except:\n",
    "                    derivative_speed = 0\n",
    "                    derivative_acceleration = 0\n",
    "                    \n",
    "                # Making verification to ensure there are no outliers\n",
    "                if derivative_speed > speed_threshold or derivative_speed < -speed_threshold:\n",
    "                    last_speed = veh_variables[timestep-delta_time][vehID][SPEED]\n",
    "                    print(f'Vehicle {vehID} at timestep {timestep} had a speed of {vehData[SPEED]}, it was changed to {last_speed}')\n",
    "                    veh_variables[timestep][vehID][SPEED] = last_speed\n",
    "                    write_speed = last_speed\n",
    "\n",
    "                if derivative_acceleration > acc_threshold or derivative_acceleration < -acc_threshold:\n",
    "                    last_acc = veh_variables[timestep - delta_time][vehID][ACCELERATION]\n",
    "                    print(f'Vehicle {vehID} at timestep {timestep} had an acceleration of {vehData[ACCELERATION]}, it was changed to {last_acc}')\n",
    "                    veh_variables[timestep][vehID][ACCELERATION] = last_acc\n",
    "                    write_acc = last_acc\n",
    "                \n",
    "                if vehData[ANGLE] < 0 or vehData[ANGLE] > 360:\n",
    "                    last_angle = veh_variables[timestep - delta_time][vehID][ANGLE]\n",
    "                    print(f'Vehicle {vehID} at timestep {timestep} had an angle of {vehData[ANGLE]}, it was changed to {last_angle}')\n",
    "                    veh_variables[timestep][vehID][ANGLE] = last_angle\n",
    "                    write_angle = last_angle\n",
    "\n",
    "            if write_speed < -100: # Invalid values\n",
    "                write_speed = 0\n",
    "                print(f'Vehicle {vehID} at timestep {timestep} had a INVALID speed of {vehData[SPEED]}, it was changed to 0')\n",
    "            if write_acc < -100 or write_acc > 100: # Invalid values\n",
    "                write_acc = 0\n",
    "                print(f'Vehicle {vehID} at timestep {timestep} had a INVALID acceleration of {vehData[ACCELERATION]}, it was changed to 0')\n",
    "            \n",
    "            try:\n",
    "                acc_diff = np.abs((veh_variables[timestep][vehID][ACCELERATION] -\n",
    "                                veh_variables[timestep - delta_time][vehID][ACCELERATION]) / delta_time)\n",
    "\n",
    "                current_angle = np.radians(veh_variables[timestep][vehID][ANGLE])\n",
    "                previous_angle = np.radians(veh_variables[timestep - delta_time][vehID][ANGLE])\n",
    "\n",
    "                # Proper angle wrapping to handle transitions like 359° -> 0°\n",
    "                angle_diff = np.arctan2(np.sin(current_angle - previous_angle),\n",
    "                                        np.cos(current_angle - previous_angle))\n",
    "\n",
    "                gyroscope_z = angle_diff / delta_time  # radians/second\n",
    "            except:\n",
    "                acc_diff = np.abs(write_acc)\n",
    "                gyroscope_z = 0.0\n",
    "\n",
    "            if use_lat_lon:\n",
    "                line = f'{timestep},{vehData[\"latitude\"]},{vehData[\"longitude\"]},{write_speed},{write_acc},{write_angle},{acc_diff},{gyroscope_z}'\n",
    "            else:\n",
    "                line = f'{timestep},{write_x},{write_y},{write_speed},{write_acc},{write_angle},{acc_diff},{gyroscope_z}'\n",
    "\n",
    "            if use_desc:\n",
    "                with open(path, 'a') as f:\n",
    "                    f.write(f'{line},{vehData[\"desc\"]}\\n')\n",
    "            \n",
    "            with open(nolabel_path, 'a') as f:\n",
    "                f.write(f'{line}\\n')\n",
    "        \n",
    "    # Creating the labels file\n",
    "    if use_desc:\n",
    "        with open(f'{FOLDER_NAME}/{data_folder_name}/labels.csv', 'w') as f:\n",
    "            f.write('ID,Type\\n')\n",
    "            found = False\n",
    "            for i in range(len(vehIDs)):\n",
    "            \n",
    "                if type_ids_random and not found:\n",
    "                    for key, value in type_ids_random.items():\n",
    "                        if vehIDs[i] in str(value):\n",
    "                            f.write(f'{vehIDs[i]},{key}\\n')\n",
    "                            found = True\n",
    "                            break\n",
    "                    \n",
    "                if type_ids_routine and not found:\n",
    "                    for key, value in type_ids_routine.items():\n",
    "                        if vehIDs[i] in str(value):\n",
    "                            f.write(f'{vehIDs[i]},{key}\\n')\n",
    "                            break"
   ]
  },
  {
   "cell_type": "markdown",
   "metadata": {},
   "source": [
    "# Simulating and getting the data"
   ]
  },
  {
   "cell_type": "code",
   "execution_count": 13,
   "metadata": {},
   "outputs": [],
   "source": [
    "# IDs of vehicles and persons to subscribe\n",
    "type_ids_routine, type_ids_random = extract_vtype_ids(f'{FOLDER_NAME}/merged.rou.alt.xml', sulfix='pizza')\n",
    "\n",
    "# Flatten the type_ids_random values into a 1D array\n",
    "type_ids_random_1d = [item for sublist in type_ids_random.values() for item in sublist]\n",
    "type_ids_routine_1d = [item for sublist in type_ids_routine.values() for item in sublist]\n",
    "\n",
    "# WARNING: ALWAYS LET THE LAST VEHICLES BE THE ONES WITH ROUTINES\n",
    "# IMPORTANT: Make sure the IDs are strings\n",
    "# vehIDs = [f'{i}' for i in type_ids_random_1d] + list(type_ids_routine.values()) # For all vehicles\n",
    "vehIDs = type_ids_routine_1d # For only vehicles with routines\n",
    "personIDs = []"
   ]
  },
  {
   "cell_type": "code",
   "execution_count": 14,
   "metadata": {},
   "outputs": [
    {
     "data": {
      "text/html": [
       "<div>\n",
       "<style scoped>\n",
       "    .dataframe tbody tr th:only-of-type {\n",
       "        vertical-align: middle;\n",
       "    }\n",
       "\n",
       "    .dataframe tbody tr th {\n",
       "        vertical-align: top;\n",
       "    }\n",
       "\n",
       "    .dataframe thead th {\n",
       "        text-align: right;\n",
       "    }\n",
       "</style>\n",
       "<table border=\"1\" class=\"dataframe\">\n",
       "  <thead>\n",
       "    <tr style=\"text-align: right;\">\n",
       "      <th></th>\n",
       "      <th>location</th>\n",
       "      <th>name</th>\n",
       "      <th>x_pos</th>\n",
       "      <th>y_pos</th>\n",
       "    </tr>\n",
       "    <tr>\n",
       "      <th>Time</th>\n",
       "      <th></th>\n",
       "      <th></th>\n",
       "      <th></th>\n",
       "      <th></th>\n",
       "    </tr>\n",
       "  </thead>\n",
       "  <tbody>\n",
       "    <tr>\n",
       "      <th>7</th>\n",
       "      <td>home</td>\n",
       "      <td>home</td>\n",
       "      <td>-22.821710</td>\n",
       "      <td>-47.074029</td>\n",
       "    </tr>\n",
       "    <tr>\n",
       "      <th>8</th>\n",
       "      <td>Instituto de Computação</td>\n",
       "      <td>Instituto de Computação</td>\n",
       "      <td>-22.815546</td>\n",
       "      <td>-47.067300</td>\n",
       "    </tr>\n",
       "    <tr>\n",
       "      <th>9</th>\n",
       "      <td>home</td>\n",
       "      <td>home</td>\n",
       "      <td>-22.821710</td>\n",
       "      <td>-47.074029</td>\n",
       "    </tr>\n",
       "    <tr>\n",
       "      <th>10</th>\n",
       "      <td>Instituto de Filosofia e Ciências Humanas</td>\n",
       "      <td>Instituto de Filosofia e Ciências Humanas</td>\n",
       "      <td>-22.815256</td>\n",
       "      <td>-47.068342</td>\n",
       "    </tr>\n",
       "    <tr>\n",
       "      <th>11</th>\n",
       "      <td>home</td>\n",
       "      <td>home</td>\n",
       "      <td>-22.821710</td>\n",
       "      <td>-47.074029</td>\n",
       "    </tr>\n",
       "    <tr>\n",
       "      <th>12</th>\n",
       "      <td>Instituto de Geociências</td>\n",
       "      <td>Instituto de Geociências</td>\n",
       "      <td>-22.813205</td>\n",
       "      <td>-47.068773</td>\n",
       "    </tr>\n",
       "    <tr>\n",
       "      <th>13</th>\n",
       "      <td>home</td>\n",
       "      <td>home</td>\n",
       "      <td>-22.821710</td>\n",
       "      <td>-47.074029</td>\n",
       "    </tr>\n",
       "    <tr>\n",
       "      <th>14</th>\n",
       "      <td>Faculdade de Engenharia Agrícola</td>\n",
       "      <td>Faculdade de Engenharia Agrícola</td>\n",
       "      <td>-22.818826</td>\n",
       "      <td>-47.060573</td>\n",
       "    </tr>\n",
       "    <tr>\n",
       "      <th>15</th>\n",
       "      <td>home</td>\n",
       "      <td>home</td>\n",
       "      <td>-22.821710</td>\n",
       "      <td>-47.074029</td>\n",
       "    </tr>\n",
       "    <tr>\n",
       "      <th>16</th>\n",
       "      <td>Instituto de Artes</td>\n",
       "      <td>Instituto de Artes</td>\n",
       "      <td>-22.815270</td>\n",
       "      <td>-47.070072</td>\n",
       "    </tr>\n",
       "    <tr>\n",
       "      <th>17</th>\n",
       "      <td>home</td>\n",
       "      <td>home</td>\n",
       "      <td>-22.821710</td>\n",
       "      <td>-47.074029</td>\n",
       "    </tr>\n",
       "    <tr>\n",
       "      <th>18</th>\n",
       "      <td>Ginásio Multidisciplinar</td>\n",
       "      <td>Ginásio Multidisciplinar</td>\n",
       "      <td>-22.815130</td>\n",
       "      <td>-47.071185</td>\n",
       "    </tr>\n",
       "    <tr>\n",
       "      <th>19</th>\n",
       "      <td>Ciclo Básico II</td>\n",
       "      <td>Ciclo Básico II</td>\n",
       "      <td>-22.817569</td>\n",
       "      <td>-47.070818</td>\n",
       "    </tr>\n",
       "    <tr>\n",
       "      <th>20</th>\n",
       "      <td>home</td>\n",
       "      <td>home</td>\n",
       "      <td>-22.821710</td>\n",
       "      <td>-47.074029</td>\n",
       "    </tr>\n",
       "    <tr>\n",
       "      <th>21</th>\n",
       "      <td>Faculdade de Engenharia Elétrica e de Computação</td>\n",
       "      <td>Faculdade de Engenharia Elétrica e de Computação</td>\n",
       "      <td>-22.821172</td>\n",
       "      <td>-47.066190</td>\n",
       "    </tr>\n",
       "    <tr>\n",
       "      <th>22</th>\n",
       "      <td>home</td>\n",
       "      <td>home</td>\n",
       "      <td>-22.821710</td>\n",
       "      <td>-47.074029</td>\n",
       "    </tr>\n",
       "    <tr>\n",
       "      <th>23</th>\n",
       "      <td>Instituto de Biologia</td>\n",
       "      <td>Instituto de Biologia</td>\n",
       "      <td>-22.819982</td>\n",
       "      <td>-47.070042</td>\n",
       "    </tr>\n",
       "    <tr>\n",
       "      <th>24</th>\n",
       "      <td>home</td>\n",
       "      <td>home</td>\n",
       "      <td>-22.821710</td>\n",
       "      <td>-47.074029</td>\n",
       "    </tr>\n",
       "    <tr>\n",
       "      <th>25</th>\n",
       "      <td>Ginásio Multidisciplinar</td>\n",
       "      <td>Ginásio Multidisciplinar</td>\n",
       "      <td>-22.815130</td>\n",
       "      <td>-47.071185</td>\n",
       "    </tr>\n",
       "    <tr>\n",
       "      <th>26</th>\n",
       "      <td>Restaurante Universitário</td>\n",
       "      <td>Restaurante Universitário</td>\n",
       "      <td>-22.817645</td>\n",
       "      <td>-47.072150</td>\n",
       "    </tr>\n",
       "    <tr>\n",
       "      <th>28</th>\n",
       "      <td>home</td>\n",
       "      <td>home</td>\n",
       "      <td>-22.821710</td>\n",
       "      <td>-47.074029</td>\n",
       "    </tr>\n",
       "    <tr>\n",
       "      <th>29</th>\n",
       "      <td>Faculdade de Engenharia Civil</td>\n",
       "      <td>Faculdade de Engenharia Civil</td>\n",
       "      <td>-22.816020</td>\n",
       "      <td>-47.064281</td>\n",
       "    </tr>\n",
       "    <tr>\n",
       "      <th>30</th>\n",
       "      <td>home</td>\n",
       "      <td>home</td>\n",
       "      <td>-22.821710</td>\n",
       "      <td>-47.074029</td>\n",
       "    </tr>\n",
       "    <tr>\n",
       "      <th>31</th>\n",
       "      <td>Museu Exploratório de Ciências</td>\n",
       "      <td>Museu Exploratório de Ciências</td>\n",
       "      <td>-22.814893</td>\n",
       "      <td>-47.057716</td>\n",
       "    </tr>\n",
       "    <tr>\n",
       "      <th>32</th>\n",
       "      <td>home</td>\n",
       "      <td>home</td>\n",
       "      <td>-22.821710</td>\n",
       "      <td>-47.074029</td>\n",
       "    </tr>\n",
       "    <tr>\n",
       "      <th>33</th>\n",
       "      <td>Ciclo Básico I</td>\n",
       "      <td>Ciclo Básico I</td>\n",
       "      <td>-22.817469</td>\n",
       "      <td>-47.068734</td>\n",
       "    </tr>\n",
       "    <tr>\n",
       "      <th>34</th>\n",
       "      <td>home</td>\n",
       "      <td>home</td>\n",
       "      <td>-22.821710</td>\n",
       "      <td>-47.074029</td>\n",
       "    </tr>\n",
       "    <tr>\n",
       "      <th>35</th>\n",
       "      <td>Faculdade de Educação</td>\n",
       "      <td>Faculdade de Educação</td>\n",
       "      <td>-22.816038</td>\n",
       "      <td>-47.065047</td>\n",
       "    </tr>\n",
       "    <tr>\n",
       "      <th>36</th>\n",
       "      <td>Instituto de Física Gleb Wataghin</td>\n",
       "      <td>Instituto de Física Gleb Wataghin</td>\n",
       "      <td>-22.817623</td>\n",
       "      <td>-47.066838</td>\n",
       "    </tr>\n",
       "    <tr>\n",
       "      <th>37</th>\n",
       "      <td>home</td>\n",
       "      <td>home</td>\n",
       "      <td>-22.821710</td>\n",
       "      <td>-47.074029</td>\n",
       "    </tr>\n",
       "    <tr>\n",
       "      <th>38</th>\n",
       "      <td>Instituto de Geociências</td>\n",
       "      <td>Instituto de Geociências</td>\n",
       "      <td>-22.813205</td>\n",
       "      <td>-47.068773</td>\n",
       "    </tr>\n",
       "    <tr>\n",
       "      <th>39</th>\n",
       "      <td>home</td>\n",
       "      <td>home</td>\n",
       "      <td>-22.821710</td>\n",
       "      <td>-47.074029</td>\n",
       "    </tr>\n",
       "    <tr>\n",
       "      <th>40</th>\n",
       "      <td>Instituto de Biologia</td>\n",
       "      <td>Instituto de Biologia</td>\n",
       "      <td>-22.819982</td>\n",
       "      <td>-47.070042</td>\n",
       "    </tr>\n",
       "    <tr>\n",
       "      <th>41</th>\n",
       "      <td>home</td>\n",
       "      <td>home</td>\n",
       "      <td>-22.821710</td>\n",
       "      <td>-47.074029</td>\n",
       "    </tr>\n",
       "    <tr>\n",
       "      <th>42</th>\n",
       "      <td>Instituto de Estudos da Linguagem</td>\n",
       "      <td>Instituto de Estudos da Linguagem</td>\n",
       "      <td>-22.814425</td>\n",
       "      <td>-47.069245</td>\n",
       "    </tr>\n",
       "    <tr>\n",
       "      <th>43</th>\n",
       "      <td>home</td>\n",
       "      <td>home</td>\n",
       "      <td>-22.821710</td>\n",
       "      <td>-47.074029</td>\n",
       "    </tr>\n",
       "    <tr>\n",
       "      <th>44</th>\n",
       "      <td>Instituto de Economia</td>\n",
       "      <td>Instituto de Economia</td>\n",
       "      <td>-22.814966</td>\n",
       "      <td>-47.065731</td>\n",
       "    </tr>\n",
       "    <tr>\n",
       "      <th>45</th>\n",
       "      <td>home</td>\n",
       "      <td>home</td>\n",
       "      <td>-22.821710</td>\n",
       "      <td>-47.074029</td>\n",
       "    </tr>\n",
       "    <tr>\n",
       "      <th>46</th>\n",
       "      <td>Instituto de Artes</td>\n",
       "      <td>Instituto de Artes</td>\n",
       "      <td>-22.815270</td>\n",
       "      <td>-47.070072</td>\n",
       "    </tr>\n",
       "    <tr>\n",
       "      <th>47</th>\n",
       "      <td>home</td>\n",
       "      <td>home</td>\n",
       "      <td>-22.821710</td>\n",
       "      <td>-47.074029</td>\n",
       "    </tr>\n",
       "    <tr>\n",
       "      <th>48</th>\n",
       "      <td>Museu Exploratório de Ciências</td>\n",
       "      <td>Museu Exploratório de Ciências</td>\n",
       "      <td>-22.814893</td>\n",
       "      <td>-47.057716</td>\n",
       "    </tr>\n",
       "    <tr>\n",
       "      <th>49</th>\n",
       "      <td>home</td>\n",
       "      <td>home</td>\n",
       "      <td>-22.821710</td>\n",
       "      <td>-47.074029</td>\n",
       "    </tr>\n",
       "    <tr>\n",
       "      <th>50</th>\n",
       "      <td>Instituto de Computação</td>\n",
       "      <td>Instituto de Computação</td>\n",
       "      <td>-22.815546</td>\n",
       "      <td>-47.067300</td>\n",
       "    </tr>\n",
       "    <tr>\n",
       "      <th>51</th>\n",
       "      <td>home</td>\n",
       "      <td>home</td>\n",
       "      <td>-22.821710</td>\n",
       "      <td>-47.074029</td>\n",
       "    </tr>\n",
       "    <tr>\n",
       "      <th>52</th>\n",
       "      <td>Instituto de Filosofia e Ciências Humanas</td>\n",
       "      <td>Instituto de Filosofia e Ciências Humanas</td>\n",
       "      <td>-22.815256</td>\n",
       "      <td>-47.068342</td>\n",
       "    </tr>\n",
       "    <tr>\n",
       "      <th>53</th>\n",
       "      <td>home</td>\n",
       "      <td>home</td>\n",
       "      <td>-22.821710</td>\n",
       "      <td>-47.074029</td>\n",
       "    </tr>\n",
       "    <tr>\n",
       "      <th>54</th>\n",
       "      <td>Instituto de Física Gleb Wataghin</td>\n",
       "      <td>Instituto de Física Gleb Wataghin</td>\n",
       "      <td>-22.817623</td>\n",
       "      <td>-47.066838</td>\n",
       "    </tr>\n",
       "    <tr>\n",
       "      <th>55</th>\n",
       "      <td>Restaurante Acadêmico</td>\n",
       "      <td>Restaurante Acadêmico</td>\n",
       "      <td>-22.822380</td>\n",
       "      <td>-47.065050</td>\n",
       "    </tr>\n",
       "    <tr>\n",
       "      <th>59</th>\n",
       "      <td>home</td>\n",
       "      <td>home</td>\n",
       "      <td>-22.821710</td>\n",
       "      <td>-47.074029</td>\n",
       "    </tr>\n",
       "  </tbody>\n",
       "</table>\n",
       "</div>"
      ],
      "text/plain": [
       "                                              location  \\\n",
       "Time                                                     \n",
       "7                                                 home   \n",
       "8                              Instituto de Computação   \n",
       "9                                                 home   \n",
       "10           Instituto de Filosofia e Ciências Humanas   \n",
       "11                                                home   \n",
       "12                            Instituto de Geociências   \n",
       "13                                                home   \n",
       "14                    Faculdade de Engenharia Agrícola   \n",
       "15                                                home   \n",
       "16                                  Instituto de Artes   \n",
       "17                                                home   \n",
       "18                            Ginásio Multidisciplinar   \n",
       "19                                     Ciclo Básico II   \n",
       "20                                                home   \n",
       "21    Faculdade de Engenharia Elétrica e de Computação   \n",
       "22                                                home   \n",
       "23                               Instituto de Biologia   \n",
       "24                                                home   \n",
       "25                            Ginásio Multidisciplinar   \n",
       "26                           Restaurante Universitário   \n",
       "28                                                home   \n",
       "29                       Faculdade de Engenharia Civil   \n",
       "30                                                home   \n",
       "31                      Museu Exploratório de Ciências   \n",
       "32                                                home   \n",
       "33                                      Ciclo Básico I   \n",
       "34                                                home   \n",
       "35                               Faculdade de Educação   \n",
       "36                   Instituto de Física Gleb Wataghin   \n",
       "37                                                home   \n",
       "38                            Instituto de Geociências   \n",
       "39                                                home   \n",
       "40                               Instituto de Biologia   \n",
       "41                                                home   \n",
       "42                   Instituto de Estudos da Linguagem   \n",
       "43                                                home   \n",
       "44                               Instituto de Economia   \n",
       "45                                                home   \n",
       "46                                  Instituto de Artes   \n",
       "47                                                home   \n",
       "48                      Museu Exploratório de Ciências   \n",
       "49                                                home   \n",
       "50                             Instituto de Computação   \n",
       "51                                                home   \n",
       "52           Instituto de Filosofia e Ciências Humanas   \n",
       "53                                                home   \n",
       "54                   Instituto de Física Gleb Wataghin   \n",
       "55                               Restaurante Acadêmico   \n",
       "59                                                home   \n",
       "\n",
       "                                                  name      x_pos      y_pos  \n",
       "Time                                                                          \n",
       "7                                                 home -22.821710 -47.074029  \n",
       "8                              Instituto de Computação -22.815546 -47.067300  \n",
       "9                                                 home -22.821710 -47.074029  \n",
       "10           Instituto de Filosofia e Ciências Humanas -22.815256 -47.068342  \n",
       "11                                                home -22.821710 -47.074029  \n",
       "12                            Instituto de Geociências -22.813205 -47.068773  \n",
       "13                                                home -22.821710 -47.074029  \n",
       "14                    Faculdade de Engenharia Agrícola -22.818826 -47.060573  \n",
       "15                                                home -22.821710 -47.074029  \n",
       "16                                  Instituto de Artes -22.815270 -47.070072  \n",
       "17                                                home -22.821710 -47.074029  \n",
       "18                            Ginásio Multidisciplinar -22.815130 -47.071185  \n",
       "19                                     Ciclo Básico II -22.817569 -47.070818  \n",
       "20                                                home -22.821710 -47.074029  \n",
       "21    Faculdade de Engenharia Elétrica e de Computação -22.821172 -47.066190  \n",
       "22                                                home -22.821710 -47.074029  \n",
       "23                               Instituto de Biologia -22.819982 -47.070042  \n",
       "24                                                home -22.821710 -47.074029  \n",
       "25                            Ginásio Multidisciplinar -22.815130 -47.071185  \n",
       "26                           Restaurante Universitário -22.817645 -47.072150  \n",
       "28                                                home -22.821710 -47.074029  \n",
       "29                       Faculdade de Engenharia Civil -22.816020 -47.064281  \n",
       "30                                                home -22.821710 -47.074029  \n",
       "31                      Museu Exploratório de Ciências -22.814893 -47.057716  \n",
       "32                                                home -22.821710 -47.074029  \n",
       "33                                      Ciclo Básico I -22.817469 -47.068734  \n",
       "34                                                home -22.821710 -47.074029  \n",
       "35                               Faculdade de Educação -22.816038 -47.065047  \n",
       "36                   Instituto de Física Gleb Wataghin -22.817623 -47.066838  \n",
       "37                                                home -22.821710 -47.074029  \n",
       "38                            Instituto de Geociências -22.813205 -47.068773  \n",
       "39                                                home -22.821710 -47.074029  \n",
       "40                               Instituto de Biologia -22.819982 -47.070042  \n",
       "41                                                home -22.821710 -47.074029  \n",
       "42                   Instituto de Estudos da Linguagem -22.814425 -47.069245  \n",
       "43                                                home -22.821710 -47.074029  \n",
       "44                               Instituto de Economia -22.814966 -47.065731  \n",
       "45                                                home -22.821710 -47.074029  \n",
       "46                                  Instituto de Artes -22.815270 -47.070072  \n",
       "47                                                home -22.821710 -47.074029  \n",
       "48                      Museu Exploratório de Ciências -22.814893 -47.057716  \n",
       "49                                                home -22.821710 -47.074029  \n",
       "50                             Instituto de Computação -22.815546 -47.067300  \n",
       "51                                                home -22.821710 -47.074029  \n",
       "52           Instituto de Filosofia e Ciências Humanas -22.815256 -47.068342  \n",
       "53                                                home -22.821710 -47.074029  \n",
       "54                   Instituto de Física Gleb Wataghin -22.817623 -47.066838  \n",
       "55                               Restaurante Acadêmico -22.822380 -47.065050  \n",
       "59                                                home -22.821710 -47.074029  "
      ]
     },
     "execution_count": 14,
     "metadata": {},
     "output_type": "execute_result"
    }
   ],
   "source": [
    "routines = {}\n",
    "for k, v in type_ids_routine.items():\n",
    "    for id in v:\n",
    "        routines[id] = pd.read_csv(f\"{FOLDER_NAME}/routines/{id}.csv\").set_index('Time')\n",
    "\n",
    "routines['pizza']"
   ]
  },
  {
   "cell_type": "code",
   "execution_count": 17,
   "metadata": {
    "scrolled": true
   },
   "outputs": [
    {
     "name": "stdout",
     "output_type": "stream",
     "text": [
      " Retrying in 1 seconds\n",
      "***Starting server on port 47191 ***\n",
      "Loading net-file from 'unicamp_routine/osm.net.xml.gz' ... done (222ms).\n",
      "Loading additional-files from 'unicamp_routine/park.add.xml' ... done (13ms).\n",
      "Loading additional-files from 'unicamp_routine/pa_rerouter.xml' ... done (164ms).\n",
      "Loading route-files incrementally from 'unicamp_routine/merged.rou.alt.xml'\n",
      "Loading done.\n",
      "Simulation version 1.24.0 started with time: 0.00.\n",
      "Child <step-length> with value '0.01' already exists. Skipping addition.\n",
      "Child <end> already exists. Updating value to '8640000.0'.\n",
      "XML file updated successfully.\n",
      "Vehicle pizza has departed\n",
      "Vehicle pizza is parked at Instituto de Computação. Count: 1\n"
     ]
    },
    {
     "name": "stderr",
     "output_type": "stream",
     "text": [
      "Warning: Vehicle 'pizza' performs emergency braking on lane '75679307#2_0' with decel=9.94, wished=4.50, severity=1.21, time=151.25.\n"
     ]
    },
    {
     "name": "stdout",
     "output_type": "stream",
     "text": [
      "Vehicle pizza is parked at home. Count: 2\n"
     ]
    },
    {
     "name": "stderr",
     "output_type": "stream",
     "text": [
      "Warning: Vehicle 'pizza' performs emergency braking on lane '-72641085#1_0' with decel=9.89, wished=4.50, severity=1.20, time=585.57.\n"
     ]
    },
    {
     "name": "stdout",
     "output_type": "stream",
     "text": [
      "Vehicle pizza is parked at Instituto de Filosofia e Ciências Humanas. Count: 3\n"
     ]
    },
    {
     "name": "stderr",
     "output_type": "stream",
     "text": [
      "Warning: Vehicle 'pizza' performs emergency braking on lane '75679307#1_0' with decel=9.98, wished=4.50, severity=1.22, time=1025.39.\n"
     ]
    },
    {
     "name": "stdout",
     "output_type": "stream",
     "text": [
      "Vehicle pizza is parked at home. Count: 4\n"
     ]
    },
    {
     "name": "stderr",
     "output_type": "stream",
     "text": [
      "Warning: Vehicle 'pizza' performs emergency braking on lane '-72641085#1_0' with decel=9.92, wished=4.50, severity=1.20, time=1467.43.\n"
     ]
    },
    {
     "name": "stdout",
     "output_type": "stream",
     "text": [
      "Vehicle pizza is parked at Instituto de Geociências. Count: 5\n"
     ]
    },
    {
     "name": "stderr",
     "output_type": "stream",
     "text": [
      "Warning: Vehicle 'pizza' performs emergency braking on lane '-183876531#2_0' with decel=9.93, wished=4.50, severity=1.21, time=1888.61.\n",
      "Warning: Vehicle '46' performs emergency braking on lane '75679256#10_1' with decel=9.00, wished=4.50, severity=1.00, time=2309.23.\n"
     ]
    },
    {
     "name": "stdout",
     "output_type": "stream",
     "text": [
      "Vehicle pizza is parked at home. Count: 6\n"
     ]
    },
    {
     "name": "stderr",
     "output_type": "stream",
     "text": [
      "Warning: Vehicle 'pizza' performs emergency braking on lane '-72641085#1_0' with decel=9.99, wished=4.50, severity=1.22, time=2345.07.\n"
     ]
    },
    {
     "name": "stdout",
     "output_type": "stream",
     "text": [
      "Vehicle pizza is parked at Faculdade de Engenharia Agrícola. Count: 7\n"
     ]
    },
    {
     "name": "stderr",
     "output_type": "stream",
     "text": [
      "Warning: Vehicle 'pizza' performs emergency braking on lane '75701376#2_0' with decel=9.95, wished=4.50, severity=1.21, time=2818.41.\n"
     ]
    },
    {
     "name": "stdout",
     "output_type": "stream",
     "text": [
      "Vehicle pizza is parked at home. Count: 8\n"
     ]
    },
    {
     "name": "stderr",
     "output_type": "stream",
     "text": [
      "Warning: Vehicle 'pizza' performs emergency braking on lane '-72641085#1_0' with decel=9.90, wished=4.50, severity=1.20, time=3269.54.\n"
     ]
    },
    {
     "name": "stdout",
     "output_type": "stream",
     "text": [
      "Vehicle pizza is parked at Instituto de Artes. Count: 9\n"
     ]
    },
    {
     "name": "stderr",
     "output_type": "stream",
     "text": [
      "Warning: Vehicle 'pizza' performs emergency braking on lane '75679312#2_0' with decel=9.95, wished=4.50, severity=1.21, time=3690.35.\n"
     ]
    },
    {
     "name": "stdout",
     "output_type": "stream",
     "text": [
      "Vehicle pizza is parked at home. Count: 10\n"
     ]
    },
    {
     "name": "stderr",
     "output_type": "stream",
     "text": [
      "Warning: Vehicle 'pizza' performs emergency braking on lane '-72641085#1_0' with decel=9.99, wished=4.50, severity=1.22, time=4148.79.\n"
     ]
    },
    {
     "name": "stdout",
     "output_type": "stream",
     "text": [
      "Vehicle pizza is parked at Ginásio Multidisciplinar. Count: 11\n"
     ]
    },
    {
     "name": "stderr",
     "output_type": "stream",
     "text": [
      "Warning: Vehicle 'pizza' performs emergency braking on lane '75679316#2_0' with decel=9.95, wished=4.50, severity=1.21, time=4599.28.\n"
     ]
    },
    {
     "name": "stdout",
     "output_type": "stream",
     "text": [
      "Vehicle pizza is parked at Ciclo Básico II. Count: 12\n"
     ]
    },
    {
     "name": "stderr",
     "output_type": "stream",
     "text": [
      "Warning: Vehicle 'pizza' performs emergency braking on lane '1388130338#2_0' with decel=9.89, wished=4.50, severity=1.20, time=4971.90.\n",
      "Warning: Vehicle '104' performs emergency braking on lane '75679256#10_1' with decel=9.00, wished=4.50, severity=1.00, time=5263.54.\n",
      "Warning: Vehicle '104' performs emergency braking on lane '75679256#10_1' with decel=9.00, wished=4.50, severity=1.00, time=5263.62.\n",
      "Warning: Vehicle '104' performs emergency braking on lane '75679256#10_1' with decel=9.00, wished=4.50, severity=1.00, time=5263.67.\n"
     ]
    },
    {
     "name": "stdout",
     "output_type": "stream",
     "text": [
      "Vehicle pizza is parked at home. Count: 13\n"
     ]
    },
    {
     "name": "stderr",
     "output_type": "stream",
     "text": [
      "Warning: Vehicle 'pizza' performs emergency braking on lane '-72641085#1_0' with decel=9.96, wished=4.50, severity=1.21, time=5398.63.\n"
     ]
    },
    {
     "name": "stdout",
     "output_type": "stream",
     "text": [
      "Vehicle pizza is parked at Faculdade de Engenharia Elétrica e de Computação. Count: 14\n"
     ]
    },
    {
     "name": "stderr",
     "output_type": "stream",
     "text": [
      "Warning: Vehicle 'pizza' performs emergency braking on lane '693637406#7_0' with decel=9.92, wished=4.50, severity=1.21, time=5817.35.\n"
     ]
    },
    {
     "name": "stdout",
     "output_type": "stream",
     "text": [
      "Vehicle pizza is parked at home. Count: 15\n"
     ]
    },
    {
     "name": "stderr",
     "output_type": "stream",
     "text": [
      "Warning: Vehicle 'pizza' performs emergency braking on lane '-72641085#1_0' with decel=9.96, wished=4.50, severity=1.21, time=6233.21.\n"
     ]
    },
    {
     "name": "stdout",
     "output_type": "stream",
     "text": [
      "Vehicle pizza is parked at Instituto de Biologia. Count: 16\n"
     ]
    },
    {
     "name": "stderr",
     "output_type": "stream",
     "text": [
      "Warning: Vehicle 'pizza' performs emergency braking on lane '75679328#1_0' with decel=9.96, wished=4.50, severity=1.21, time=6657.64.\n"
     ]
    },
    {
     "name": "stdout",
     "output_type": "stream",
     "text": [
      "Vehicle pizza is parked at home. Count: 17\n"
     ]
    },
    {
     "name": "stderr",
     "output_type": "stream",
     "text": [
      "Warning: Vehicle 'pizza' performs emergency braking on lane '-72641085#1_0' with decel=9.94, wished=4.50, severity=1.21, time=7122.06.\n"
     ]
    },
    {
     "name": "stdout",
     "output_type": "stream",
     "text": [
      "Vehicle pizza is parked at Ginásio Multidisciplinar. Count: 18\n"
     ]
    },
    {
     "name": "stderr",
     "output_type": "stream",
     "text": [
      "Warning: Vehicle 'pizza' performs emergency braking on lane '75679316#2_0' with decel=9.90, wished=4.50, severity=1.20, time=7573.41.\n"
     ]
    },
    {
     "name": "stdout",
     "output_type": "stream",
     "text": [
      "Vehicle pizza is parked at Restaurante Universitário. Count: 19\n"
     ]
    },
    {
     "name": "stderr",
     "output_type": "stream",
     "text": [
      "Warning: Vehicle 'pizza' performs emergency braking on lane '89478571#7_0' with decel=9.92, wished=4.50, severity=1.21, time=7942.61.\n",
      "Warning: Vehicle '166' performs emergency braking on lane '75679256#10_1' with decel=9.00, wished=4.50, severity=1.00, time=8324.83.\n",
      "Warning: Vehicle '166' performs emergency braking on lane '75679256#10_1' with decel=9.00, wished=4.50, severity=1.00, time=8324.90.\n",
      "Warning: Vehicle '166' performs emergency braking on lane '75679256#10_1' with decel=9.00, wished=4.50, severity=1.00, time=8324.95.\n"
     ]
    },
    {
     "name": "stdout",
     "output_type": "stream",
     "text": [
      "Vehicle pizza is parked at home. Count: 20\n"
     ]
    },
    {
     "name": "stderr",
     "output_type": "stream",
     "text": [
      "Warning: Vehicle 'pizza' performs emergency braking on lane '-72641085#1_0' with decel=9.98, wished=4.50, severity=1.22, time=8631.87.\n"
     ]
    },
    {
     "name": "stdout",
     "output_type": "stream",
     "text": [
      "Vehicle pizza is parked at Faculdade de Engenharia Civil. Count: 21\n"
     ]
    },
    {
     "name": "stderr",
     "output_type": "stream",
     "text": [
      "Warning: Vehicle 'pizza' performs emergency braking on lane '237036477#16_0' with decel=9.89, wished=4.50, severity=1.20, time=9092.97.\n"
     ]
    },
    {
     "name": "stdout",
     "output_type": "stream",
     "text": [
      "Vehicle pizza is parked at home. Count: 22\n"
     ]
    },
    {
     "name": "stderr",
     "output_type": "stream",
     "text": [
      "Warning: Vehicle 'pizza' performs emergency braking on lane '-72641085#1_0' with decel=9.89, wished=4.50, severity=1.20, time=9506.23.\n"
     ]
    },
    {
     "name": "stdout",
     "output_type": "stream",
     "text": [
      "Vehicle pizza is parked at Museu Exploratório de Ciências. Count: 23\n"
     ]
    },
    {
     "name": "stderr",
     "output_type": "stream",
     "text": [
      "Warning: Vehicle 'pizza' performs emergency braking on lane '535558321#1_0' with decel=9.96, wished=4.50, severity=1.21, time=9989.19.\n"
     ]
    },
    {
     "name": "stdout",
     "output_type": "stream",
     "text": [
      "Vehicle pizza is parked at home. Count: 24\n"
     ]
    },
    {
     "name": "stderr",
     "output_type": "stream",
     "text": [
      "Warning: Vehicle 'pizza' performs emergency braking on lane '-72641085#1_0' with decel=9.92, wished=4.50, severity=1.21, time=10474.04.\n"
     ]
    },
    {
     "name": "stdout",
     "output_type": "stream",
     "text": [
      "Vehicle pizza is parked at Ciclo Básico I. Count: 25\n"
     ]
    },
    {
     "name": "stderr",
     "output_type": "stream",
     "text": [
      "Warning: Vehicle 'pizza' performs emergency braking on lane '72508815#1_0' with decel=9.82, wished=4.50, severity=1.18, time=10899.44.\n"
     ]
    },
    {
     "name": "stdout",
     "output_type": "stream",
     "text": [
      "Vehicle pizza is parked at home. Count: 26\n"
     ]
    },
    {
     "name": "stderr",
     "output_type": "stream",
     "text": [
      "Warning: Vehicle 'pizza' performs emergency braking on lane '-72641085#1_0' with decel=9.95, wished=4.50, severity=1.21, time=11341.81.\n",
      "Warning: Vehicle '230' performs emergency braking on lane '75679256#10_1' with decel=9.00, wished=4.50, severity=1.00, time=11585.07.\n",
      "Warning: Vehicle '230' performs emergency braking on lane '75679256#10_1' with decel=9.00, wished=4.50, severity=1.00, time=11585.14.\n",
      "Warning: Vehicle '230' performs emergency braking on lane '75679256#10_1' with decel=9.00, wished=4.50, severity=1.00, time=11585.19.\n"
     ]
    },
    {
     "name": "stdout",
     "output_type": "stream",
     "text": [
      "Vehicle pizza is parked at Faculdade de Educação. Count: 27\n"
     ]
    },
    {
     "name": "stderr",
     "output_type": "stream",
     "text": [
      "Warning: Vehicle 'pizza' performs emergency braking on lane '75679337#1_0' with decel=9.99, wished=4.50, severity=1.22, time=11806.10.\n"
     ]
    },
    {
     "name": "stdout",
     "output_type": "stream",
     "text": [
      "Vehicle pizza is parked at Instituto de Física Gleb Wataghin. Count: 28\n"
     ]
    },
    {
     "name": "stderr",
     "output_type": "stream",
     "text": [
      "Warning: Vehicle 'pizza' performs emergency braking on lane '75679335#1_0' with decel=9.89, wished=4.50, severity=1.20, time=12173.68.\n"
     ]
    },
    {
     "name": "stdout",
     "output_type": "stream",
     "text": [
      "Vehicle pizza is parked at home. Count: 29\n"
     ]
    },
    {
     "name": "stderr",
     "output_type": "stream",
     "text": [
      "Warning: Vehicle 'pizza' performs emergency braking on lane '-72641085#1_0' with decel=9.98, wished=4.50, severity=1.22, time=12604.28.\n"
     ]
    },
    {
     "name": "stdout",
     "output_type": "stream",
     "text": [
      "Vehicle pizza is parked at Instituto de Geociências. Count: 30\n"
     ]
    },
    {
     "name": "stderr",
     "output_type": "stream",
     "text": [
      "Warning: Vehicle 'pizza' performs emergency braking on lane '-183876531#2_0' with decel=9.99, wished=4.50, severity=1.22, time=13028.17.\n"
     ]
    },
    {
     "name": "stdout",
     "output_type": "stream",
     "text": [
      "Vehicle pizza is parked at home. Count: 31\n"
     ]
    },
    {
     "name": "stderr",
     "output_type": "stream",
     "text": [
      "Warning: Vehicle 'pizza' performs emergency braking on lane '-72641085#1_0' with decel=9.94, wished=4.50, severity=1.21, time=13485.14.\n"
     ]
    },
    {
     "name": "stdout",
     "output_type": "stream",
     "text": [
      "Vehicle pizza is parked at Instituto de Biologia. Count: 32\n"
     ]
    },
    {
     "name": "stderr",
     "output_type": "stream",
     "text": [
      "Warning: Vehicle 'pizza' performs emergency braking on lane '75679328#1_0' with decel=9.96, wished=4.50, severity=1.21, time=13908.35.\n"
     ]
    },
    {
     "name": "stdout",
     "output_type": "stream",
     "text": [
      "Vehicle pizza is parked at home. Count: 33\n"
     ]
    },
    {
     "name": "stderr",
     "output_type": "stream",
     "text": [
      "Warning: Vehicle 'pizza' performs emergency braking on lane '-72641085#1_0' with decel=9.99, wished=4.50, severity=1.22, time=14371.56.\n"
     ]
    },
    {
     "name": "stdout",
     "output_type": "stream",
     "text": [
      "Vehicle pizza is parked at Instituto de Estudos da Linguagem. Count: 34\n"
     ]
    },
    {
     "name": "stderr",
     "output_type": "stream",
     "text": [
      "Warning: Vehicle 'pizza' performs emergency braking on lane '75679312#2_0' with decel=9.98, wished=4.50, severity=1.22, time=14792.45.\n"
     ]
    },
    {
     "name": "stdout",
     "output_type": "stream",
     "text": [
      "Vehicle pizza is parked at home. Count: 35\n"
     ]
    },
    {
     "name": "stderr",
     "output_type": "stream",
     "text": [
      "Warning: Vehicle 'pizza' performs emergency braking on lane '-72641085#1_0' with decel=10.00, wished=4.50, severity=1.22, time=15250.94.\n"
     ]
    },
    {
     "name": "stdout",
     "output_type": "stream",
     "text": [
      "Vehicle pizza is parked at Instituto de Economia. Count: 36\n"
     ]
    },
    {
     "name": "stderr",
     "output_type": "stream",
     "text": [
      "Warning: Vehicle 'pizza' performs emergency braking on lane '75679337#1_0' with decel=9.94, wished=4.50, severity=1.21, time=15715.97.\n"
     ]
    },
    {
     "name": "stdout",
     "output_type": "stream",
     "text": [
      "Vehicle pizza is parked at home. Count: 37\n"
     ]
    },
    {
     "name": "stderr",
     "output_type": "stream",
     "text": [
      "Warning: Vehicle 'pizza' performs emergency braking on lane '-72641085#1_0' with decel=9.95, wished=4.50, severity=1.21, time=16147.62.\n"
     ]
    },
    {
     "name": "stdout",
     "output_type": "stream",
     "text": [
      "Vehicle pizza is parked at Instituto de Artes. Count: 38\n"
     ]
    },
    {
     "name": "stderr",
     "output_type": "stream",
     "text": [
      "Warning: Vehicle 'pizza' performs emergency braking on lane '75679312#2_0' with decel=9.94, wished=4.50, severity=1.21, time=16569.87.\n"
     ]
    },
    {
     "name": "stdout",
     "output_type": "stream",
     "text": [
      "Vehicle pizza is parked at home. Count: 39\n"
     ]
    },
    {
     "name": "stderr",
     "output_type": "stream",
     "text": [
      "Warning: Vehicle 'pizza' performs emergency braking on lane '-72641085#1_0' with decel=9.90, wished=4.50, severity=1.20, time=17028.42.\n"
     ]
    },
    {
     "name": "stdout",
     "output_type": "stream",
     "text": [
      "Vehicle pizza is parked at Museu Exploratório de Ciências. Count: 40\n"
     ]
    },
    {
     "name": "stderr",
     "output_type": "stream",
     "text": [
      "Warning: Vehicle 'pizza' performs emergency braking on lane '535558321#1_0' with decel=9.92, wished=4.50, severity=1.20, time=17512.67.\n"
     ]
    },
    {
     "name": "stdout",
     "output_type": "stream",
     "text": [
      "Vehicle pizza is parked at home. Count: 41\n"
     ]
    },
    {
     "name": "stderr",
     "output_type": "stream",
     "text": [
      "Warning: Vehicle 'pizza' performs emergency braking on lane '-72641085#1_0' with decel=9.96, wished=4.50, severity=1.21, time=17997.25.\n"
     ]
    },
    {
     "name": "stdout",
     "output_type": "stream",
     "text": [
      "Vehicle pizza is parked at Instituto de Computação. Count: 42\n"
     ]
    },
    {
     "name": "stderr",
     "output_type": "stream",
     "text": [
      "Warning: Vehicle 'pizza' performs emergency braking on lane '75679307#2_0' with decel=10.00, wished=4.50, severity=1.22, time=18450.05.\n"
     ]
    },
    {
     "name": "stdout",
     "output_type": "stream",
     "text": [
      "Vehicle pizza is parked at home. Count: 43\n"
     ]
    },
    {
     "name": "stderr",
     "output_type": "stream",
     "text": [
      "Warning: Vehicle 'pizza' performs emergency braking on lane '-72641085#1_0' with decel=10.00, wished=4.50, severity=1.22, time=18883.11.\n"
     ]
    },
    {
     "name": "stdout",
     "output_type": "stream",
     "text": [
      "Vehicle pizza is parked at Instituto de Filosofia e Ciências Humanas. Count: 44\n"
     ]
    },
    {
     "name": "stderr",
     "output_type": "stream",
     "text": [
      "Warning: Vehicle 'pizza' performs emergency braking on lane '75679307#1_0' with decel=9.99, wished=4.50, severity=1.22, time=19324.95.\n"
     ]
    },
    {
     "name": "stdout",
     "output_type": "stream",
     "text": [
      "Vehicle pizza is parked at home. Count: 45\n"
     ]
    },
    {
     "name": "stderr",
     "output_type": "stream",
     "text": [
      "Warning: Vehicle 'pizza' performs emergency braking on lane '-72641085#1_0' with decel=9.97, wished=4.50, severity=1.22, time=19767.87.\n"
     ]
    },
    {
     "name": "stdout",
     "output_type": "stream",
     "text": [
      "Vehicle pizza is parked at Instituto de Física Gleb Wataghin. Count: 46\n"
     ]
    },
    {
     "name": "stderr",
     "output_type": "stream",
     "text": [
      "Warning: Vehicle 'pizza' performs emergency braking on lane '75679335#1_0' with decel=9.91, wished=4.50, severity=1.20, time=20204.80.\n"
     ]
    },
    {
     "name": "stdout",
     "output_type": "stream",
     "text": [
      "Vehicle pizza is parked at Restaurante Acadêmico. Count: 47\n"
     ]
    },
    {
     "name": "stderr",
     "output_type": "stream",
     "text": [
      "Warning: Vehicle 'pizza' performs emergency braking on lane '77674920#0_0' with decel=9.92, wished=4.50, severity=1.20, time=20616.03.\n",
      "Warning: Vehicle '426' performs emergency braking on lane '75679256#10_1' with decel=9.00, wished=4.50, severity=1.00, time=21408.82.\n",
      "Warning: Vehicle '426' performs emergency braking on lane '75679256#10_1' with decel=9.00, wished=4.50, severity=1.00, time=21408.86.\n"
     ]
    },
    {
     "name": "stdout",
     "output_type": "stream",
     "text": [
      "Vehicle pizza has arrived at its destination.\n",
      "All vehicles have arrived at their destination.\n",
      "Simulation ended at time: 21962.79.\n",
      "Reason: TraCI requested termination.\n",
      "Performance:\n",
      " Duration: 1813.88s\n",
      " TraCI-Duration: 1495.91s\n",
      " Real time factor: 12.1082\n",
      " UPS: 4086.983152\n",
      "Vehicles:\n",
      " Inserted: 441\n",
      " Running: 3\n",
      " Waiting: 0\n",
      " Emergency Braking: 59\n",
      "Statistics (avg of 438):\n",
      " RouteLength: 1758.30\n",
      " Speed: 12.91\n",
      " Duration: 168.82\n",
      " WaitingTime: 0.31\n",
      " TimeLoss: 43.35\n",
      " DepartDelay: 0.00\n",
      "DijkstraRouter answered 488 queries and explored 473.82 edges on average.\n",
      "DijkstraRouter spent 0.28s answering queries (0.58ms on average).\n"
     ]
    }
   ],
   "source": [
    "Hz = 100\n",
    "delta_time = 1 / Hz\n",
    "try:\n",
    "    veh_variables, ped_variables = get_all_variables(vehIDs, personIDs, delta_time=delta_time, routine=routines, useGui=False, convertGeo=True) # Running the simulation\n",
    "    \n",
    "except KeyboardInterrupt as e:\n",
    "    traci.close() # Close the simulation if there is an error\n",
    "    print(f\"An error occurred: {e}\")"
   ]
  },
  {
   "cell_type": "code",
   "execution_count": 18,
   "metadata": {},
   "outputs": [],
   "source": [
    "os.makedirs(f'{FOLDER_NAME}/data_routine', exist_ok=True)\n",
    "save_data(veh_variables, \"data_routine\", vehIDs, type_ids_random, verify=True, type_ids_routine=type_ids_routine, use_lat_lon=True, use_desc=True)"
   ]
  },
  {
   "cell_type": "code",
   "execution_count": 16,
   "metadata": {},
   "outputs": [],
   "source": [
    "df_teste = pd.read_csv(f'{FOLDER_NAME}/data_routine/veh_segunda.csv', sep=',')"
   ]
  },
  {
   "cell_type": "code",
   "execution_count": 17,
   "metadata": {},
   "outputs": [
    {
     "data": {
      "text/html": [
       "<div>\n",
       "<style scoped>\n",
       "    .dataframe tbody tr th:only-of-type {\n",
       "        vertical-align: middle;\n",
       "    }\n",
       "\n",
       "    .dataframe tbody tr th {\n",
       "        vertical-align: top;\n",
       "    }\n",
       "\n",
       "    .dataframe thead th {\n",
       "        text-align: right;\n",
       "    }\n",
       "</style>\n",
       "<table border=\"1\" class=\"dataframe\">\n",
       "  <thead>\n",
       "    <tr style=\"text-align: right;\">\n",
       "      <th></th>\n",
       "      <th>timestamp</th>\n",
       "      <th>latitude</th>\n",
       "      <th>longitude</th>\n",
       "      <th>speed</th>\n",
       "      <th>speed_x</th>\n",
       "      <th>speed_y</th>\n",
       "      <th>acceleration</th>\n",
       "      <th>acceleration_x</th>\n",
       "      <th>acceleration_y</th>\n",
       "      <th>angle</th>\n",
       "      <th>acc_diff</th>\n",
       "      <th>gyroscope_z</th>\n",
       "      <th>desc</th>\n",
       "    </tr>\n",
       "  </thead>\n",
       "  <tbody>\n",
       "    <tr>\n",
       "      <th>0</th>\n",
       "      <td>0.01</td>\n",
       "      <td>-22.822658</td>\n",
       "      <td>-47.073232</td>\n",
       "      <td>0.000</td>\n",
       "      <td>0.000000</td>\n",
       "      <td>-0.000000</td>\n",
       "      <td>0.0</td>\n",
       "      <td>0.000000</td>\n",
       "      <td>-0.000000</td>\n",
       "      <td>317.599761</td>\n",
       "      <td>0.0</td>\n",
       "      <td>0</td>\n",
       "      <td>&lt;home-Ciclo Básico I&gt;</td>\n",
       "    </tr>\n",
       "    <tr>\n",
       "      <th>1</th>\n",
       "      <td>0.02</td>\n",
       "      <td>-22.822658</td>\n",
       "      <td>-47.073232</td>\n",
       "      <td>0.026</td>\n",
       "      <td>0.019200</td>\n",
       "      <td>-0.017532</td>\n",
       "      <td>2.6</td>\n",
       "      <td>1.919977</td>\n",
       "      <td>-1.753194</td>\n",
       "      <td>317.599761</td>\n",
       "      <td>2.6</td>\n",
       "      <td>0</td>\n",
       "      <td>&lt;home-Ciclo Básico I&gt;</td>\n",
       "    </tr>\n",
       "    <tr>\n",
       "      <th>2</th>\n",
       "      <td>0.03</td>\n",
       "      <td>-22.822658</td>\n",
       "      <td>-47.073232</td>\n",
       "      <td>0.052</td>\n",
       "      <td>0.038400</td>\n",
       "      <td>-0.035064</td>\n",
       "      <td>2.6</td>\n",
       "      <td>1.919977</td>\n",
       "      <td>-1.753194</td>\n",
       "      <td>317.599761</td>\n",
       "      <td>2.6</td>\n",
       "      <td>0</td>\n",
       "      <td>&lt;home-Ciclo Básico I&gt;</td>\n",
       "    </tr>\n",
       "    <tr>\n",
       "      <th>3</th>\n",
       "      <td>0.04</td>\n",
       "      <td>-22.822658</td>\n",
       "      <td>-47.073232</td>\n",
       "      <td>0.078</td>\n",
       "      <td>0.057599</td>\n",
       "      <td>-0.052596</td>\n",
       "      <td>2.6</td>\n",
       "      <td>1.919977</td>\n",
       "      <td>-1.753194</td>\n",
       "      <td>317.599761</td>\n",
       "      <td>2.6</td>\n",
       "      <td>0</td>\n",
       "      <td>&lt;home-Ciclo Básico I&gt;</td>\n",
       "    </tr>\n",
       "    <tr>\n",
       "      <th>4</th>\n",
       "      <td>0.05</td>\n",
       "      <td>-22.822658</td>\n",
       "      <td>-47.073232</td>\n",
       "      <td>0.104</td>\n",
       "      <td>0.076799</td>\n",
       "      <td>-0.070128</td>\n",
       "      <td>2.6</td>\n",
       "      <td>1.919976</td>\n",
       "      <td>-1.753194</td>\n",
       "      <td>317.599761</td>\n",
       "      <td>2.6</td>\n",
       "      <td>0</td>\n",
       "      <td>&lt;home-Ciclo Básico I&gt;</td>\n",
       "    </tr>\n",
       "  </tbody>\n",
       "</table>\n",
       "</div>"
      ],
      "text/plain": [
       "   timestamp   latitude  longitude  speed   speed_x   speed_y  acceleration  \\\n",
       "0       0.01 -22.822658 -47.073232  0.000  0.000000 -0.000000           0.0   \n",
       "1       0.02 -22.822658 -47.073232  0.026  0.019200 -0.017532           2.6   \n",
       "2       0.03 -22.822658 -47.073232  0.052  0.038400 -0.035064           2.6   \n",
       "3       0.04 -22.822658 -47.073232  0.078  0.057599 -0.052596           2.6   \n",
       "4       0.05 -22.822658 -47.073232  0.104  0.076799 -0.070128           2.6   \n",
       "\n",
       "   acceleration_x  acceleration_y       angle  acc_diff  gyroscope_z  \\\n",
       "0        0.000000       -0.000000  317.599761       0.0            0   \n",
       "1        1.919977       -1.753194  317.599761       2.6            0   \n",
       "2        1.919977       -1.753194  317.599761       2.6            0   \n",
       "3        1.919977       -1.753194  317.599761       2.6            0   \n",
       "4        1.919976       -1.753194  317.599761       2.6            0   \n",
       "\n",
       "                    desc  \n",
       "0  <home-Ciclo Básico I>  \n",
       "1  <home-Ciclo Básico I>  \n",
       "2  <home-Ciclo Básico I>  \n",
       "3  <home-Ciclo Básico I>  \n",
       "4  <home-Ciclo Básico I>  "
      ]
     },
     "execution_count": 17,
     "metadata": {},
     "output_type": "execute_result"
    }
   ],
   "source": [
    "df_teste.head()"
   ]
  },
  {
   "cell_type": "code",
   "execution_count": 27,
   "metadata": {},
   "outputs": [],
   "source": [
    "def plot_routine(df, idx, save_path=None, time_window=None):\n",
    "    # Filter by time window if specified\n",
    "    if time_window is not None and len(time_window) == 2:\n",
    "        df = df[(df['timestamp'] >= time_window[0]) & (df['timestamp'] <= time_window[1])]\n",
    "\n",
    "    # Create subplots\n",
    "    fig, axes = plt.subplots(1, 3, figsize=(25, 5))\n",
    "\n",
    "    # Plot acceleration\n",
    "    axes[0].plot(df['timestamp'], df['acceleration_x'], label='Acc X')\n",
    "    axes[0].plot(df['timestamp'], df['acceleration_y'], label='Acc Y')\n",
    "    axes[0].plot(df['timestamp'], df['acceleration'], label='Acc Magnitude')\n",
    "    axes[0].set_title(\"Acceleration over Time\")\n",
    "    axes[0].set_ylabel(\"Acceleration (m/s²)\")\n",
    "    axes[0].legend()\n",
    "    axes[0].grid(True)\n",
    "\n",
    "    # Plot gyroscope\n",
    "    axes[1].plot(df['timestamp'], df['angle'], label='angle')\n",
    "    axes[1].set_title(\"Angle over Time\")\n",
    "    axes[1].set_ylabel(\"Angle (rad)\")\n",
    "    axes[1].legend()\n",
    "    axes[1].grid(True)\n",
    "\n",
    "    # Plot position\n",
    "    scatter = axes[2].scatter(df['latitude'], df['longitude'], c=df['timestamp'], cmap='viridis', s=10)\n",
    "    axes[2].set_title(\"Position (Latitude vs Longitude) colored by Time\")\n",
    "    axes[2].set_xlabel(\"Longitude\")\n",
    "    axes[2].set_ylabel(\"Latitude\")\n",
    "    axes[2].grid(True)\n",
    "    cbar = fig.colorbar(scatter, ax=axes[2])\n",
    "    cbar.set_label(\"Time (s)\")\n",
    "\n",
    "    # Set a single title for the entire figure\n",
    "    fig.suptitle(f\"SUMO Simulator data for route {idx}\", fontsize=16)\n",
    "\n",
    "    if save_path:\n",
    "        plt.savefig(save_path)\n",
    "    else:\n",
    "        plt.show()"
   ]
  },
  {
   "cell_type": "code",
   "execution_count": 28,
   "metadata": {},
   "outputs": [],
   "source": [
    "fname = f'veh_segunda.csv'\n",
    "df_routine = pd.read_csv(f'{FOLDER_NAME}/data_routine/{fname}')\n",
    "idx = re.sub(r'\\D', '', fname)  # Extract the numeric part from the filename\n",
    "os.makedirs(f'{FOLDER_NAME}/plot_routine', exist_ok=True)"
   ]
  },
  {
   "cell_type": "code",
   "execution_count": 31,
   "metadata": {},
   "outputs": [],
   "source": [
    "plot_routine(df_routine, idx, time_window=[0, 5000], save_path=f'{FOLDER_NAME}/plot_routine/{fname[:-4]}.png')"
   ]
  },
  {
   "cell_type": "markdown",
   "metadata": {},
   "source": [
    "# Experiment 1"
   ]
  },
  {
   "cell_type": "code",
   "execution_count": 15,
   "metadata": {},
   "outputs": [],
   "source": [
    "FOLDER_NAME = 'uah_map'"
   ]
  },
  {
   "cell_type": "code",
   "execution_count": 18,
   "metadata": {},
   "outputs": [
    {
     "name": "stdout",
     "output_type": "stream",
     "text": [
      "Child <route-files> with value 'experiment1/veh0_normal.rou.xml' already exists. Skipping addition.\n",
      " Retrying in 1 seconds\n",
      "***Starting server on port 43753 ***\n",
      "Loading net-file from 'uah_map/osm.net.xml.gz' ... done (23ms).\n",
      "Loading route-files incrementally from 'uah_map/experiment1/veh0_normal.rou.xml'\n",
      "Loading done.\n",
      "Simulation version 1.23.1 started with time: 0.00.\n",
      "Child <step-length> with value '0.01' already exists. Skipping addition.\n",
      "Child <end> already exists. Updating value to ''.\n",
      "XML file updated successfully.\n",
      "Vehicle veh0_normal has departed\n",
      "Simulation ended at time: 504.18.\n",
      "Reason: TraCI requested termination.\n",
      "Performance:\n",
      " Duration: 12.93s\n",
      " TraCI-Duration: 12.09s\n",
      " Real time factor: 38.984\n",
      " UPS: 3898.322122\n",
      "Vehicles:\n",
      " Inserted: 1\n",
      " Running: 0\n",
      " Waiting: 0\n",
      "Statistics (avg of 1):\n",
      " RouteLength: 10556.89\n",
      " Speed: 20.94\n",
      " Duration: 504.17\n",
      " WaitingTime: 0.25\n",
      " TimeLoss: 6.71\n",
      " DepartDelay: 0.00\n",
      "DijkstraRouter answered 1 queries and explored 39.00 edges on average.\n",
      "DijkstraRouter spent 0.00s answering queries (0.00ms on average).\n",
      "Child <route-files> already exists. Updating value to 'experiment1/veh1_aggressive.rou.xml'.\n",
      "XML file updated successfully.\n",
      " Retrying in 1 seconds\n",
      "***Starting server on port 53125 ***\n",
      "Loading net-file from 'uah_map/osm.net.xml.gz' ... done (13ms).\n",
      "Loading route-files incrementally from 'uah_map/experiment1/veh1_aggressive.rou.xml'\n",
      "Loading done.\n",
      "Simulation version 1.23.1 started with time: 0.00.\n",
      "Child <step-length> with value '0.01' already exists. Skipping addition.\n",
      "Child <end> with value '' already exists. Skipping addition.\n",
      "Vehicle veh1_aggressive has departed\n",
      "Simulation ended at time: 453.95.\n",
      "Reason: TraCI requested termination.\n",
      "Performance:\n",
      " Duration: 12.68s\n",
      " TraCI-Duration: 11.90s\n",
      " Real time factor: 35.8089\n",
      " UPS: 3580.815650\n",
      "Vehicles:\n",
      " Inserted: 1\n",
      " Running: 0\n",
      " Waiting: 0\n",
      "Statistics (avg of 1):\n",
      " RouteLength: 10556.89\n",
      " Speed: 23.26\n",
      " Duration: 453.94\n",
      " WaitingTime: 0.28\n",
      " TimeLoss: 8.29\n",
      " DepartDelay: 0.00\n",
      "DijkstraRouter answered 1 queries and explored 39.00 edges on average.\n",
      "DijkstraRouter spent 0.00s answering queries (0.00ms on average).\n"
     ]
    }
   ],
   "source": [
    "experiment1_files = os.listdir(f'{FOLDER_NAME}/experiment1')\n",
    "delta_time = 0.01 # This delta time has to be the same as the one used in CARLA\n",
    "end_time = 0 # 0 means no end time, the simulation will run until all vehicles finish their route\n",
    "with open(f'{FOLDER_NAME}/experiment1/vehicle_ids.txt', 'r') as f:\n",
    "    vehIDs = f.read().splitlines()\n",
    "\n",
    "\n",
    "if os.path.exists(f'{FOLDER_NAME}/data_experiment1_sumo'):\n",
    "    shutil.rmtree(f'{FOLDER_NAME}/data_experiment1_sumo')\n",
    "os.makedirs(f'{FOLDER_NAME}/data_experiment1_sumo', exist_ok=True)\n",
    "\n",
    "for i in range(len(vehIDs)):\n",
    "\n",
    "    add_xml_child(f'{FOLDER_NAME}/osm.sumocfg', 'input', 'route-files', f'experiment1/{vehIDs[i]}.rou.xml', replace=True)\n",
    "    personIDs = []\n",
    "\n",
    "    try:\n",
    "        veh_variables, ped_variables = get_all_variables(vehIDs, personIDs, delta_time=delta_time, routine=None, end_hours=end_time, useGui=False, convertGeo=False, freeze_traffic_lights=True) # Running the simulation\n",
    "        save_data(veh_variables, \"data_experiment1_sumo\", [vehIDs[i]], delta_time, new_dir=False, verify=True, use_lat_lon=False, use_desc=False)\n",
    "        \n",
    "    except KeyboardInterrupt as e:\n",
    "        traci.close() # Close the simulation if there is an error\n",
    "        print(f\"An error occurred: {e}\")"
   ]
  },
  {
   "cell_type": "code",
   "execution_count": 14,
   "metadata": {},
   "outputs": [],
   "source": [
    "def plot_df_exp1(df, idx, save_path = None):\n",
    "    # Create subplots\n",
    "    fig, axes = plt.subplots(1, 3, figsize=(25, 5))\n",
    "\n",
    "    # Plot acceleration\n",
    "    axes[0].plot(df['timestamp'], df['acc_x'], label='Acc X')\n",
    "    axes[0].plot(df['timestamp'], df['acc_y'], label='Acc Y')\n",
    "    axes[0].set_title(\"Acceleration over Time\")\n",
    "    axes[0].set_ylabel(\"Acceleration (m/s²)\")\n",
    "    axes[0].legend()\n",
    "    axes[0].grid(True)\n",
    "\n",
    "    # Plot gyroscope\n",
    "    axes[1].plot(df['timestamp'], df['gyro_z'], label='Gyro Z')\n",
    "    axes[1].set_title(\"Gyroscope over Time\")\n",
    "    axes[1].set_ylabel(\"Angular Velocity (rad/s)\")\n",
    "    axes[1].legend()\n",
    "    axes[1].grid(True)\n",
    "\n",
    "    # Plot position\n",
    "    scatter = axes[2].scatter(df['x_pos'], df['y_pos'], c=df['timestamp'], cmap='viridis', s=10)\n",
    "    axes[2].set_title(\"Position (Latitude vs Longitude) colored by Time\")\n",
    "    axes[2].set_xlabel(\"Longitude\")\n",
    "    axes[2].set_ylabel(\"Latitude\")\n",
    "    axes[2].grid(True)\n",
    "    cbar = fig.colorbar(scatter, ax=axes[2])\n",
    "    cbar.set_label(\"Time (s)\")\n",
    "\n",
    "    # Set a single title for the entire figure\n",
    "    fig.suptitle(f\"SUMO Simulator data for route {idx}\", fontsize=16)\n",
    "\n",
    "    if save_path:\n",
    "        plt.savefig(save_path)\n",
    "    else:\n",
    "        plt.show()"
   ]
  },
  {
   "cell_type": "markdown",
   "metadata": {},
   "source": [
    "Saving the plots"
   ]
  },
  {
   "cell_type": "code",
   "execution_count": null,
   "metadata": {},
   "outputs": [],
   "source": [
    "if os.path.exists(f'{FOLDER_NAME}/plot_experiment1_sumo'):\n",
    "    shutil.rmtree(f'{FOLDER_NAME}/plot_experiment1_sumo')\n",
    "os.makedirs(f'{FOLDER_NAME}/plot_experiment1_sumo', exist_ok=True)\n",
    "\n",
    "for f in os.listdir(f'{FOLDER_NAME}/data_experiment1_sumo'):\n",
    "    df = pd.read_csv(f'{FOLDER_NAME}/data_experiment1_sumo/{f}')\n",
    "    idx = re.sub(r'\\D', '', f)  # Extract the numeric part from the filename\n",
    "    plot_df_exp1(df, idx, save_path=f'{FOLDER_NAME}/plot_experiment1_sumo/{f[:-4]}.png')"
   ]
  },
  {
   "cell_type": "code",
   "execution_count": null,
   "metadata": {},
   "outputs": [],
   "source": [
    "os.listdir(f'{FOLDER_NAME}/data_experiment1_sumo')"
   ]
  },
  {
   "cell_type": "markdown",
   "metadata": {},
   "source": [
    "## Routine data"
   ]
  },
  {
   "cell_type": "code",
   "execution_count": null,
   "metadata": {},
   "outputs": [],
   "source": [
    "FOLDER_NAME = \"town01\""
   ]
  },
  {
   "cell_type": "code",
   "execution_count": null,
   "metadata": {},
   "outputs": [],
   "source": [
    "id = 'veh_carla0_nolabel'\n",
    "df = pd.read_csv(f'{FOLDER_NAME}/data_routine/{id}.csv')\n",
    "plot_df([id], df, ['acceleration_x', 'gps'], normalize_time=True, time_window=[0, 300], use_lat_lon=False)"
   ]
  },
  {
   "cell_type": "markdown",
   "metadata": {},
   "source": []
  },
  {
   "cell_type": "code",
   "execution_count": null,
   "metadata": {},
   "outputs": [],
   "source": [
    "importlib.reload(animateGPS)\n",
    "veh_id = 'veh_carla0_nolabel'\n",
    "animateGPS.animate_gps(\n",
    "    veh_id=veh_id,\n",
    "    folder_path= os.path.join(os.getcwd(), f'{FOLDER_NAME}/data_routine'),\n",
    "    frame_step=5,             # optional\n",
    "    time_window=[0, 50000],     # optional\n",
    "    start_time=7,\n",
    "    show_desc=False,        # optional (True to show the description of the vehicle if it has)\n",
    "    save_path=os.path.join(os.getcwd(), f'{FOLDER_NAME}/{veh_id}_animation.mp4')  # <<< Save instead of showing live\n",
    ")"
   ]
  },
  {
   "cell_type": "markdown",
   "metadata": {},
   "source": [
    "## UFSCar test"
   ]
  },
  {
   "cell_type": "code",
   "execution_count": null,
   "metadata": {},
   "outputs": [],
   "source": [
    "FOLDER_NAME = \"ufscar\""
   ]
  },
  {
   "cell_type": "code",
   "execution_count": null,
   "metadata": {},
   "outputs": [],
   "source": [
    "id = '99'\n",
    "df = pd.read_csv(f'{FOLDER_NAME}/data_dirty/{id}.csv')\n",
    "plot_df(['99'], df, ['acceleration_x'], normalize_time=False, time_window=[])"
   ]
  },
  {
   "cell_type": "markdown",
   "metadata": {},
   "source": [
    "To solve this problem, one idea is to identify places where the changes are too abrupt using an approximate derivative and substitute it for the previus value"
   ]
  },
  {
   "cell_type": "code",
   "execution_count": null,
   "metadata": {},
   "outputs": [],
   "source": [
    "save_data(copy.deepcopy(veh_variables), \"data\", vehIDs, type_ids_random, type_ids_routine=None, verify=True, speed_threshold=5, acc_threshold=4, derivative_threshold=2)"
   ]
  },
  {
   "cell_type": "code",
   "execution_count": null,
   "metadata": {},
   "outputs": [],
   "source": [
    "id = '99'\n",
    "df = pd.read_csv(f'{FOLDER_NAME}/data/{id}.csv')\n",
    "plot_df(['99'], df, ['acceleration_x'], normalize_time=False, time_window=[])"
   ]
  },
  {
   "cell_type": "markdown",
   "metadata": {},
   "source": [
    "## Now lets boxplot the data to see how separate they are"
   ]
  },
  {
   "cell_type": "code",
   "execution_count": null,
   "metadata": {},
   "outputs": [],
   "source": [
    "def get_whole_data(foldername, type_ids_random):\n",
    "    df = {}\n",
    "    for cls in type_ids_random.keys():\n",
    "        cls_df = pd.DataFrame()\n",
    "        for vehID in type_ids_random[cls]:\n",
    "            csv_path = f'{foldername}/{vehID}.csv'\n",
    "            df_temp = pd.read_csv(csv_path)\n",
    "            cls_df = pd.concat([cls_df, df_temp], axis=0)\n",
    "        df[cls] = cls_df    \n",
    "    return df"
   ]
  },
  {
   "cell_type": "code",
   "execution_count": null,
   "metadata": {},
   "outputs": [],
   "source": [
    "def boxplots(df, sensors, showfliers=True, names=None, classes=None):\n",
    "    fig, axes = plt.subplots(nrows=int(np.ceil(len(sensors)/2)), ncols=2, figsize=(15, 5 * int(np.ceil(len(sensors)/2))))\n",
    "    axes = axes.flatten()\n",
    "    cls = list(df.keys())\n",
    "\n",
    "    for j in range(len(sensors)):\n",
    "\n",
    "        if classes:\n",
    "            axes[j].boxplot([df[cls[i]][sensors[j]] for i in range(len(df))], tick_labels=classes, showfliers=showfliers)\n",
    "        else:\n",
    "            axes[j].boxplot([df[cls[i]][sensors[j]] for i in range(len(df))], tick_labels=cls, showfliers=showfliers)\n",
    "\n",
    "        if names:\n",
    "            axes[j].set_ylabel(f'{names[j].capitalize()}')\n",
    "            axes[j].set_title(f'Boxplot de {names[j].split(\" \")[0]}')\n",
    "        else:\n",
    "            axes[j].set_title(f'Boxplot de {sensors[j].capitalize()}')\n",
    "            axes[j].set_ylabel(f'{sensors[j].capitalize()}')\n",
    "\n",
    "    for j in range(len(sensors), len(axes)):\n",
    "        fig.delaxes(axes[j])\n",
    "\n",
    "    plt.tight_layout()\n",
    "    plt.show()"
   ]
  },
  {
   "cell_type": "markdown",
   "metadata": {},
   "source": [
    "Cleaned data"
   ]
  },
  {
   "cell_type": "code",
   "execution_count": null,
   "metadata": {},
   "outputs": [],
   "source": [
    "df = get_whole_data(f'{FOLDER_NAME}/data', type_ids_random)\n",
    "boxplots(df, sensors=['acceleration', 'speed', 'angle', 'acc_diff'], showfliers=True, names=['aceleração (m/s²)', 'velocidade (m/s)', 'ângulo (graus)', 'acc_diff (m/s²)'], classes=['cauteloso', 'normal', 'agressivo', 'super agressivo'])"
   ]
  },
  {
   "cell_type": "markdown",
   "metadata": {},
   "source": [
    "Dirty data"
   ]
  },
  {
   "cell_type": "code",
   "execution_count": null,
   "metadata": {},
   "outputs": [],
   "source": [
    "df_dirty = get_whole_data(f'{FOLDER_NAME}/data_dirty', type_ids_random)\n",
    "boxplots(df_dirty)"
   ]
  },
  {
   "cell_type": "markdown",
   "metadata": {},
   "source": [
    "## Example of time series for each class"
   ]
  },
  {
   "cell_type": "code",
   "execution_count": null,
   "metadata": {},
   "outputs": [],
   "source": [
    "def show_examples(data_folder, ids, sensors, window=None, plot_en=False):\n",
    "    fig, axes = plt.subplots(nrows=len(ids)//2, ncols=2, figsize=(15, 2 * len(ids)), sharex=False)\n",
    "    axes = axes.flatten()\n",
    "\n",
    "    y_min, y_max = float('inf'), float('-inf')\n",
    "\n",
    "    # Primeira passagem para determinar os limites de y\n",
    "    for i in range(len(ids)):\n",
    "        id = list(ids.values())[i]\n",
    "        time_series = pd.read_csv(f'{data_folder}/{id}.csv')\n",
    "        for sensor in sensors:\n",
    "            y_min = min(y_min, time_series[sensor][:window].min())\n",
    "            y_max = max(y_max, time_series[sensor][:window].max())\n",
    "\n",
    "    # Segunda passagem para plotar os dados com limites de y compartilhados\n",
    "    for i in range(len(ids)):\n",
    "        id = list(ids.values())[i]\n",
    "        cls = list(ids.keys())[i]\n",
    "        time_series = pd.read_csv(f'{data_folder}/{id}.csv')\n",
    "        for sensor in sensors:\n",
    "            axes[i].plot(time_series['time'], time_series[sensor], label=sensor.capitalize())\n",
    "\n",
    "            if not plot_en:\n",
    "                if cls == 'cautious':\n",
    "                    cls = 'cauteloso'\n",
    "                elif cls == 'aggressive':\n",
    "                    cls = 'agressivo'\n",
    "                elif cls == 'super_aggressive':\n",
    "                    cls = 'super agressivo'\n",
    "\n",
    "            if plot_en:\n",
    "                axes[i].set_title(f\"{cls.capitalize()} vehicle over time\")\n",
    "            else:\n",
    "                axes[i].set_title(f\"Veículo {cls} ao longo do tempo\")\n",
    "            \n",
    "            \n",
    "            if window:\n",
    "                axes[i].set_xlim([time_series['time'].min(), time_series['time'].min() + window])\n",
    "            else:\n",
    "                axes[i].set_xlim([time_series['time'].min(), time_series['time'].max()])\n",
    "            axes[i].set_ylim([y_min - 1, y_max + 1])\n",
    "\n",
    "    if plot_en:\n",
    "        for ax in axes:\n",
    "            ax.set_xlabel(\"Simulation step\")\n",
    "            ax.set_ylabel(\"Speed (m/s) / Acceleration (m/s²)\")\n",
    "            ax.legend(['Speed', 'Acceleration'])\n",
    "\n",
    "    else:\n",
    "        for ax in axes:\n",
    "            ax.set_xlabel(\"Passo de simulação\")\n",
    "            ax.set_ylabel(\"Velocidade (m/s) / Aceleração (m/s²)\")\n",
    "            ax.legend(['Velocidade', 'Aceleração'])\n",
    "\n",
    "    plt.tight_layout()\n",
    "    plt.show()"
   ]
  },
  {
   "cell_type": "code",
   "execution_count": null,
   "metadata": {},
   "outputs": [],
   "source": [
    "show_examples(f\"{FOLDER_NAME}/data\", {x: type_ids_random[x][np.random.randint(0, len(type_ids_random[x]))] for x in type_ids_random.keys()}, ['speed', 'acceleration'], window=400, plot_en=True)"
   ]
  },
  {
   "cell_type": "markdown",
   "metadata": {},
   "source": [
    "### Here we can clearly see that even though the means of the values are really similar to each other, the frequency of change of acceleration, for example, is a lot different. Maybe we can use that to better separate the data"
   ]
  },
  {
   "cell_type": "markdown",
   "metadata": {},
   "source": [
    "## Boxplot for two classes"
   ]
  },
  {
   "cell_type": "code",
   "execution_count": null,
   "metadata": {},
   "outputs": [],
   "source": [
    "type_ids_routine_simple, type_ids_random_simple = extract_vtype_ids('unicamp')\n",
    "df = get_whole_data(f'unicamp/data_simple', type_ids_random_simple)\n",
    "boxplots(df)"
   ]
  },
  {
   "cell_type": "markdown",
   "metadata": {},
   "source": [
    "## Decomposing sensors into X and Y axis"
   ]
  },
  {
   "cell_type": "markdown",
   "metadata": {},
   "source": [
    "The idea here is to try to make it easier to separate the data by having more features"
   ]
  },
  {
   "cell_type": "code",
   "execution_count": null,
   "metadata": {},
   "outputs": [],
   "source": [
    "# TODO"
   ]
  }
 ],
 "metadata": {
  "kernelspec": {
   "display_name": "sumo-env",
   "language": "python",
   "name": "python3"
  },
  "language_info": {
   "codemirror_mode": {
    "name": "ipython",
    "version": 3
   },
   "file_extension": ".py",
   "mimetype": "text/x-python",
   "name": "python",
   "nbconvert_exporter": "python",
   "pygments_lexer": "ipython3",
   "version": "3.10.16"
  }
 },
 "nbformat": 4,
 "nbformat_minor": 4
}
