{
 "cells": [
  {
   "cell_type": "code",
   "execution_count": 2,
   "metadata": {},
   "outputs": [],
   "source": [
    "import os\n",
    "import json\n",
    "from groq import Groq\n",
    "os.environ[\"GROQ_API_KEY\"] = \"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\""
   ]
  },
  {
   "cell_type": "code",
   "execution_count": 3,
   "metadata": {},
   "outputs": [],
   "source": [
    "client = Groq(\n",
    "    api_key = os.environ.get(\"GROQ_API_KEY\"),\n",
    ")"
   ]
  },
  {
   "cell_type": "code",
   "execution_count": 4,
   "metadata": {},
   "outputs": [],
   "source": [
    "def getResponse(path, veh_id, departure_time, parking_area_duration):\n",
    "    path_str = \"\"\n",
    "    path = [\"FEEC\", \"pa75701374#0\", \"FEEC\"]\n",
    "    path_str += f\"from='{path[0]}'\"\n",
    "    for i in range(1, len(path)):\n",
    "        if i == len(path) - 1:\n",
    "            path_str += f\" to='{path[i]}'\"\n",
    "        else:\n",
    "            path_str += f\", {path[i]},\"\n",
    "\n",
    "    instructions_content = (\"Be concise, show only the code. \" + \n",
    "                    \"Given the following trip example: <trip id='veh_id' type='veh_passenger' depart='21.89' departLane='best' from='begin_id' to='end_id'> <stop parkingArea='parkingArea_id' duration='200' /> </trip>. \"\n",
    "                    f'Give me a trip that follows the ids {path_str}.' +\n",
    "                    \"The from parameter of the trip is the first edge, the to paremeter is the last edge. \" +\n",
    "                    f\"The depart is going to be at {departure_time}. \" +\n",
    "                    f\"The veh_id is going to be {veh_id}. \" +\n",
    "                    \"A stop is going to be created for each edge that starts with 'pa'. \" +\n",
    "                    f\"The duration of the stop is {parking_area_duration}. \" +\n",
    "                    \"Create a trip that is in the same format as the example trip.\"\n",
    "                    )\n",
    "    print(instructions_content)\n",
    "    message = [\n",
    "        {\n",
    "            \"role\": \"user\",\n",
    "            \"content\": instructions_content,\n",
    "        }\n",
    "    ]\n",
    "\n",
    "    chat_completion = client.chat.completions.create(messages=message, model=\"llama3-8b-8192\")\n",
    "\n",
    "    return chat_completion.choices[0].message.content"
   ]
  },
  {
   "cell_type": "code",
   "execution_count": 5,
   "metadata": {},
   "outputs": [
    {
     "name": "stdout",
     "output_type": "stream",
     "text": [
      "Be concise, show only the code. Given the following trip example: <trip id='veh_id' type='veh_passenger' depart='21.89' departLane='best' from='begin_id' to='end_id'> <stop parkingArea='parkingArea_id' duration='200' /> </trip>. Give me a trip that follows the ids from='FEEC', pa75701374#0, to='FEEC'.The from parameter of the trip is the first edge, the to paremeter is the last edge. The depart is going to be at 15. The veh_id is going to be veh_1. A stop is going to be created for each edge that starts with 'pa'. The duration of the stop is 100. Create a trip that is in the same format as the example trip.\n",
      "```\n",
      "<trip id='veh_1' type='veh_passenger' depart='15' departLane='best' from='FEEC' to='FEEC'>\n",
      "    <stop parkingArea='pa75701374#0' duration='100' />\n",
      "</trip>\n",
      "```\n"
     ]
    }
   ],
   "source": [
    "response = getResponse([\"FEEC\", \"pa75701374#0\", \"FEEC\"], \"veh_1\", 15, 100)\n",
    "print(response)"
   ]
  },
  {
   "cell_type": "markdown",
   "metadata": {},
   "source": [
    "\\<trip id='veh15' type='veh_passenger' depart='21.89' departLane='best' from='FEEC' to='pa75701374#0'> \\<stop parkingArea='pa75701374#0' duration='200' /> \\<stop parkingArea='FEEC' duration='200' /> \\</trip>"
   ]
  },
  {
   "cell_type": "markdown",
   "metadata": {},
   "source": []
  }
 ],
 "metadata": {
  "kernelspec": {
   "display_name": "Python 3",
   "language": "python",
   "name": "python3"
  },
  "language_info": {
   "codemirror_mode": {
    "name": "ipython",
    "version": 3
   },
   "file_extension": ".py",
   "mimetype": "text/x-python",
   "name": "python",
   "nbconvert_exporter": "python",
   "pygments_lexer": "ipython3",
   "version": "3.10.12"
  }
 },
 "nbformat": 4,
 "nbformat_minor": 2
}
