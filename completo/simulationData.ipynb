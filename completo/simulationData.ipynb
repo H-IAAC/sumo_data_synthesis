{
 "cells": [
  {
   "cell_type": "code",
   "execution_count": 1,
   "metadata": {},
   "outputs": [],
   "source": [
    "import os\n",
    "import numpy as np\n",
    "import matplotlib.pyplot as plt\n",
    "import sys\n",
    "if 'SUMO_HOME' in os.environ:\n",
    "    sys.path.append(os.path.join(os.environ['SUMO_HOME'], 'tools'))\n",
    "import traci\n",
    "import traci.constants as tc"
   ]
  },
  {
   "cell_type": "code",
   "execution_count": 2,
   "metadata": {},
   "outputs": [],
   "source": [
    "sumoBinary = \"/usr/bin/sumo-gui\"\n",
    "sumoCmd = [sumoBinary, \"-c\", \"osm.sumocfg\"]"
   ]
  },
  {
   "cell_type": "markdown",
   "metadata": {},
   "source": [
    "Códigos para cada uma das variáveis de subscribe:"
   ]
  },
  {
   "cell_type": "code",
   "execution_count": 3,
   "metadata": {},
   "outputs": [],
   "source": [
    "SPEED = 64\n",
    "POSITION = 66\n",
    "ACCELERATION = 114\n",
    "ANGLE = 67\n",
    "DEPATURE = 58"
   ]
  },
  {
   "cell_type": "markdown",
   "metadata": {},
   "source": [
    "Recebendo todas as variáveis para cada instante de execução e armazenando em all_variables:"
   ]
  },
  {
   "cell_type": "code",
   "execution_count": 4,
   "metadata": {},
   "outputs": [],
   "source": [
    "def setSpeedMode(vehID, speedMode):\n",
    "    # bit0: Regard safe speed\n",
    "    # bit1: Regard maximum acceleration\n",
    "    # bit2: Regard maximum deceleration\n",
    "    # bit3: Regard right of way at intersections (only applies to approaching foe vehicles outside the intersection)\n",
    "    # bit4: Brake hard to avoid passing a red light\n",
    "    # bit5: Disregard right of way within intersections (only applies to foe vehicles that have entered the intersection)\n",
    "\n",
    "    # CAUTION: \n",
    "    # bit5 has inverted semantics and must be set to '1' in order to disable the safety function. This achieves backward compatibility with earlier versions of SUMO where this bit was not defined and right of way within intersection could not be ignored explicitly.\n",
    "\n",
    "    if vehID in traci.vehicle.getIDList():\n",
    "        traci.vehicle.setSpeedMode(vehID, speedMode)"
   ]
  },
  {
   "cell_type": "code",
   "execution_count": 5,
   "metadata": {},
   "outputs": [],
   "source": [
    "def setSpeed(vehID, speed):\n",
    "    # Sets the speed of the vehicle to max(speed, MaxVehicleSpeed)\n",
    "    if vehID in traci.vehicle.getIDList():\n",
    "        traci.vehicle.setSpeed(vehID, speed)"
   ]
  },
  {
   "cell_type": "code",
   "execution_count": 6,
   "metadata": {},
   "outputs": [],
   "source": [
    "def slowDown(vehID, targetSpeed, duration):\n",
    "    # Slows down the vehicle to targetSpeed over the next duration seconds\n",
    "    if vehID in traci.vehicle.getIDList():\n",
    "        traci.vehicle.slowDown(vehID, targetSpeed, duration)"
   ]
  },
  {
   "cell_type": "code",
   "execution_count": 7,
   "metadata": {},
   "outputs": [],
   "source": [
    "def get_all_variables(vehIDs, personIDs, useGui=False):\n",
    "    if useGui:\n",
    "        traci.start([\"sumo-gui\", \"-c\", \"osm.sumocfg\"])\n",
    "    else:\n",
    "        traci.start([\"sumo\", \"-c\", \"osm.sumocfg\"])\n",
    "    v_variables = {}\n",
    "    p_variables = {}\n",
    "    time = 0\n",
    "    while traci.simulation.getMinExpectedNumber() > 0:\n",
    "        for veh_id in traci.simulation.getDepartedIDList():\n",
    "            if veh_id in vehIDs:\n",
    "                traci.vehicle.subscribe(veh_id, [tc.VAR_POSITION, tc.VAR_SPEED, tc.VAR_ACCELERATION, tc.VAR_ANGLE])\n",
    "        \n",
    "        for person_id in traci.simulation.getDepartedPersonIDList():\n",
    "            if person_id in personIDs:\n",
    "                traci.person.subscribe(person_id, [tc.VAR_POSITION, tc.VAR_SPEED])\n",
    "\n",
    "        v_variables[time] = traci.vehicle.getAllSubscriptionResults().copy()\n",
    "        p_variables[time] = traci.person.getAllSubscriptionResults().copy()\n",
    "        \n",
    "        if time == 0:\n",
    "            setSpeedMode(\"veh7\", 0b10000) \n",
    "\n",
    "        if time == 50:\n",
    "            traci.vehicle.setMaxSpeed(\"veh7\", 20)\n",
    "            setSpeed(\"veh7\", 20)\n",
    "\n",
    "        if time == 80:\n",
    "            slowDown(\"veh7\", 0, 20)\n",
    "        \n",
    "        time += 1\n",
    "        traci.simulationStep()\n",
    "        \n",
    "    traci.close()\n",
    "    return v_variables, p_variables"
   ]
  },
  {
   "cell_type": "code",
   "execution_count": 8,
   "metadata": {},
   "outputs": [],
   "source": [
    "# Devolve o tempo de depareture e arrival de um veículo ou pessoa\n",
    "def get_departure_arrival(variables, ID):\n",
    "    departure = 0\n",
    "    arrival = 0\n",
    "    departed = False\n",
    "    for x in range(len(variables)):\n",
    "        if ID in variables[x] and variables[x][ID] and not departed:\n",
    "            departed = True\n",
    "            departure = x\n",
    "        elif ID not in variables[x] and departed:\n",
    "            arrival = x\n",
    "            break\n",
    "\n",
    "    return departure, arrival"
   ]
  },
  {
   "cell_type": "markdown",
   "metadata": {},
   "source": [
    "Função para o plot das variáveis"
   ]
  },
  {
   "cell_type": "code",
   "execution_count": 9,
   "metadata": {},
   "outputs": [],
   "source": [
    "def static_plots(variables, ID, isVehicle=True):\n",
    "    # Plots speed, acceleration, angle and position of a vehicle\n",
    "    plt.ioff()\n",
    "    departure, arrival = get_departure_arrival(variables, ID)\n",
    "    time = np.arange(departure, arrival, 1.0)\n",
    "    \n",
    "    if isVehicle:\n",
    "        fig, ax = plt.subplots(2, 2, figsize=(20, 10))\n",
    "    else:\n",
    "        fig, ax = plt.subplots(1, 2, figsize=(18, 5))\n",
    "\n",
    "    if isVehicle:\n",
    "        speed = [variables[x][ID][SPEED] for x in range(len(variables)) if ID in variables[x]]\n",
    "        ax[0,0].plot(time, speed, label='Speed', color='b')\n",
    "        ax[0,0].set_xlabel('Exec Time')\n",
    "        ax[0,0].set_ylabel('Speed')\n",
    "        ax[0,0].legend()\n",
    "\n",
    "        pos = [variables[x][ID][POSITION] for x in range(len(variables)) if ID in variables[x]]\n",
    "        ax[1,1].plot([p[0] for p in pos], [p[1] for p in pos], label='Position', color='y')\n",
    "        ax[1,1].set_xlabel('X pos')\n",
    "        ax[1,1].set_ylabel('Y pos')\n",
    "\n",
    "        acc = [variables[x][ID][ACCELERATION] for x in range(len(variables)) if ID in variables[x]]\n",
    "        ax[0,1].plot(time, acc, label='Acceleration', color='g')\n",
    "        ax[0,1].set_xlabel('Exec Time')\n",
    "        ax[0,1].set_ylabel('Acceleration')\n",
    "        ax[0,1].legend()\n",
    "\n",
    "        angle = [variables[x][ID][ANGLE] for x in range(len(variables)) if ID in variables[x]]\n",
    "        ax[1,0].plot(time, angle, label='Angle', color='purple')\n",
    "        ax[1,0].set_xlabel('Exec Time')\n",
    "        ax[1,0].set_ylabel('Angle')\n",
    "\n",
    "    else:\n",
    "        speed = [variables[x][ID][SPEED] for x in range(len(variables)) if ID in variables[x]]\n",
    "        ax[0].plot(time, speed, label='Speed', color='b')\n",
    "        ax[0].set_xlabel('Exec Time')\n",
    "        ax[0].set_ylabel('Speed')\n",
    "        ax[0].legend()\n",
    "\n",
    "        pos = [variables[x][ID][POSITION] for x in range(len(variables)) if ID in variables[x]]\n",
    "        ax[1].plot([p[0] for p in pos], [p[1] for p in pos], label='Position', color='y')\n",
    "        ax[1].set_xlabel('X pos')\n",
    "        ax[1].set_ylabel('Y pos')   \n",
    "\n",
    "    plt.show()"
   ]
  },
  {
   "cell_type": "code",
   "execution_count": 10,
   "metadata": {},
   "outputs": [],
   "source": [
    "vehIDs = [\"veh0\", \"veh1\"]\n",
    "personIDs = []"
   ]
  },
  {
   "cell_type": "code",
   "execution_count": 11,
   "metadata": {
    "scrolled": true
   },
   "outputs": [
    {
     "name": "stdout",
     "output_type": "stream",
     "text": [
      " Retrying in 1 seconds\n",
      "***Starting server on port 48849 ***\n",
      "Loading net-file from 'osm.net.xml.gz' ... done (877ms).\n",
      "Loading additional-files from 'osm_stops.add.xml' ... done (44ms).\n",
      "Loading additional-files from 'pa_rerouter.xml' ... done (652ms).\n",
      "Loading done.\n"
     ]
    },
    {
     "name": "stderr",
     "output_type": "stream",
     "text": [
      "Warning: ParkingArea 'pa147379116#7' is targeted by rerouter 'pa147379116#4' but doesn't have its own rerouter. This may cause parking search to abort.\n",
      "Warning: ParkingArea 'pa535725901#3' is targeted by rerouter 'pa535725901#2' but doesn't have its own rerouter. This may cause parking search to abort.\n",
      "Warning: ParkingArea 'pa689691699#2' is targeted by rerouter 'pa689691699#0' but doesn't have its own rerouter. This may cause parking search to abort.\n",
      "Warning: ParkingArea 'pa77709897#3' is targeted by rerouter 'pa77709897#2' but doesn't have its own rerouter. This may cause parking search to abort.\n",
      "Warning: ParkingArea 'pa77712876#11' is targeted by rerouter 'pa77712876#9' but doesn't have its own rerouter. This may cause parking search to abort.\n",
      "Warning: ParkingArea 'pa77790788#6' is targeted by rerouter 'pa77790788#5' but doesn't have its own rerouter. This may cause parking search to abort.\n",
      "Warning: ParkingArea 'pa77873286#4' is targeted by rerouter 'pa77873314#7' but doesn't have its own rerouter. This may cause parking search to abort.\n"
     ]
    },
    {
     "name": "stdout",
     "output_type": "stream",
     "text": [
      "Simulation version 1.21.0 started with time: 0.00.\n",
      "Simulation ended at time: 2013.00.\n",
      "Reason: TraCI requested termination.\n",
      "Performance:\n",
      " Duration: 3.69s\n",
      " TraCI-Duration: 1.27s\n",
      " Real time factor: 545.676\n",
      " UPS: 15455.950122\n",
      " UPS-Persons: 599.078341\n",
      "Vehicles:\n",
      " Inserted: 40\n",
      " Running: 0\n",
      " Waiting: 0\n",
      "Persons:\n",
      " Inserted: 9\n",
      " Running: 0\n",
      "Statistics (avg of 40):\n",
      " RouteLength: 6189.40\n",
      " Speed: 5.61\n",
      " Duration: 1425.42\n",
      " WaitingTime: 6.30\n",
      " TimeLoss: 121.30\n",
      " DepartDelay: 0.15\n",
      "Pedestrian Statistics (avg of 9 walks):\n",
      " RouteLength: 298.88\n",
      " Duration: 245.56\n",
      " TimeLoss: 24.68\n",
      "DijkstraRouter answered 34 queries and explored 196.44 edges on average.\n",
      "DijkstraRouter spent 0.01s answering queries (0.18ms on average).\n",
      "DijkstraRouter answered 16 queries and explored 228.06 edges on average.\n",
      "DijkstraRouter spent 0.00s answering queries (0.19ms on average).\n",
      "DijkstraRouter answered 48 queries and explored 291.60 edges on average.\n",
      "DijkstraRouter spent 0.02s answering queries (0.38ms on average).\n",
      "DijkstraRouter answered 12 queries and explored 254.42 edges on average.\n",
      "DijkstraRouter spent 0.01s answering queries (0.50ms on average).\n",
      "DijkstraRouter answered 50 queries and explored 52.14 edges on average.\n",
      "DijkstraRouter spent 0.00s answering queries (0.06ms on average).\n",
      "DijkstraRouter answered 4 queries and explored 38.50 edges on average.\n",
      "DijkstraRouter spent 0.00s answering queries (0.00ms on average).\n",
      "DijkstraRouter answered 54 queries and explored 324.09 edges on average.\n",
      "DijkstraRouter spent 0.04s answering queries (0.78ms on average).\n",
      "DijkstraRouter answered 16 queries and explored 442.31 edges on average.\n",
      "DijkstraRouter spent 0.02s answering queries (1.00ms on average).\n",
      "DijkstraRouter answered 14 queries and explored 449.64 edges on average.\n",
      "DijkstraRouter spent 0.02s answering queries (1.43ms on average).\n",
      "DijkstraRouter answered 2 queries and explored 426.00 edges on average.\n",
      "DijkstraRouter spent 0.00s answering queries (1.00ms on average).\n",
      "DijkstraRouter answered 2 queries and explored 527.50 edges on average.\n",
      "DijkstraRouter spent 0.00s answering queries (2.00ms on average).\n",
      "DijkstraRouter answered 34 queries and explored 6.79 edges on average.\n",
      "DijkstraRouter spent 0.00s answering queries (0.00ms on average).\n",
      "DijkstraRouter answered 164 queries and explored 525.26 edges on average.\n",
      "DijkstraRouter spent 0.12s answering queries (0.74ms on average).\n"
     ]
    }
   ],
   "source": [
    "try:\n",
    "    veh_variables, ped_variables = get_all_variables(vehIDs, personIDs, useGui=False)\n",
    "except Exception as e:\n",
    "    traci.close()\n",
    "    print(f\"An error occurred: {e}\")"
   ]
  },
  {
   "cell_type": "code",
   "execution_count": 13,
   "metadata": {},
   "outputs": [
    {
     "data": {
      "image/png": "[encoded data removed]",
      "text/plain": [
       "<Figure size 2000x1000 with 4 Axes>"
      ]
     },
     "metadata": {},
     "output_type": "display_data"
    }
   ],
   "source": [
    "# Plot para o veículo 0\n",
    "static_plots(veh_variables, \"veh0\", True)"
   ]
  },
  {
   "cell_type": "code",
   "execution_count": 15,
   "metadata": {},
   "outputs": [
    {
     "data": {
      "image/png": "[encoded data removed]",
      "text/plain": [
       "<Figure size 1800x500 with 2 Axes>"
      ]
     },
     "metadata": {},
     "output_type": "display_data"
    }
   ],
   "source": [
    "# Plot para o pedestre 0\n",
    "static_plots(ped_variables, \"ped1\", False)"
   ]
  },
  {
   "cell_type": "markdown",
   "metadata": {},
   "source": [
    "Criando gráfico dinâmico que roda juntamente com a simulação:"
   ]
  },
  {
   "cell_type": "code",
   "execution_count": 1,
   "metadata": {},
   "outputs": [],
   "source": [
    "def dynamic_simulation_2(speed, acc, x, y, angle):\n",
    "    %matplotlib\n",
    "    plt.ion()\n",
    "    fig, ax = plt.subplots(2, 2, figsize=(30, 20))\n",
    "    ax[0,0].set_xlabel('Exec Time')\n",
    "    ax[0,0].set_ylabel('Speed')\n",
    "    \n",
    "    for i in range(len(speed)):\n",
    "        ax[0,0].clear()\n",
    "        ax[0,0].plot(speed[:i], label='Speed', color='b')\n",
    "        #ax[0,0].set_xlabel('Exec Time')\n",
    "        #ax[0,0].set_ylabel('Speed')\n",
    "        ax[0,0].legend()\n",
    "            \n",
    "        ax[0,1].clear()\n",
    "        ax[0,1].plot(acc[:i], label='Acceleration', color='r')\n",
    "        ax[0,1].set_xlabel('Exec Time')\n",
    "        ax[0,1].set_ylabel('Acceleration')\n",
    "        ax[0,1].legend()\n",
    "        \n",
    "        ax[1,0].clear()\n",
    "        ax[1,0].plot(angle[:i], label='Angle', color='g')\n",
    "        ax[1,0].set_xlabel('Exec Time')\n",
    "        ax[1,0].set_ylabel('Angle')\n",
    "        ax[1,0].legend()\n",
    "        \n",
    "        ax[1,1].clear()\n",
    "        ax[1,1].plot(x[:i], y[:i], label='Position', color='y')\n",
    "        ax[1,1].set_xlim(0, 1600)\n",
    "        ax[1,1].set_ylim(0, 1900)\n",
    "        ax[1,1].set_xlabel('X pos')\n",
    "        ax[1,1].set_ylabel('Y pos')\n",
    "        ax[1,1].legend()\n",
    "            \n",
    "        plt.draw()\n",
    "        plt.pause(0.001)\n",
    "        \n",
    "    plt.ioff()\n",
    "    plt.show()\n",
    "    "
   ]
  },
  {
   "cell_type": "code",
   "execution_count": 2,
   "metadata": {},
   "outputs": [
    {
     "ename": "NameError",
     "evalue": "name 'all_variables' is not defined",
     "output_type": "error",
     "traceback": [
      "\u001b[0;31m---------------------------------------------------------------------------\u001b[0m",
      "\u001b[0;31mNameError\u001b[0m                                 Traceback (most recent call last)",
      "Cell \u001b[0;32mIn[2], line 1\u001b[0m\n\u001b[0;32m----> 1\u001b[0m speed \u001b[38;5;241m=\u001b[39m [i[vehID][SPEED] \u001b[38;5;28;01mfor\u001b[39;00m i \u001b[38;5;129;01min\u001b[39;00m \u001b[43mall_variables\u001b[49m[\u001b[38;5;28mint\u001b[39m(departure) \u001b[38;5;241m+\u001b[39m \u001b[38;5;241m1\u001b[39m:]]\n\u001b[1;32m      2\u001b[0m acc \u001b[38;5;241m=\u001b[39m [i[vehID][ACCELERATION] \u001b[38;5;28;01mfor\u001b[39;00m i \u001b[38;5;129;01min\u001b[39;00m all_variables[\u001b[38;5;28mint\u001b[39m(departure) \u001b[38;5;241m+\u001b[39m \u001b[38;5;241m1\u001b[39m:]]\n\u001b[1;32m      3\u001b[0m x \u001b[38;5;241m=\u001b[39m [i[vehID][POSITION][\u001b[38;5;241m0\u001b[39m] \u001b[38;5;28;01mfor\u001b[39;00m i \u001b[38;5;129;01min\u001b[39;00m all_variables[\u001b[38;5;28mint\u001b[39m(departure) \u001b[38;5;241m+\u001b[39m \u001b[38;5;241m1\u001b[39m:]]\n",
      "\u001b[0;31mNameError\u001b[0m: name 'all_variables' is not defined"
     ]
    }
   ],
   "source": [
    "speed = [i[vehID][SPEED] for i in all_variables[int(departure) + 1:]]\n",
    "acc = [i[vehID][ACCELERATION] for i in all_variables[int(departure) + 1:]]\n",
    "x = [i[vehID][POSITION][0] for i in all_variables[int(departure) + 1:]]\n",
    "y = [i[vehID][POSITION][1] for i in all_variables[int(departure) + 1:]]\n",
    "angle = [i[vehID][ANGLE] for i in all_variables[int(departure) + 1:]]"
   ]
  },
  {
   "cell_type": "code",
   "execution_count": 3,
   "metadata": {},
   "outputs": [
    {
     "ename": "NameError",
     "evalue": "name 'speed' is not defined",
     "output_type": "error",
     "traceback": [
      "\u001b[0;31m---------------------------------------------------------------------------\u001b[0m",
      "\u001b[0;31mNameError\u001b[0m                                 Traceback (most recent call last)",
      "Cell \u001b[0;32mIn[3], line 1\u001b[0m\n\u001b[0;32m----> 1\u001b[0m dynamic_simulation_2(\u001b[43mspeed\u001b[49m, acc, x, y, angle)\n",
      "\u001b[0;31mNameError\u001b[0m: name 'speed' is not defined"
     ]
    }
   ],
   "source": [
    "dynamic_simulation_2(speed, acc, x, y, angle)"
   ]
  },
  {
   "cell_type": "code",
   "execution_count": 9,
   "metadata": {
    "jupyter": {
     "source_hidden": true
    },
    "scrolled": true
   },
   "outputs": [],
   "source": [
    "def dynamic_simulation():\n",
    "    %matplotlib\n",
    "    plt.ion()\n",
    "    fig, ax = plt.subplots(2, 2, figsize=(30, 20))\n",
    "    all_variables = []\n",
    "    speed = []\n",
    "    acc = []\n",
    "    x = []\n",
    "    y = []\n",
    "    angle = []\n",
    "    traci.start([\"sumo\", \"-c\", \"osm.sumocfg\"])\n",
    "    while traci.simulation.getMinExpectedNumber() > 0:\n",
    "        for veh_id in traci.simulation.getDepartedIDList():\n",
    "            traci.vehicle.subscribe(veh_id, [tc.VAR_POSITION, tc.VAR_SPEED, tc.VAR_ACCELERATION, tc.VAR_DEPARTURE, tc.VAR_ANGLE])\n",
    "        variables = traci.vehicle.getAllSubscriptionResults()\n",
    "        all_variables.append(variables.copy())\n",
    "        time = np.arange(0, len(all_variables), 1.0)\n",
    "        \n",
    "        if variables:\n",
    "            speed.append(variables[vehID][SPEED])\n",
    "            acc.append(variables[vehID][ACCELERATION])\n",
    "            x.append(variables[vehID][POSITION][0])\n",
    "            y.append(variables[vehID][POSITION][1])\n",
    "            angle.append(variables[vehID][ANGLE])\n",
    "            ax[0,0].clear()\n",
    "            ax[0,0].plot(time, speed, label='Speed', color='b')\n",
    "            ax[0,0].set_xlabel('Exec Time')\n",
    "            ax[0,0].set_ylabel('Speed')\n",
    "            ax[0,0].legend()\n",
    "            \n",
    "            ax[0,1].clear()\n",
    "            ax[0,1].plot(time, acc, label='Acceleration', color='r')\n",
    "            ax[0,1].set_xlabel('Exec Time')\n",
    "            ax[0,1].set_ylabel('Acceleration')\n",
    "            ax[0,1].legend()\n",
    "\n",
    "            ax[1,0].clear()\n",
    "            ax[1,0].plot(time, angle, label='Angle', color='g')\n",
    "            ax[1,0].set_xlabel('Exec Time')\n",
    "            ax[1,0].set_ylabel('Angle')\n",
    "            ax[1,0].legend()\n",
    "\n",
    "            ax[1,1].clear()\n",
    "            ax[1,1].plot(x, y, label='Position', color='y')\n",
    "            ax[1,1].set_xlim(0, 1600)\n",
    "            ax[1,1].set_ylim(0, 1900)\n",
    "            ax[1,1].set_xlabel('X pos')\n",
    "            ax[1,1].set_ylabel('Y pos')\n",
    "            ax[1,1].legend()\n",
    "            \n",
    "            plt.draw()\n",
    "            plt.pause(0.01)\n",
    "        else:\n",
    "            speed.append(0)\n",
    "            acc.append(0)\n",
    "            angle.append(0)\n",
    "\n",
    "        traci.simulationStep()\n",
    "    traci.close()\n",
    "    plt.ioff()\n",
    "    plt.show()"
   ]
  }
 ],
 "metadata": {
  "kernelspec": {
   "display_name": "Python 3",
   "language": "python",
   "name": "python3"
  },
  "language_info": {
   "codemirror_mode": {
    "name": "ipython",
    "version": 3
   },
   "file_extension": ".py",
   "mimetype": "text/x-python",
   "name": "python",
   "nbconvert_exporter": "python",
   "pygments_lexer": "ipython3",
   "version": "3.10.12"
  }
 },
 "nbformat": 4,
 "nbformat_minor": 4
}
