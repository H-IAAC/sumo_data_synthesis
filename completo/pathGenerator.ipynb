{
 "cells": [
  {
   "cell_type": "code",
   "execution_count": 1,
   "metadata": {},
   "outputs": [],
   "source": [
    "import os\n",
    "import sys\n",
    "import json\n",
    "if 'SUMO_HOME' in os.environ:\n",
    "    sys.path.append(os.path.join(os.environ['SUMO_HOME'], 'tools'))\n",
    "import sumolib\n",
    "import importlib\n",
    "import LLAMAconnect"
   ]
  },
  {
   "cell_type": "code",
   "execution_count": 30,
   "metadata": {},
   "outputs": [],
   "source": [
    "# Latitude e longitude de locais de interesse\n",
    "coords = {\n",
    "    \"IC\": (-22.813344, -47.063667),\n",
    "    \"FEEC\": (-22.820788, -47.066489),\n",
    "    \"HOME\": (-22.823781, -47.074111),\n",
    "    \"RU\": (-22.817327, -47.071338)\n",
    "}"
   ]
  },
  {
   "cell_type": "code",
   "execution_count": 31,
   "metadata": {},
   "outputs": [],
   "source": [
    "net = sumolib.net.readNet('osm.net.xml')\n",
    "radius = 20\n",
    "parkingAreas = list(sumolib.output.parse('osm_stops.add.xml', \"parkingArea\"))"
   ]
  },
  {
   "cell_type": "code",
   "execution_count": 32,
   "metadata": {},
   "outputs": [],
   "source": [
    "def has_parking_spot(lanes, parkingAreas):\n",
    "    # Example of parkingArea:\n",
    "    # <parkingArea id=\"pa-1046248579#0\" lane=\"-1046248579#0_0\" roadsideCapacity=\"94\" length=\"5.00\"/>\n",
    "    # Returns parkingArea id if there is a parking spot in the lane\n",
    "    lane_ids = [lane.getID() for lane in lanes]\n",
    "    for park in parkingAreas:\n",
    "        if park.lane in lane_ids:\n",
    "            return park.id\n",
    "    return False"
   ]
  },
  {
   "cell_type": "code",
   "execution_count": 33,
   "metadata": {},
   "outputs": [],
   "source": [
    "def getClosestEdges(lat, lon, radius):\n",
    "    # Gets the 10 closest edges to the given lat, lon\n",
    "    x, y = net.convertLonLat2XY(lon, lat)\n",
    "    edges = net.getNeighboringEdges(x, y, radius)\n",
    "    if (len(edges) > 0):\n",
    "        distanceAndEdges = sorted([(dist, edge) for edge, dist in edges], key=lambda x:x[0])\n",
    "        closestEdges = [x[1] for x in distanceAndEdges[:10]]\n",
    "    \n",
    "    return closestEdges"
   ]
  },
  {
   "cell_type": "code",
   "execution_count": 41,
   "metadata": {},
   "outputs": [],
   "source": [
    "def getParkingSpot(lat, lon, radius, parkingAreas):\n",
    "    # Get the parking spot closest to the given lat, lon\n",
    "    # Used to set stops for the vehicles\n",
    "\n",
    "    edges = getClosestEdges(lat, lon, radius)\n",
    "    # Look for parking spots\n",
    "    for i in range(len(edges)):\n",
    "        parking_spot = has_parking_spot(edges[i].getLanes(), parkingAreas)\n",
    "        if parking_spot:\n",
    "            return parking_spot\n",
    "\n",
    "    print(\"No parking spot found\")\n",
    "    return None"
   ]
  },
  {
   "cell_type": "code",
   "execution_count": 35,
   "metadata": {},
   "outputs": [],
   "source": [
    "def getPath(location_time_list, parkingAreas):\n",
    "    # All that is needed to create the trip are the stops (parking areas) and the start and end edges.\n",
    "    # The duarouter is responsible for finding the path between the edges going through the stops.\n",
    "    # Here, we get the edges and stops that are going to be sent to LLAMA to create the trip.\n",
    "\n",
    "    # 'coordinates' is a list of tuples with the latitude and longitude of the points of interest, for example IC, FEEC, IC means that\n",
    "    # the vehicle will start from IC, stop at a parking lot close to FEEC, and then back to IC.\n",
    "    # The first and last coordinates should be edges and the others should be parking spots.\n",
    "\n",
    "    # Departure for 7 is 0, 8 is 100, 9 is 200 and so on\n",
    "    stop_durations = []\n",
    "    departures = list(location_time_list.keys())\n",
    "    stop_durations.append(-1) # Indicates this is an edge and not a parking spot\n",
    "\n",
    "    path = []\n",
    "    locations = list(location_time_list.values())\n",
    "    home = getClosestEdges(*locations[0], radius)[0].getID()\n",
    "    path.append(home) \n",
    "    \n",
    "    for i in range(1, len(locations)-1):\n",
    "        stop_durations.append(100 * (departures[i] - departures[i - 1]))\n",
    "        path.append(getParkingSpot(*locations[i], radius, parkingAreas))\n",
    "    \n",
    "    path.append(home)\n",
    "    stop_durations.append(-1)\n",
    "    \n",
    "    return path, stop_durations"
   ]
  },
  {
   "cell_type": "code",
   "execution_count": 36,
   "metadata": {},
   "outputs": [],
   "source": [
    "def pathToXML(path, vehicleID, departure_time, stop_durations):\n",
    "    # Converts the path to the XML format that LLAMA understands\n",
    "    xml = f'<trip id=\"{vehicleID}\" depart=\"{departure_time}\" from=\"{path[0]}\" to=\"{path[-1]}\">\\n'\n",
    "    for i in range(1, len(path)-1):\n",
    "        xml += f'\\t<stop parkingArea=\"{path[i]}\" duration=\"{stop_durations[i]}\"/>\\n'\n",
    "    xml += '</trip>'\n",
    "    return xml"
   ]
  },
  {
   "cell_type": "markdown",
   "metadata": {},
   "source": [
    "Getting the routine for the student described"
   ]
  },
  {
   "cell_type": "code",
   "execution_count": 37,
   "metadata": {},
   "outputs": [
    {
     "name": "stdout",
     "output_type": "stream",
     "text": [
      "{\n",
      "   \"7\": {\"location\": \"HOME\", \"activity\": \"wake up\"},\n",
      "   \"8\": {\"location\": \"FEEC\", \"activity\": \"class\"},\n",
      "   \"9\": {\"location\": \"FEEC\", \"activity\": \"class\"},\n",
      "   \"10\": {\"location\": \"FEEC\", \"activity\": \"class\"},\n",
      "   \"11\": {\"location\": \"FEEC\", \"activity\": \"class\"},\n",
      "   \"12\": {\"location\": \"RU\", \"activity\": \"lunch\"},\n",
      "   \"13\": {\"location\": \"FEEC\", \"activity\": \"class\"},\n",
      "   \"14\": {\"location\": \"IC\", \"activity\": \"class\"},\n",
      "   \"15\": {\"location\": \"IC\", \"activity\": \"class\"},\n",
      "   \"16\": {\"location\": \"IC\", \"activity\": \"class\"},\n",
      "   \"17\": {\"location\": \"IC\", \"activity\": \"class\"},\n",
      "   \"18\": {\"location\": \"RU\", \"activity\": \"dinner\"},\n",
      "   \"19\": {\"location\": \"HOME\", \"activity\": \"relax\"},\n",
      "   \"20\": {\"location\": \"HOME\", \"activity\": \"relax\"}\n",
      "}\n"
     ]
    }
   ],
   "source": [
    "student_info = \"Computer Engineering student. He has most classes at FEEC and IC and has luch at RU and dinner at RU. The student is never late to classes. The student lives close to the university and likes to relax at home whenever possible. The student starts and ends his day at home\"\n",
    "importlib.reload(LLAMAconnect)\n",
    "response = LLAMAconnect.getResponse_trip(student_info)\n",
    "json_response = json.loads(response)\n",
    "print(response)"
   ]
  },
  {
   "cell_type": "markdown",
   "metadata": {},
   "source": [
    "Getting the latitude and longitude for each of the locations\n",
    "\n",
    "TO DO - If a trip or flow defines at least one stop as child element, the attributes 'from' and 'to' may be omitted. "
   ]
  },
  {
   "cell_type": "code",
   "execution_count": 45,
   "metadata": {},
   "outputs": [
    {
     "name": "stdout",
     "output_type": "stream",
     "text": [
      "{7: (-22.823781, -47.074111), 8: (-22.820788, -47.066489), 12: (-22.817327, -47.071338), 13: (-22.820788, -47.066489), 14: (-22.813344, -47.063667), 18: (-22.817327, -47.071338), 19: (-22.823781, -47.074111)}\n"
     ]
    }
   ],
   "source": [
    "location_time_list= {}\n",
    "last = coords[json_response[f'{7}']['location']]\n",
    "location_time_list[7] = last\n",
    "for i in range(1, len(json_response)):\n",
    "    local = coords[json_response[f'{i + 7}']['location']]\n",
    "    if local != last:\n",
    "        location_time_list[i + 7] = local\n",
    "        last = local\n",
    "\n",
    "print(location_time_list)"
   ]
  },
  {
   "cell_type": "markdown",
   "metadata": {},
   "source": [
    "Taking the locations and turning them into a XML trip"
   ]
  },
  {
   "cell_type": "code",
   "execution_count": 46,
   "metadata": {},
   "outputs": [
    {
     "name": "stdout",
     "output_type": "stream",
     "text": [
      "['563505734#2', 'pa693637406#7', 'pa72508815#14', 'pa693637406#7', 'pa75701374#0', 'pa72508815#14', '563505734#2']\n",
      "<trip id=\"vehicle1\" depart=\"0\" from=\"563505734#2\" to=\"563505734#2\">\n",
      "\t<stop parkingArea=\"pa693637406#7\" duration=\"100\"/>\n",
      "\t<stop parkingArea=\"pa72508815#14\" duration=\"400\"/>\n",
      "\t<stop parkingArea=\"pa693637406#7\" duration=\"100\"/>\n",
      "\t<stop parkingArea=\"pa75701374#0\" duration=\"100\"/>\n",
      "\t<stop parkingArea=\"pa72508815#14\" duration=\"400\"/>\n",
      "</trip>\n"
     ]
    }
   ],
   "source": [
    "path, stop_durations = getPath(location_time_list, parkingAreas)\n",
    "xml = pathToXML(path, \"vehicle1\", 0, stop_durations)\n",
    "print(path)\n",
    "print(xml)"
   ]
  },
  {
   "cell_type": "code",
   "execution_count": 52,
   "metadata": {},
   "outputs": [
    {
     "name": "stdout",
     "output_type": "stream",
     "text": [
      "```\n",
      "{\n",
      "  \"trip\": {\n",
      "    \"id\": \"veh_1\",\n",
      "    \"type\": \"veh_passenger\",\n",
      "    \"depart\": \"10\",\n",
      "    \"from\": \"FEEC\",\n",
      "    \"to\": \"FEEC\",\n",
      "    \"stop\": [\n",
      "      {\n",
      "        \"parkingArea\": \"pa75701374#0\",\n",
      "        \"duration\": \"100\"\n",
      "      }\n",
      "    ]\n",
      "  }\n",
      "}\n",
      "```\n"
     ]
    }
   ],
   "source": [
    "# Trying to get response from LLAMA, but it's not working properly\n",
    "response = LLAMAconnect.getResponse_xml(path, \"veh_1\", 10, 100)\n",
    "print(response)"
   ]
  },
  {
   "cell_type": "code",
   "execution_count": null,
   "metadata": {},
   "outputs": [],
   "source": []
  }
 ],
 "metadata": {
  "kernelspec": {
   "display_name": "Python 3",
   "language": "python",
   "name": "python3"
  },
  "language_info": {
   "codemirror_mode": {
    "name": "ipython",
    "version": 3
   },
   "file_extension": ".py",
   "mimetype": "text/x-python",
   "name": "python",
   "nbconvert_exporter": "python",
   "pygments_lexer": "ipython3",
   "version": "3.10.12"
  }
 },
 "nbformat": 4,
 "nbformat_minor": 2
}
