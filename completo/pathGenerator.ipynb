{
 "cells": [
  {
   "cell_type": "code",
   "execution_count": 47,
   "metadata": {},
   "outputs": [],
   "source": [
    "import os\n",
    "import sys\n",
    "import json\n",
    "if 'SUMO_HOME' in os.environ:\n",
    "    sys.path.append(os.path.join(os.environ['SUMO_HOME'], 'tools'))\n",
    "import sumolib\n",
    "import importlib\n",
    "import LLAMAconnect\n"
   ]
  },
  {
   "cell_type": "code",
   "execution_count": 64,
   "metadata": {},
   "outputs": [],
   "source": [
    "# Latitude e longitude de locais de interesse\n",
    "IC = (-22.813344, -47.063667)\n",
    "FEEC = (-22.820788, -47.066489)\n",
    "HOME = (-22.823781, -47.074111)"
   ]
  },
  {
   "cell_type": "code",
   "execution_count": 49,
   "metadata": {},
   "outputs": [],
   "source": [
    "net = sumolib.net.readNet('osm.net.xml')\n",
    "radius = 20\n",
    "parkingAreas = list(sumolib.output.parse('osm_stops.add.xml', \"parkingArea\"))"
   ]
  },
  {
   "cell_type": "code",
   "execution_count": 50,
   "metadata": {},
   "outputs": [],
   "source": [
    "def has_parking_spot(lanes, parkingAreas):\n",
    "    # Example of parkingArea:\n",
    "    # <parkingArea id=\"pa-1046248579#0\" lane=\"-1046248579#0_0\" roadsideCapacity=\"94\" length=\"5.00\"/>\n",
    "    # Returns parkingArea id if there is a parking spot in the lane\n",
    "    lane_ids = [lane.getID() for lane in lanes]\n",
    "    for park in parkingAreas:\n",
    "        if park.lane in lane_ids:\n",
    "            return park.id\n",
    "    return False"
   ]
  },
  {
   "cell_type": "code",
   "execution_count": 51,
   "metadata": {},
   "outputs": [],
   "source": [
    "def getClosestEdges(lat, lon, radius):\n",
    "    # Gets the 10 closest edges to the given lat, lon\n",
    "    x, y = net.convertLonLat2XY(lon, lat)\n",
    "    edges = net.getNeighboringEdges(x, y, radius)\n",
    "    if (len(edges) > 0):\n",
    "        distanceAndEdges = sorted([(dist, edge) for edge, dist in edges], key=lambda x:x[0])\n",
    "        closestEdges = [x[1] for x in distanceAndEdges[:10]]\n",
    "    \n",
    "    return closestEdges"
   ]
  },
  {
   "cell_type": "code",
   "execution_count": 52,
   "metadata": {},
   "outputs": [],
   "source": [
    "def getParkingSpot(lat, lon, radius, parkingAreas):\n",
    "    # Get the parking spot closest to the given lat, lon\n",
    "    # Used to set stops for the vehicles\n",
    "\n",
    "    edges = getClosestEdges(lat, lon, radius)\n",
    "    # Look for parking spots\n",
    "    for i in range(len(edges)):\n",
    "        parking_spot = has_parking_spot(edges[i].getLanes(), parkingAreas)\n",
    "        return parking_spot\n",
    "\n",
    "    print(\"No parking spot found\")\n",
    "    return None"
   ]
  },
  {
   "cell_type": "code",
   "execution_count": 83,
   "metadata": {},
   "outputs": [],
   "source": [
    "def getPath(location_time_list, parkingAreas):\n",
    "    # All that is needed to create the trip are the stops (parking areas) and the start and end edges.\n",
    "    # The duarouter is responsible for finding the path between the edges going through the stops.\n",
    "    # Here, we get the edges and stops that are going to be sent to LLAMA to create the trip.\n",
    "\n",
    "    # 'coordinates' is a list of tuples with the latitude and longitude of the points of interest, for example IC, FEEC, IC means that\n",
    "    # the vehicle will start from IC, stop at a parking lot close to FEEC, and then back to IC.\n",
    "    # The first and last coordinates should be edges and the others should be parking spots.\n",
    "\n",
    "    # Departure for 7 is 0, 8 is 100, 9 is 200 and so on\n",
    "    stop_durations = []\n",
    "    departures = list(location_time_list.keys())\n",
    "    stop_durations.append(-1) # Indicates this is an edge and not a parking spot\n",
    "\n",
    "    path = []\n",
    "    locations = list(location_time_list.values())\n",
    "    home = getClosestEdges(*locations[0], radius)[0].getID()\n",
    "    path.append(home) \n",
    "    \n",
    "    for i in range(1, len(locations)-1):\n",
    "        stop_durations.append(100 * (departures[i] - departures[i - 1]))\n",
    "        path.append(getParkingSpot(*locations[i], radius, parkingAreas))\n",
    "    \n",
    "    path.append(home)\n",
    "    stop_durations.append(-1)\n",
    "    \n",
    "    return path, stop_durations"
   ]
  },
  {
   "cell_type": "code",
   "execution_count": 87,
   "metadata": {},
   "outputs": [],
   "source": [
    "def pathToXML(path, vehicleID, departure_time, stop_durations):\n",
    "    # Converts the path to the XML format that LLAMA understands\n",
    "    xml = f'<trip id=\"{vehicleID}\" depart=\"{departure_time}\" from=\"{path[0]}\" to=\"{path[-1]}\">\\n'\n",
    "    for i in range(1, len(path)-1):\n",
    "        xml += f'\\t<stop parkingArea=\"{path[i]}\" duration=\"{stop_durations[i]}\"/>\\n'\n",
    "    xml += '</trip>'\n",
    "    return xml"
   ]
  },
  {
   "cell_type": "code",
   "execution_count": 88,
   "metadata": {},
   "outputs": [
    {
     "name": "stdout",
     "output_type": "stream",
     "text": [
      "-22.823781 -47.074111\n"
     ]
    }
   ],
   "source": [
    "#TODO - Get the location_time_list from the LLM\n",
    "location_time_list = {7: HOME, 8: FEEC, 10: IC, 12: FEEC, 14:HOME} # Essas coordenadas virão da LLM em algum momento\n",
    "print(*list(location_time_list.values())[0])"
   ]
  },
  {
   "cell_type": "code",
   "execution_count": 92,
   "metadata": {},
   "outputs": [
    {
     "name": "stdout",
     "output_type": "stream",
     "text": [
      "['563505734#2', 'pa693637406#7', 'pa75701374#0', 'pa693637406#7', '563505734#2']\n",
      "<trip id=\"vehicle1\" depart=\"0\" from=\"563505734#2\" to=\"563505734#2\">\n",
      "\t<stop parkingArea=\"pa693637406#7\" duration=\"100\"/>\n",
      "\t<stop parkingArea=\"pa75701374#0\" duration=\"200\"/>\n",
      "\t<stop parkingArea=\"pa693637406#7\" duration=\"200\"/>\n",
      "</trip>\n"
     ]
    }
   ],
   "source": [
    "path, stop_durations = getPath(location_time_list, parkingAreas)\n",
    "xml = pathToXML(path, \"vehicle1\", 0, stop_durations)\n",
    "print(path)\n",
    "print(xml)"
   ]
  },
  {
   "cell_type": "code",
   "execution_count": 40,
   "metadata": {},
   "outputs": [
    {
     "name": "stdout",
     "output_type": "stream",
     "text": [
      "{\n",
      "   \"7\": {\"location\": \"HOME\", \"activity\": \"wake up\"},\n",
      "   \"8\": {\"location\": \"FCM\", \"activity\": \"class\"},\n",
      "   \"9\": {\"location\": \"FCM\", \"activity\": \"class\"},\n",
      "   \"10\": {\"location\": \"FCM\", \"activity\": \"class\"},\n",
      "   \"11\": {\"location\": \"FCM\", \"activity\": \"class\"},\n",
      "   \"12\": {\"location\": \"RU\", \"activity\": \"lunch\"},\n",
      "   \"13\": {\"location\": \"HOME\", \"activity\": \"relax\"},\n",
      "   \"14\": {\"location\": \"IB\", \"activity\": \"class\"},\n",
      "   \"15\": {\"location\": \"IB\", \"activity\": \"class\"},\n",
      "   \"16\": {\"location\": \"IB\", \"activity\": \"class\"},\n",
      "   \"17\": {\"location\": \"IB\", \"activity\": \"class\"},\n",
      "   \"18\": {\"location\": \"RS\", \"activity\": \"dinner\"},\n",
      "   \"19\": {\"location\": \"HOME\", \"activity\": \"relax\"},\n",
      "   \"20\": {\"location\": \"HOME\", \"activity\": \"sleep\"}\n",
      "}\n"
     ]
    }
   ],
   "source": [
    "student_info = \"Biology student. He has most classes at FCM and IB and has luch at RU and dinner at RS. The student is never late to classes. The student lives close to the university and likes to relax at home whenever possible. The student starts and ends his day at home\"\n",
    "importlib.reload(LLAMAconnect)\n",
    "response = LLAMAconnect.getResponse_trip(student_info)\n",
    "json_response = json.loads(response)\n",
    "print(response)"
   ]
  },
  {
   "cell_type": "code",
   "execution_count": 43,
   "metadata": {},
   "outputs": [
    {
     "name": "stdout",
     "output_type": "stream",
     "text": [
      "{7: 'HOME', 8: 'FCM', 12: 'RU', 13: 'HOME', 14: 'IB', 18: 'RS', 19: 'HOME'}\n"
     ]
    }
   ],
   "source": [
    "location_dict= {}\n",
    "last = json_response[f'{7}']['location']\n",
    "location_dict[7] = last\n",
    "for i in range(1, len(json_response)):\n",
    "    local = json_response[f'{i + 7}']['location']\n",
    "    if local != last:\n",
    "        location_dict[i + 7] = local\n",
    "        last = local\n",
    "\n",
    "print(location_dict)"
   ]
  },
  {
   "cell_type": "code",
   "execution_count": null,
   "metadata": {},
   "outputs": [],
   "source": []
  },
  {
   "cell_type": "code",
   "execution_count": 55,
   "metadata": {},
   "outputs": [
    {
     "name": "stdout",
     "output_type": "stream",
     "text": [
      "<pre><trip id='veh_1' type='veh_passenger' depart='10' departLane='best' from='FEEC' to='FEEC'> \n",
      "   <stop parkingArea='pa75701374#0' duration='100' />\n",
      "</trip></pre>\n"
     ]
    }
   ],
   "source": [
    "# Trying to get response from LLAMA, but it's not working properly\n",
    "response = LLAMAconnector.getResponse(path, \"veh_1\", 10, 100)\n",
    "print(response)"
   ]
  }
 ],
 "metadata": {
  "kernelspec": {
   "display_name": "Python 3",
   "language": "python",
   "name": "python3"
  },
  "language_info": {
   "codemirror_mode": {
    "name": "ipython",
    "version": 3
   },
   "file_extension": ".py",
   "mimetype": "text/x-python",
   "name": "python",
   "nbconvert_exporter": "python",
   "pygments_lexer": "ipython3",
   "version": "3.10.12"
  }
 },
 "nbformat": 4,
 "nbformat_minor": 2
}
