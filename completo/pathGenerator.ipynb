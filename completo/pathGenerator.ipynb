{
 "cells": [
  {
   "cell_type": "code",
   "execution_count": 1,
   "metadata": {},
   "outputs": [
    {
     "name": "stdout",
     "output_type": "stream",
     "text": [
      "Here is the planned routine for the Chemistry Engineering student:\n",
      "\n",
      "[\n",
      "  {time:'7:00', location:'home', activity:'preparing for classes' },\n",
      "  {time:'8:00', location:'FEQ', activity:'class' },\n",
      "  {time:'12:00', location:'RU', activity:'lunch' },\n",
      "  {time:'14:00', location:'FEQ', activity:'class' },\n",
      "  {time:'17:00', location:'IMECC', activity:'class' },\n",
      "  {time:'18:00', location:'RA', activity:'dinner' },\n",
      "  {time:'20:00', location:'home', activity:'relax' }\n",
      "]\n"
     ]
    }
   ],
   "source": [
    "import os\n",
    "import sys\n",
    "import json\n",
    "if 'SUMO_HOME' in os.environ:\n",
    "    sys.path.append(os.path.join(os.environ['SUMO_HOME'], 'tools'))\n",
    "import sumolib\n",
    "import LLAMAconnect"
   ]
  },
  {
   "cell_type": "code",
   "execution_count": 78,
   "metadata": {},
   "outputs": [],
   "source": [
    "# Latitude e longitude de locais de interesse\n",
    "IC = (-22.813344, -47.063667)\n",
    "FEEC = (-22.820788, -47.066489)"
   ]
  },
  {
   "cell_type": "code",
   "execution_count": 79,
   "metadata": {},
   "outputs": [],
   "source": [
    "net = sumolib.net.readNet('osm.net.xml')\n",
    "radius = 20\n",
    "parkingAreas = list(sumolib.output.parse('osm_stops.add.xml', \"parkingArea\"))"
   ]
  },
  {
   "cell_type": "code",
   "execution_count": 7,
   "metadata": {},
   "outputs": [],
   "source": [
    "def has_parking_spot(lanes, parkingAreas):\n",
    "    # Example of parkingArea:\n",
    "    # <parkingArea id=\"pa-1046248579#0\" lane=\"-1046248579#0_0\" roadsideCapacity=\"94\" length=\"5.00\"/>\n",
    "    # Returns parkingArea id if there is a parking spot in the lane\n",
    "    lane_ids = [lane.getID() for lane in lanes]\n",
    "    for park in parkingAreas:\n",
    "        if park.lane in lane_ids:\n",
    "            return park.id\n",
    "    return False"
   ]
  },
  {
   "cell_type": "code",
   "execution_count": 8,
   "metadata": {},
   "outputs": [],
   "source": [
    "def getClosestEdges(lat, lon, radius):\n",
    "    # Gets the 10 closest edges to the given lat, lon\n",
    "    x, y = net.convertLonLat2XY(lon, lat)\n",
    "    edges = net.getNeighboringEdges(x, y, radius)\n",
    "    if (len(edges) > 0):\n",
    "        distanceAndEdges = sorted([(dist, edge) for edge, dist in edges], key=lambda x:x[0])\n",
    "        closestEdges = [x[1] for x in distanceAndEdges[:10]]\n",
    "    \n",
    "    return closestEdges"
   ]
  },
  {
   "cell_type": "code",
   "execution_count": 9,
   "metadata": {},
   "outputs": [],
   "source": [
    "def getParkingSpot(lat, lon, radius, parkingAreas):\n",
    "    # Get the parking spot closest to the given lat, lon\n",
    "    # Used to set stops for the vehicles\n",
    "\n",
    "    edges = getClosestEdges(lat, lon, radius)\n",
    "    # Look for parking spots\n",
    "    for i in range(len(edges)):\n",
    "        parking_spot = has_parking_spot(edges[i].getLanes(), parkingAreas)\n",
    "        return parking_spot\n",
    "\n",
    "    print(\"No parking spot found\")\n",
    "    return None"
   ]
  },
  {
   "cell_type": "code",
   "execution_count": 10,
   "metadata": {},
   "outputs": [],
   "source": [
    "def getPath(coordinates, parkingAreas):\n",
    "    # All that is needed to create the trip are the stops (parking areas) and the start and end edges.\n",
    "    # The duarouter is responsible for finding the path between the edges going through the stops.\n",
    "    # Here, we get the edges and stops that are going to be sent to LLAMA to create the trip.\n",
    "\n",
    "    # 'coordinates' is a list of tuples with the latitude and longitude of the points of interest, for example IC, FEEC, IC means that\n",
    "    # the vehicle will start from IC, stop at a parking lot close to FEEC, and then back to IC.\n",
    "    # The first and last coordinates should be edges and the others should be parking spots.\n",
    "    path = []\n",
    "    path.append(getClosestEdges(*coordinates[0], radius)[0].getID())\n",
    "    for i in range(1, len(coordinates)-1):\n",
    "        path.append(getParkingSpot(*coordinates[i], radius, parkingAreas))\n",
    "    path.append(getClosestEdges(*coordinates[-1], radius)[0].getID())\n",
    "    return path"
   ]
  },
  {
   "cell_type": "code",
   "execution_count": 56,
   "metadata": {},
   "outputs": [],
   "source": [
    "def pathToXML(path, vehicleID, departure_time, stop_duration):\n",
    "    # Converts the path to the XML format that LLAMA understands\n",
    "    xml = f'<trip id=\"{vehicleID}\" depart=\"{departure_time}\" from=\"{path[0]}\" to=\"{path[-1]}\">\\n'\n",
    "    for stop in path[1:-1]:\n",
    "        xml += f'\\t<stop parkingArea=\"{stop}\" duration=\"{stop_duration}\"/>\\n'\n",
    "    xml += '</trip>'\n",
    "    return xml"
   ]
  },
  {
   "cell_type": "code",
   "execution_count": 62,
   "metadata": {},
   "outputs": [
    {
     "name": "stdout",
     "output_type": "stream",
     "text": [
      "<trip id=\"vehicle1\" depart=\"10\" from=\"FEEC\" to=\"FEEC\">\n",
      "\t<stop parkingArea=\"pa75701374#0\" duration=\"100\"/>\n",
      "</trip>\n"
     ]
    }
   ],
   "source": [
    "coordinates = [FEEC, IC, FEEC] # Essas coordenadas virão da LLM em algum momento\n",
    "path = getPath(coordinates, parkingAreas)\n",
    "xml = pathToXML(path, \"vehicle1\", 10, 100)\n",
    "print(xml)"
   ]
  },
  {
   "cell_type": "code",
   "execution_count": 8,
   "metadata": {},
   "outputs": [
    {
     "name": "stdout",
     "output_type": "stream",
     "text": [
      "Here is the planned routine for the Chemistry Engineering student:\n",
      "\n",
      "[\n",
      "  {time:'7:00', location:'home', activity:'preparing for classes' },\n",
      "  {time:'8:00', location:'FEQ', activity:'class' },\n",
      "  {time:'12:00', location:'RU', activity:'lunch' },\n",
      "  {time:'14:00', location:'FEQ', activity:'class' },\n",
      "  {time:'17:00', location:'IMECC', activity:'class' },\n",
      "  {time:'18:00', location:'RA', activity:'dinner' },\n",
      "  {time:'20:00', location:'home', activity:'relax' }\n",
      "]\n"
     ]
    }
   ],
   "source": [
    "student_info = \"Chemistry Engineering student. He has most classes at FEQ and has luch at RU and dinner at RA. Today is monday. The student starts and ends his day at home\"\n",
    "response = LLAMAconnect.getResponse_trip(student_info)\n",
    "print(response)"
   ]
  },
  {
   "cell_type": "code",
   "execution_count": 5,
   "metadata": {},
   "outputs": [
    {
     "name": "stdout",
     "output_type": "stream",
     "text": [
      "time:'8:00', location:'FEQ', activity:'class' },\n",
      "  \n"
     ]
    }
   ],
   "source": [
    "print(response.split(\"{\")[2])"
   ]
  },
  {
   "cell_type": "code",
   "execution_count": 55,
   "metadata": {},
   "outputs": [
    {
     "name": "stdout",
     "output_type": "stream",
     "text": [
      "<pre><trip id='veh_1' type='veh_passenger' depart='10' departLane='best' from='FEEC' to='FEEC'> \n",
      "   <stop parkingArea='pa75701374#0' duration='100' />\n",
      "</trip></pre>\n"
     ]
    }
   ],
   "source": [
    "# Trying to get response from LLAMA, but it's not working properly\n",
    "response = LLAMAconnector.getResponse(path, \"veh_1\", 10, 100)\n",
    "print(response)"
   ]
  }
 ],
 "metadata": {
  "kernelspec": {
   "display_name": "Python 3",
   "language": "python",
   "name": "python3"
  },
  "language_info": {
   "codemirror_mode": {
    "name": "ipython",
    "version": 3
   },
   "file_extension": ".py",
   "mimetype": "text/x-python",
   "name": "python",
   "nbconvert_exporter": "python",
   "pygments_lexer": "ipython3",
   "version": "3.10.12"
  }
 },
 "nbformat": 4,
 "nbformat_minor": 2
}
