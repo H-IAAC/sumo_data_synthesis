{
 "cells": [
  {
   "cell_type": "code",
   "execution_count": 9,
   "metadata": {},
   "outputs": [],
   "source": [
    "import os\n",
    "import sys\n",
    "import json\n",
    "if 'SUMO_HOME' in os.environ:\n",
    "    sys.path.append(os.path.join(os.environ['SUMO_HOME'], 'tools'))\n",
    "import sumolib\n",
    "import GoogleMapsGeocoding as gmaps\n",
    "import importlib\n",
    "import LLAMAconnect\n",
    "import subprocess\n",
    "import shutil\n",
    "from pprint import pprint\n",
    "import random\n",
    "import vehParameters"
   ]
  },
  {
   "cell_type": "code",
   "execution_count": 10,
   "metadata": {},
   "outputs": [],
   "source": [
    "net_path = 'osm.net.xml'\n",
    "add_path = 'osm_stops.add.xml'\n",
    "net = sumolib.net.readNet(net_path)\n",
    "parkingAreas = list(sumolib.output.parse(add_path, \"parkingArea\"))"
   ]
  },
  {
   "cell_type": "code",
   "execution_count": 11,
   "metadata": {},
   "outputs": [],
   "source": [
    "radius = 150"
   ]
  },
  {
   "cell_type": "code",
   "execution_count": 12,
   "metadata": {},
   "outputs": [],
   "source": [
    "def has_parking_spot(lanes, parkingAreas):\n",
    "    # Example of parkingArea:\n",
    "    # <parkingArea id=\"pa-1046248579#0\" lane=\"-1046248579#0_0\" roadsideCapacity=\"94\" length=\"5.00\"/>\n",
    "    # Returns parkingArea id if there is a parking spot in the lane\n",
    "    lane_ids = [lane.getID() for lane in lanes]\n",
    "    for park in parkingAreas:\n",
    "        if park.lane in lane_ids:\n",
    "            return park.id\n",
    "    return False"
   ]
  },
  {
   "cell_type": "code",
   "execution_count": 13,
   "metadata": {},
   "outputs": [],
   "source": [
    "def getClosestEdges(lat, lon, radius, maxEdges=10):\n",
    "    # Gets the 10 closest edges to the given lat, lon\n",
    "    x, y = net.convertLonLat2XY(lon, lat)\n",
    "    edges = net.getNeighboringEdges(x, y, radius)\n",
    "    closestEdges = []\n",
    "    if (len(edges) > 0):\n",
    "        distanceAndEdges = sorted([(dist, edge) for edge, dist in edges], key=lambda x:x[0])\n",
    "\n",
    "        ## Checking if the edge found can be used by passenger car\n",
    "        for dist, edge in distanceAndEdges:\n",
    "            if edge.allows('passenger'):\n",
    "                closestEdges.append(edge)\n",
    "\n",
    "    if len(edges) == 0:\n",
    "        print(f'No edges found for {lat}, {lon}')\n",
    "    return closestEdges"
   ]
  },
  {
   "cell_type": "code",
   "execution_count": 14,
   "metadata": {},
   "outputs": [],
   "source": [
    "def getParkingSpot(lat, lon, radius, parkingAreas):\n",
    "    # Get the parking spot closest to the given lat, lon\n",
    "    # Used to set stops for the vehicles\n",
    "\n",
    "    edges = getClosestEdges(lat, lon, radius)\n",
    "    # Look for parking spots\n",
    "    for i in range(len(edges)):\n",
    "        parking_spot = has_parking_spot(edges[i].getLanes(), parkingAreas)\n",
    "        if parking_spot:\n",
    "            return parking_spot\n",
    "    print(\"No parking spot found:\", lat, lon)\n",
    "    return None"
   ]
  },
  {
   "cell_type": "code",
   "execution_count": 15,
   "metadata": {},
   "outputs": [],
   "source": [
    "def getPath(location_time_list, parkingAreas):\n",
    "    # All that is needed to create the trip are the stops (parking areas) and the start and end edges.\n",
    "    # The duarouter is responsible for finding the path between the edges going through the stops.\n",
    "    # Here, we get the edges and stops that are going to be sent to LLAMA to create the trip.\n",
    "\n",
    "    # 'coordinates' is a list of tuples with the latitude and longitude of the points of interest, for example IC, FEEC, IC means that\n",
    "    # the vehicle will start from IC, stop at a parking lot close to FEEC, and then back to IC.\n",
    "    # The first and last coordinates should be edges and the others should be parking spots.\n",
    "\n",
    "    # Departure for 7 is 0, 8 is 100, 9 is 200 and so on\n",
    "    stop_durations = []\n",
    "    departures = list(location_time_list.keys())\n",
    "    stop_durations.append(-1) # Indicates this is an edge and not a parking spot\n",
    "\n",
    "    path = []\n",
    "    locations = list(location_time_list.values())\n",
    "    home = getClosestEdges(*locations[0], radius)[0].getID()\n",
    "    path.append(home)\n",
    "    \n",
    "    for i in range(1, len(locations)-1):\n",
    "        stop_durations.append(100 * (departures[i] - departures[i - 1]))\n",
    "        path.append(getParkingSpot(*locations[i], radius, parkingAreas))\n",
    "    \n",
    "    path.append(home)\n",
    "    stop_durations.append(-1)\n",
    "    \n",
    "    return path, stop_durations"
   ]
  },
  {
   "cell_type": "code",
   "execution_count": 16,
   "metadata": {},
   "outputs": [],
   "source": [
    "def pathToXML(path, vehicleID, veh_type, departure_time, stop_durations):\n",
    "    # Converts the path to the XML format that LLAMA understands\n",
    "    xml = f'<trip id=\"{vehicleID}\" type=\"{veh_type}\" depart=\"{departure_time}\" from=\"{path[0]}\" to=\"{path[-1]}\">\\n'\n",
    "    for i in range(1, len(path)-1):\n",
    "        xml += f'\\t<stop parkingArea=\"{path[i]}\" duration=\"{stop_durations[i]}\"/>\\n'\n",
    "    xml += '</trip>'\n",
    "    return xml"
   ]
  },
  {
   "cell_type": "markdown",
   "metadata": {},
   "source": [
    "Getting the routine for the students described"
   ]
  },
  {
   "cell_type": "code",
   "execution_count": 32,
   "metadata": {},
   "outputs": [
    {
     "name": "stderr",
     "output_type": "stream",
     "text": [
      " 20%|██        | 1/5 [00:00<00:02,  1.80it/s]"
     ]
    },
    {
     "name": "stdout",
     "output_type": "stream",
     "text": [
      "Error: Invalid location generated 'leisure'\n",
      "Invalid response. Generating a new one.\n"
     ]
    },
    {
     "name": "stderr",
     "output_type": "stream",
     "text": [
      " 40%|████      | 2/5 [00:01<00:02,  1.10it/s]"
     ]
    },
    {
     "name": "stdout",
     "output_type": "stream",
     "text": [
      "Error: The response is missing some hours\n",
      "Invalid response. Generating a new one.\n",
      "Error: Invalid location generated 'Institute of Geography and Human Sciences'\n",
      "Invalid response. Generating a new one.\n"
     ]
    },
    {
     "name": "stderr",
     "output_type": "stream",
     "text": [
      " 60%|██████    | 3/5 [00:03<00:02,  1.22s/it]"
     ]
    },
    {
     "name": "stdout",
     "output_type": "stream",
     "text": [
      "Error: Invalid location generated 'Institute of Geography and Human Sciences'\n",
      "Invalid response. Generating a new one.\n",
      "Error: Invalid location generated 'Institute of Geography and Human Sciences'\n",
      "Invalid response. Generating a new one.\n"
     ]
    },
    {
     "name": "stderr",
     "output_type": "stream",
     "text": [
      " 80%|████████  | 4/5 [00:05<00:01,  1.57s/it]"
     ]
    },
    {
     "name": "stdout",
     "output_type": "stream",
     "text": [
      "Error: Invalid location generated 'leaure'\n",
      "Invalid response. Generating a new one.\n"
     ]
    },
    {
     "name": "stderr",
     "output_type": "stream",
     "text": [
      "100%|██████████| 5/5 [00:06<00:00,  1.32s/it]"
     ]
    },
    {
     "name": "stdout",
     "output_type": "stream",
     "text": [
      "{'10': {'activity': 'study', 'location': 'Institute of Geociences'},\n",
      " '11': {'activity': 'study', 'location': 'Institute of Geociences'},\n",
      " '12': {'activity': 'lunch', 'location': 'restaurant'},\n",
      " '13': {'activity': 'leisure', 'location': 'restaurant'},\n",
      " '14': {'activity': 'shopping', 'location': 'supermarket'},\n",
      " '15': {'activity': 'shopping', 'location': 'supermarket'},\n",
      " '16': {'activity': 'shopping', 'location': 'supermarket'},\n",
      " '17': {'activity': 'study', 'location': 'Institute of Geociences'},\n",
      " '18': {'activity': 'dinner', 'location': 'restaurant'},\n",
      " '19': {'activity': 'leisure', 'location': 'home'},\n",
      " '20': {'activity': 'practice sports', 'location': 'gym'},\n",
      " '21': {'activity': 'leisure', 'location': 'home'},\n",
      " '22': {'activity': 'leisure', 'location': 'home'},\n",
      " '23': {'activity': 'sleep', 'location': 'home'},\n",
      " '7': {'activity': 'wake up', 'location': 'home'},\n",
      " '8': {'activity': 'study', 'location': 'Institute of Geociences'},\n",
      " '9': {'activity': 'study', 'location': 'Institute of Geociences'}}\n"
     ]
    },
    {
     "name": "stderr",
     "output_type": "stream",
     "text": [
      "\n"
     ]
    }
   ],
   "source": [
    "# It is important not to use short names of institutes, like IB for institute of biology, because the LLM will not be able to assign the students to the correct institute.\n",
    "places ={\n",
    "    'leisure': [\"bar\", \"movie_theater\", \"shopping_mall\"],\n",
    "    'eating': [\"restaurant\", \"bakery\", \"cafe\"],\n",
    "    'shopping': [\"store\", \"drugstore\", \"supermarket\"],\n",
    "    'sports': [\"gym\"],\n",
    "    'institute': [\"Institute of Biology\", \"Institute of Computing\", \"Institute of Geociences\", \"Institute of Philosophy and Human Sciences\", \"Institute of Chemistry\"],\n",
    "    'university': [\"University of Campinas\"],\n",
    "}\n",
    "\n",
    "student_info = \"The student is geography student. Today, the student is going to have lunch at a restaurant and the student is going to the supermarket.\"\n",
    "importlib.reload(LLAMAconnect)\n",
    "responses = LLAMAconnect.generate_response_trips(student_info, places, number_of_trips=5) # number of trips defaults to 5\n",
    "pprint(json.loads(responses[0]))"
   ]
  },
  {
   "cell_type": "markdown",
   "metadata": {},
   "source": [
    "Generating different houses for students based on a random number generator in the where students might live"
   ]
  },
  {
   "cell_type": "code",
   "execution_count": 64,
   "metadata": {},
   "outputs": [],
   "source": [
    "def flush_print():\n",
    "    sys.stdout.write(\"\\r\")  # Move the cursor to the beginning of the line\n",
    "    sys.stdout.write(\" \" * 50)  # Overwrite with spaces to clear the line\n",
    "    sys.stdout.write(\"\\r\")  # Move back to the beginning again"
   ]
  },
  {
   "cell_type": "code",
   "execution_count": 34,
   "metadata": {},
   "outputs": [],
   "source": [
    "def getHome():\n",
    "    # top right -22.815539, -47.076272\n",
    "    # top left: -22.818517, -47.079520\n",
    "    # bottom left: -22.826410, -47.072591\n",
    "    # bottom right: -22.823439, -47.068828\n",
    "    X_MIN = 22815539\n",
    "    X_MAX = 22826410\n",
    "    Y_MIN = 47068828\n",
    "    Y_MAX = 47079520\n",
    "    while True:\n",
    "        random_x = random.randint(X_MIN, X_MAX)\n",
    "        random_y = random.randint(Y_MIN, Y_MAX)\n",
    "        lat = - random_x / 10**6\n",
    "        lon = - random_y / 10**6\n",
    "        if (lat, lon) in coords.values():\n",
    "            continue\n",
    "        break\n",
    "    return lat, lon"
   ]
  },
  {
   "cell_type": "code",
   "execution_count": null,
   "metadata": {},
   "outputs": [],
   "source": [
    "def getCoords(trip, sulfixo, institutes, start_radius, step_radius, limit_radius, n_options = 3):\n",
    "    # Returns a dictionary with the latitude and longitude of the locations of interest\n",
    "    # The suffix is the name of the state, city and neighborhood that will be added to the end of each location to improve the search\n",
    "    # 'start_radius' is the initial radius of the search, 'step_radius' is the amount that will be added to the radius if the location is not found and 'limit_radius' is the maximum radius that will be used. After that, the student will choose not to leave the place he is at.\n",
    "    # 'n_options' is the number of options of places we ideally want to find to choose from. This only applies while the limit_radius is not exceeded\n",
    "    coords = {}\n",
    "    place = {}\n",
    "    importlib.reload(gmaps)\n",
    "    for i in range(len(trip)):\n",
    "        local = trip[f'{i + 7}']['location']\n",
    "        local_comp = local + \", \" + sulfixo\n",
    "\n",
    "        if local in coords.keys():\n",
    "            continue\n",
    "        \n",
    "        if local == 'home':\n",
    "            coords['home'] = (-22.821026, -47.072902)\n",
    "            continue\n",
    "        elif local in institutes:\n",
    "                result = gmaps.geocode_address(local_comp)\n",
    "                lat, lon = result[0]['latitude'], result[0]['longitude']\n",
    "        else:\n",
    "            found = True\n",
    "            print(f\"Looking for {local}...\", end='', flush=True)\n",
    "\n",
    "            # Stoting the previous location to use as a reference for the next search\n",
    "            previous = coords[trip[f'{i + 6}']['location']]\n",
    "            result = gmaps.find_nearby_building(previous[0], previous[1], local, radius=start_radius)\n",
    "            expanded = radius\n",
    "\n",
    "            # If the location is not found or there are less optios than expected, expand the search radius\n",
    "            while result is False or len(result) < n_options:\n",
    "                expanded += step_radius\n",
    "                if expanded > limit_radius:\n",
    "                    found = False\n",
    "                    break\n",
    "                \n",
    "                result = gmaps.find_nearby_building(previous[0], previous[1], local, radius=expanded)\n",
    "\n",
    "            if found == False:\n",
    "                result = [{'latitude': previous[0], 'longitude': previous[1]}]\n",
    "                place[f'{local}'] = trip[f'{i + 6}']['location']\n",
    "                flush_print()\n",
    "                print(f\"Could not find {local} in a radius of {limit_radius} meters. The student will not leave the place he is currently at.\")\n",
    "            else:\n",
    "                place[f'{local}'] = result[0]['name']\n",
    "                random.shuffle(result) # Randomize the results to avoid always getting the absolute closest building\n",
    "                lat, lon = result[0]['latitude'], result[0]['longitude']\n",
    "                flush_print()\n",
    "                print(f\"Found {len(result)} options for {local}: {[x['name'] for x in result]}\")\n",
    "                print(f\"\\033[1m{local} picked: {result[0]['name']} at {lat}, {lon}.\\033[0m\")\n",
    "\n",
    "        \n",
    "        coords[f'{local}'] = (lat, lon)\n",
    "        \n",
    "    return coords, place"
   ]
  },
  {
   "cell_type": "code",
   "execution_count": 92,
   "metadata": {},
   "outputs": [],
   "source": [
    "def coordsToTrip(trip, coords):\n",
    "    location_time = {}\n",
    "    home = coords['home'] # Gets a random home location for each student\n",
    "    last = home\n",
    "    location_time[7] = last\n",
    "    \n",
    "    for j in range(1, len(trip)):\n",
    "        local_coords = coords[trip[f'{j + 7}']['location']]\n",
    "        if local_coords != last:\n",
    "            location_time[j + 7] = local_coords\n",
    "            last = local_coords\n",
    "\n",
    "    return location_time"
   ]
  },
  {
   "cell_type": "markdown",
   "metadata": {},
   "source": [
    "Getting the latitude and longitude for each of the locations"
   ]
  },
  {
   "cell_type": "code",
   "execution_count": 93,
   "metadata": {},
   "outputs": [
    {
     "name": "stdout",
     "output_type": "stream",
     "text": [
      "Getting coords for trip 1:\n",
      "Found 5 options for restaurant: ['Feirinha da Unicamp', 'Restaurante da Casa do Professor Visitante', 'Pé de fruta - Romã', 'University Restaurant - Unicamp', 'Cantina do Bello']\n",
      "\u001b[1mrestaurant picked: Feirinha da Unicamp at -22.8172479, -47.06998939999999.\u001b[0m]\n",
      "Found 3 options for supermarket: ['Dia Supermercado', 'Cragea Cia Regional de Armazéns Gerais e Entrepostos Aduaneiros', 'Pão de Açúcar']\n",
      "\u001b[1msupermarket picked: Dia Supermercado at -22.8229842, -47.0782628.\u001b[0m]\n",
      "Found 5 options for gym: ['Ateliê Soma - Pilates • Dança • Fisioterapia Integrativa', 'KUMARA yoga e terapia', '[FT30 Online] | Método de Treinamento Funcional', 'Academia Cinética Fitness', 'RODA OM - CAMINHOS HOLÍSTICOS E MULTIDIMENSIONAIS']\n",
      "\u001b[1mgym picked: Ateliê Soma - Pilates • Dança • Fisioterapia Integrativa at -22.8246544, -47.0710826.\u001b[0m]\n",
      "\n",
      "Getting coords for trip 2:\n",
      "Found 5 options for restaurant: ['Pé de fruta - Romã', 'Feirinha da Unicamp', 'University Restaurant - Unicamp', 'Cantina do Bello', 'Restaurante da Casa do Professor Visitante']\n",
      "\u001b[1mrestaurant picked: Pé de fruta - Romã at -22.8092548, -47.0722767.\u001b[0m]\n",
      "Found 3 options for supermarket: ['Frutaria Rio das Pedras', 'Dia Supermercado', 'Cragea Cia Regional de Armazéns Gerais e Entrepostos Aduaneiros']\n",
      "\u001b[1msupermarket picked: Frutaria Rio das Pedras at -22.8044119, -47.07687869999999.\u001b[0m]\n",
      "Found 4 options for gym: ['Academia Figueiredo', 'Igor Couto Personal Trainer', 'Gym Center', 'Long Fit']\n",
      "\u001b[1mgym picked: Academia Figueiredo at -22.8057471, -47.0768843.\u001b[0m]\n",
      "\n",
      "Getting coords for trip 3:\n",
      "Found 3 options for cafe: ['LAGGIÙ COFFEE', 'Chalé Sonho Meu', 'Conveniência AmPm - Ipiranga']\n",
      "\u001b[1mcafe picked: LAGGIÙ COFFEE at -22.8248417, -47.0675971.\u001b[0m]\n",
      "Found 3 options for restaurant: ['Feirinha da Unicamp', 'Restaurante da Casa do Professor Visitante', 'Cantina do Bello']\n",
      "\u001b[1mrestaurant picked: Feirinha da Unicamp at -22.8172479, -47.06998939999999.\u001b[0m]\n",
      "Found 3 options for supermarket: ['Dia Supermercado', 'Pão de Açúcar', 'Pague Menos Supermarket']\n",
      "\u001b[1msupermarket picked: Dia Supermercado at -22.8229842, -47.0782628.\u001b[0m]\n",
      "Found 8 options for gym: ['Aqua And Cia Academy', 'Six Fitness Center', 'Zen Pilates Workshop - Barão Geraldo', 'Espaço Zen - Fisioterapia e Pilates', 'Jardim Aéreo', 'RODA OM - CAMINHOS HOLÍSTICOS E MULTIDIMENSIONAIS', 'Golden Fitness Academy', 'Work Wellness - Physical Functional Training Space']\n",
      "\u001b[1mgym picked: Aqua And Cia Academy at -22.8229823, -47.0813366.\u001b[0m]\n",
      "\n",
      "Getting coords for trip 4:\n",
      "Found 3 options for restaurant: ['Feirinha da Unicamp', 'Restaurante da Casa do Professor Visitante', 'Cantina do Bello']\n",
      "\u001b[1mrestaurant picked: Feirinha da Unicamp at -22.8172479, -47.06998939999999.\u001b[0m]\n",
      "Found 3 options for supermarket: ['Dia Supermercado', 'Pão de Açúcar', 'Cragea Cia Regional de Armazéns Gerais e Entrepostos Aduaneiros']\n",
      "\u001b[1msupermarket picked: Dia Supermercado at -22.8229842, -47.0782628.\u001b[0m]\n",
      "Found 3 options for cafe: ['Conveniência AmPm - Ipiranga', 'LAGGIÙ COFFEE', 'Chalé Sonho Meu']\n",
      "\u001b[1mcafe picked: Conveniência AmPm - Ipiranga at -22.8229061, -47.0706183.\u001b[0m]\n",
      "Found 4 options for gym: ['[FT30 Online] | Método de Treinamento Funcional', 'KUMARA yoga e terapia', 'Academia Cinética Fitness', 'Ateliê Soma - Pilates • Dança • Fisioterapia Integrativa']\n",
      "\u001b[1mgym picked: [FT30 Online] | Método de Treinamento Funcional at -22.8242997, -47.07093260000001.\u001b[0m]\n",
      "\n",
      "Getting coords for trip 5:\n",
      "Found 3 options for cafe: ['Conveniência AmPm - Ipiranga', 'Chalé Sonho Meu', 'LAGGIÙ COFFEE']\n",
      "\u001b[1mcafe picked: Conveniência AmPm - Ipiranga at -22.8229061, -47.0706183.\u001b[0m]\n",
      "Found 3 options for restaurant: ['Restaurante da Casa do Professor Visitante', 'Feirinha da Unicamp', 'Cantina do Bello']\n",
      "\u001b[1mrestaurant picked: Restaurante da Casa do Professor Visitante at -22.8122661, -47.0663524.\u001b[0m]\n",
      "Found 3 options for store: ['SEC Unicamp - Secretaria Executiva de Comunicação', 'OPEN AUTO PEÇAS', 'JetDash']\n",
      "\u001b[1mstore picked: SEC Unicamp - Secretaria Executiva de Comunicação at -22.8160184, -47.063895.\u001b[0m]\n",
      "Found 3 options for gym: ['Academia Sérgio Cavalcante', 'Yoga Shantivanam', 'Estúdio do Corpo']\n",
      "\u001b[1mgym picked: Academia Sérgio Cavalcante at -22.8090377, -47.0687294.\u001b[0m]\n",
      "\n"
     ]
    }
   ],
   "source": [
    "sufixo = \"Barão Geraldo, Campinas, SP, Brazil\"\n",
    "trips = {}\n",
    "location_time_list = []\n",
    "for i in range(len(responses)):\n",
    "    json_response = json.loads(responses[i])\n",
    "    trips[i] = json_response\n",
    "    print(f\"Getting coords for trip {i + 1}:\")\n",
    "    coords, names = getCoords(trips[i], sufixo, places['institute'], start_radius=400, step_radius=100, limit_radius=3000)\n",
    "    location_time_list.append(coordsToTrip(trips[i], coords))\n",
    "    print(\"\")\n"
   ]
  },
  {
   "cell_type": "markdown",
   "metadata": {},
   "source": [
    "Taking the locations and turning them into a XML trips, which are written to PATHGEN.trips.xml"
   ]
  },
  {
   "cell_type": "code",
   "execution_count": 94,
   "metadata": {},
   "outputs": [],
   "source": [
    "randomtrips_path = \"/usr/share/sumo/tools/randomTrips.py\"\n",
    "def randomtrips_getArgs(net_path, additional_path, v_class, n_trips):\n",
    "    args = [\n",
    "        \"-n\", net_path,\n",
    "        \"-o\", \"randtrips.trips.xml\",\n",
    "        \"-r\", \"randtrips.rou.xml\",\n",
    "        \"--additional\", additional_path,\n",
    "        \"--vclass\", v_class,\n",
    "        \"--vehicle-class\", v_class,\n",
    "        \"-e\", str(n_trips),\n",
    "        \"--validate\"\n",
    "    ]\n",
    "    return args"
   ]
  },
  {
   "cell_type": "code",
   "execution_count": 96,
   "metadata": {},
   "outputs": [],
   "source": [
    "def getRandomTrips(net_path, add_path, vclass, n_trips):\n",
    "    # Run the randomTrips.py to create the trips\n",
    "    subprocess.run(['python3', randomtrips_path] + randomtrips_getArgs(net_path, add_path, vclass, n_trips), check=True)"
   ]
  },
  {
   "cell_type": "code",
   "execution_count": 115,
   "metadata": {},
   "outputs": [],
   "source": [
    "def parseTripXML(location_time_list, parkingAreas, departure_times, styles, veh_types_per_student, n_vtypes=5, rand_trips=None):\n",
    "    # Creates the XML for the trips\n",
    "    # 'departure_times' is a list with the departure times for each trip\n",
    "    # 'styles' is a list with the styles of the vehicles. The current supported styles are \"agg\" for aggressive and \"norm\" for normal\n",
    "    # 'veh_types_per_student' is a list with the vehicle types for each student\n",
    "    # 'n_vtypes' is the number of vTypes created for each style\n",
    "    # 'rand_trips' is a file containing the random trips\n",
    "    \n",
    "    importlib.reload(vehParameters)\n",
    "\n",
    "    xml = '<routes xmlns:xsi=\"http://www.w3.org/2001/XMLSchema-instance\" xsi:noNamespaceSchemaLocation=\"http://sumo.dlr.de/xsd/routes_file.xsd\">\\n'\n",
    "\n",
    "    xml += '\\n<!-- BEGIN - LLM Generated trips -->\\n'\n",
    "\n",
    "    xml += '\\n<!-- Vehicles -->\\n'\n",
    "    vehdists = vehParameters.generateVehicleTypes(styles, n_vtypes)\n",
    "    xml += vehParameters.parseVehiclesXML(vehdists, styles)\n",
    "\n",
    "    xml += '\\n'\n",
    "    xml += '<!-- Trips -->\\n'\n",
    "    for i in range(len(location_time_list)):\n",
    "        path, stop_durations = getPath(location_time_list[i], parkingAreas)\n",
    "        xml += pathToXML(path, f'veh{i + 1}', veh_types_per_student[i], departure_times[i], stop_durations) + '\\n'\n",
    "\n",
    "    xml += '\\n\\n <!-- END - LLM Generated trips -->\\n\\n'\n",
    "\n",
    "    xml += '<!-- BEGIN - Random Trips -->\\n\\n'\n",
    "\n",
    "    if rand_trips:\n",
    "        start_read = False\n",
    "        with open(rand_trips, 'r') as f:\n",
    "            for line in f:\n",
    "                test = line.strip()\n",
    "                if test.startswith('<vType'):\n",
    "                    start_read = True\n",
    "                if start_read:\n",
    "                    if line.startswith('</routes>'):\n",
    "                        break\n",
    "                    xml += line\n",
    "\n",
    "    xml += '\\n</routes>'\n",
    "    \n",
    "    with open('PATHGEN.trips.xml', 'w') as f:\n",
    "        f.write(xml)\n",
    "    \n",
    "    return xml"
   ]
  },
  {
   "cell_type": "code",
   "execution_count": 130,
   "metadata": {},
   "outputs": [
    {
     "name": "stdout",
     "output_type": "stream",
     "text": [
      "Success.\n",
      "Success.\n"
     ]
    }
   ],
   "source": [
    "departure_times = []\n",
    "for i in range(len(location_time_list)):\n",
    "    departure_times.append((list(location_time_list[i].keys())[0] - 7) * 20)\n",
    "\n",
    "styles = [\"agg\", \"norm\"] # Currently only two styles, but can be expanded\n",
    "n_vtypes = 5 \n",
    "veh_style_per_student = []\n",
    "for i in range(len(location_time_list)):\n",
    "    if i < len(location_time_list) / 2:\n",
    "        veh_style_per_student.append('agg')\n",
    "    else: \n",
    "        veh_style_per_student.append('norm')   \n",
    "\n",
    "# IMPORTANT: If the desire is to generate alternative routes for the random trips, rand_trips must be set to randtrips.trips.xml, otherwise, the random_trips will be merged with the alternative routes for the LLM generated trips.\n",
    "# If rand_trips is set to None, the PATHGEN.rou.alt.xml file should be used in osm.sumocfg. Otherwise, the merged.rou.alt.xml file should be used.\n",
    "rand_trips = None\n",
    "getRandomTrips(net_path, add_path, \"passenger\", 500)\n",
    "xml = parseTripXML(location_time_list, parkingAreas, departure_times, styles, veh_style_per_student, n_vtypes, rand_trips=rand_trips)"
   ]
  },
  {
   "cell_type": "markdown",
   "metadata": {},
   "source": [
    "Getting alternative routes for every route found"
   ]
  },
  {
   "cell_type": "code",
   "execution_count": 131,
   "metadata": {},
   "outputs": [],
   "source": [
    "## Arguments to get alternative routes\n",
    "duaiterate_path = \"/usr/share/sumo/tools/assign/duaIterate.py\"\n",
    "def duaiterate_getArgs(net_path, trips_path, additional_path, iterations):\n",
    "    args = [\n",
    "        \"-n\", net_path,\n",
    "        \"-t\", trips_path,\n",
    "        \"--additional\", additional_path,\n",
    "        \"duarouter--additional-files\", additional_path,\n",
    "        \"-l\", str(iterations),\n",
    "    ]\n",
    "    return args"
   ]
  },
  {
   "cell_type": "code",
   "execution_count": 132,
   "metadata": {},
   "outputs": [],
   "source": [
    "def getAltRoutes(net_path, trips_path, additional_path, iterations):\n",
    "    # Run the duarouter to find alternative routes\n",
    "    # Currently this only works for less than 10 iterations because of file naming\n",
    "    for file in os.listdir('.'):\n",
    "        if file.startswith('PATHGEN_') and file.endswith('.rou.alt.xml'):\n",
    "            os.remove(file)\n",
    "    \n",
    "    try:\n",
    "        subprocess.run(['python3', duaiterate_path] + duaiterate_getArgs(net_path, trips_path, additional_path, iterations), check=True)\n",
    "        shutil.move(f'00{iterations-1}/PATHGEN_00{iterations-1}.rou.alt.xml', f'PATHGEN_00{iterations-1}.rou.alt.xml')\n",
    "        for i in range(iterations):\n",
    "            if os.path.exists(f'00{i}'):\n",
    "                shutil.rmtree(f'00{i}')\n",
    "        for file in os.listdir('.'):\n",
    "            if file.startswith('PATHGEN_') and file.endswith('.rou.alt.xml'):\n",
    "                os.rename(file, f'PATHGEN.rou.alt.xml')\n",
    "    except subprocess.CalledProcessError as e:\n",
    "        print(f\"{e}\")"
   ]
  },
  {
   "cell_type": "code",
   "execution_count": 133,
   "metadata": {},
   "outputs": [
    {
     "name": "stdout",
     "output_type": "stream",
     "text": [
      "> Executing step 0\n",
      ">> Running router on PATHGEN.trips.xml\n",
      ">>> Begin time: 2024-11-22 15:56:34.129930\n",
      ">>> End time: 2024-11-22 15:56:34.925534\n",
      ">>> Duration: 0:00:00.795604\n",
      "<<\n",
      ">> Running simulation\n",
      ">>> Begin time: 2024-11-22 15:56:34.925644\n",
      ">>> End time: 2024-11-22 15:56:36.736949\n",
      ">>> Duration: 0:00:01.811305\n",
      "<<\n",
      "< Step 0 ended (duration: 0:00:02.607191)\n",
      "------------------\n",
      "\n",
      "> Executing step 1\n",
      ">> Running router on 000/PATHGEN_000.rou.alt.xml\n",
      ">>> Begin time: 2024-11-22 15:56:36.750060\n",
      ">>> End time: 2024-11-22 15:56:37.567149\n",
      ">>> Duration: 0:00:00.817089\n",
      "<<\n",
      ">> Running simulation\n",
      ">>> Begin time: 2024-11-22 15:56:37.567247\n",
      ">>> End time: 2024-11-22 15:56:39.256528\n",
      ">>> Duration: 0:00:01.689281\n",
      "<<\n",
      "< Step 1 ended (duration: 0:00:02.506655)\n",
      "------------------\n",
      "\n",
      "> Executing step 2\n",
      ">> Running router on 001/PATHGEN_001.rou.alt.xml\n",
      ">>> Begin time: 2024-11-22 15:56:39.269652\n",
      ">>> End time: 2024-11-22 15:56:40.042324\n",
      ">>> Duration: 0:00:00.772672\n",
      "<<\n",
      ">> Running simulation\n",
      ">>> Begin time: 2024-11-22 15:56:40.042420\n",
      ">>> End time: 2024-11-22 15:56:41.725460\n",
      ">>> Duration: 0:00:01.683040\n",
      "<<\n",
      "< Step 2 ended (duration: 0:00:02.456004)\n",
      "------------------\n",
      "\n",
      "dua-iterate ended (duration: 0:00:07.608701)\n"
     ]
    }
   ],
   "source": [
    "getAltRoutes(net_path, 'PATHGEN.trips.xml', add_path, 3)"
   ]
  },
  {
   "cell_type": "markdown",
   "metadata": {},
   "source": [
    "To use this file, just set PATHGEN.rou.alt.xml as a trips file in osm.sumocfg"
   ]
  },
  {
   "cell_type": "markdown",
   "metadata": {},
   "source": [
    "If there is no need to generate alternative router for the random trips, the following XML parser must be used to add them:"
   ]
  },
  {
   "cell_type": "code",
   "execution_count": 134,
   "metadata": {},
   "outputs": [],
   "source": [
    "def merge_routes(alternative_routes, random_routes):\n",
    "    # Merges two route files into one\n",
    "    \n",
    "    xml = '<routes xmlns:xsi=\"http://www.w3.org/2001/XMLSchema-instance\" xsi:noNamespaceSchemaLocation=\"http://sumo.dlr.de/xsd/routes_file.xsd\">\\n'\n",
    "\n",
    "    xml += '\\n<!-- BEGIN - LLM Generated trips -->\\n'\n",
    "\n",
    "    with open(alternative_routes, 'r') as f:\n",
    "        start_read = False\n",
    "        for line in f:\n",
    "            test = line.strip()\n",
    "            if test.startswith('<vType'):\n",
    "                start_read = True\n",
    "            if start_read:\n",
    "                if line.startswith('</routes>'):\n",
    "                    break\n",
    "                xml += line\n",
    "\n",
    "    xml += '\\n\\n <!-- END - LLM Generated trips -->\\n\\n'\n",
    "\n",
    "    xml += '<!-- BEGIN - Random Trips -->\\n\\n'\n",
    "\n",
    "    with open(random_routes, 'r') as f:\n",
    "        start_read = False\n",
    "        for line in f:\n",
    "            test = line.strip()\n",
    "            if test.startswith('<vType'):\n",
    "                start_read = True\n",
    "            if start_read:\n",
    "                xml += line\n",
    "\n",
    "    with open('merged.rou.alt.xml', 'w') as f:\n",
    "        f.write(xml)\n",
    "    \n",
    "    return xml    "
   ]
  },
  {
   "cell_type": "code",
   "execution_count": 135,
   "metadata": {},
   "outputs": [],
   "source": [
    "# If alternative routes for random trips were ignored, the 'merged.rou.alt.xml' file will be created and should be used in osm.sumocfg\n",
    "if rand_trips == None:\n",
    "    merge_routes('PATHGEN.rou.alt.xml', 'randtrips.rou.xml')"
   ]
  },
  {
   "cell_type": "markdown",
   "metadata": {},
   "source": []
  }
 ],
 "metadata": {
  "kernelspec": {
   "display_name": "Python 3",
   "language": "python",
   "name": "python3"
  },
  "language_info": {
   "codemirror_mode": {
    "name": "ipython",
    "version": 3
   },
   "file_extension": ".py",
   "mimetype": "text/x-python",
   "name": "python",
   "nbconvert_exporter": "python",
   "pygments_lexer": "ipython3",
   "version": "3.10.12"
  }
 },
 "nbformat": 4,
 "nbformat_minor": 2
}
