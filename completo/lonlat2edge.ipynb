{
 "cells": [
  {
   "cell_type": "code",
   "execution_count": 41,
   "metadata": {},
   "outputs": [],
   "source": [
    "import os\n",
    "import sys\n",
    "if 'SUMO_HOME' in os.environ:\n",
    "    sys.path.append(os.path.join(os.environ['SUMO_HOME'], 'tools'))\n",
    "import sumolib\n",
    "import requests"
   ]
  },
  {
   "cell_type": "code",
   "execution_count": 37,
   "metadata": {},
   "outputs": [],
   "source": [
    "net = sumolib.net.readNet('osm.net.xml')\n",
    "radius = 20"
   ]
  },
  {
   "cell_type": "code",
   "execution_count": 38,
   "metadata": {},
   "outputs": [],
   "source": [
    "def getClosestEdge(lat, lon, radius):\n",
    "    x, y = net.convertLonLat2XY(lon, lat)\n",
    "    edges = net.getNeighboringEdges(x, y, radius)\n",
    "    closestEdge = None\n",
    "    if (len(edges) > 0):\n",
    "        distanceAndEdges = sorted([(dist, edge) for edge, dist in edges], key=lambda x:x[0])\n",
    "        dist, closestEdge = distanceAndEdges[0]\n",
    "    \n",
    "    return closestEdge"
   ]
  },
  {
   "cell_type": "markdown",
   "metadata": {},
   "source": [
    "Obtendo a aresta mais próxima do IC, nomeada \"IC\" para iniciar o caminho"
   ]
  },
  {
   "cell_type": "code",
   "execution_count": 39,
   "metadata": {},
   "outputs": [
    {
     "name": "stdout",
     "output_type": "stream",
     "text": [
      "<edge id=\"IC\" from=\"893759868\" to=\"6496075112\"/>\n"
     ]
    }
   ],
   "source": [
    "lat, lon = -22.813344, -47.063667 # Lat, Lon do IC\n",
    "edge = getClosestEdge(lat, lon, radius)\n",
    "print(edge)"
   ]
  },
  {
   "cell_type": "markdown",
   "metadata": {},
   "source": [
    "Obtendo a aresta mais próxima da FEEC, nomeada \"FEEC\" para terminar o caminho"
   ]
  },
  {
   "cell_type": "code",
   "execution_count": 40,
   "metadata": {},
   "outputs": [
    {
     "name": "stdout",
     "output_type": "stream",
     "text": [
      "<edge id=\"FEEC\" from=\"cluster_10123122499_10123122500_10123122501_10123122502_#6more\" to=\"cluster_10125157367_10125157368_11638423916_913720979\"/>\n"
     ]
    }
   ],
   "source": [
    "lat, lon = lat, lon = -22.820788, -47.066489 # Lat, Lon da FEEC\n",
    "edge = getClosestEdge(lat, lon, radius)\n",
    "print(edge)"
   ]
  },
  {
   "cell_type": "code",
   "execution_count": null,
   "metadata": {},
   "outputs": [],
   "source": []
  }
 ],
 "metadata": {
  "kernelspec": {
   "display_name": "Python 3",
   "language": "python",
   "name": "python3"
  },
  "language_info": {
   "codemirror_mode": {
    "name": "ipython",
    "version": 3
   },
   "file_extension": ".py",
   "mimetype": "text/x-python",
   "name": "python",
   "nbconvert_exporter": "python",
   "pygments_lexer": "ipython3",
   "version": "3.10.12"
  }
 },
 "nbformat": 4,
 "nbformat_minor": 2
}
